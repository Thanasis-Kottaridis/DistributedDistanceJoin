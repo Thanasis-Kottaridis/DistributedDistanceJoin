{
 "cells": [
  {
   "cell_type": "markdown",
   "source": [
    "# Simiosis gia Grid\n",
    "- o skopos tou na dimiourgisw ena grid einai gia na miosw kata poli to sinolo ton simion sto disance join\n",
    "- auto epitinxanete ftiaxnontas ena MBB pernontas ta min ton max(x,y) kai apo ta 2 data sets kathos kai ta max apo ta min(x,y) me tin logiki oti osa simia einai ektos tou min max x enos apo ta 2 dataset den ikanopoioun tin sinthiki theta.\n",
    "- stin sinexia tha prepei na kanw spatial join to grid kai me ta 2 datasets gia na vrw se poio grid paei kathe simio\n",
    "- meta tha aporipsw osa grids den exoun kanena\n",
    "\n",
    "### Xrisima stixia na periexei ena grid\n",
    "- gridId\n",
    "- polygon\n",
    "- TODO Check id x an y needed for partitioning reasons\n",
    "\n",
    "### Idea gia grid filtering\n",
    "- Na kanw spatial join mono sto dataset me ta ligotera simia prokimenou na filtrarw ta grids pou den exeoun kanena simio apo to Dataset auto\n",
    "- Me auton ton tropo epitinxanw na kanw mikrotero spatial join sto dataset me tis perisoteres eggrafes\n",
    "- auto vasizete sto"
   ],
   "metadata": {
    "collapsed": false
   }
  },
  {
   "cell_type": "markdown",
   "source": [
    "# Simiosis gia partitioning\n",
    "- prepei na xorisw ta data mou se ola ta mixanimata prin ksekinisw to spatial join\n",
    "- episis prepei na xorisw kai ta grids omiomorfa se ola ta mixanimata\n",
    "- enas tropos gia na ta xorisw tha mporouse na einai to X. Diladi na vrw ta max kai min X kai paota 2 datasets gia na vrw to rangekai na kanw range partition os pros x gia ta points\n",
    "- gia ta grids apo tin all tha eprepe na kanw partition os pros to max X tous oste na simenei oti oti grid einai sto partition exei points mono sto partition auto.\n",
    "- me auton ton tropo epitinxanoume na exoume ta points kai ta grids tous mirasmena ana mixanima kai na empodisoume tis metakinisis sto diktio\n",
    "\n",
    "### Pws to kanw auto?\n",
    "- prepei na dw pws douleui to pratitioning\n",
    "- pos simperiferete to join sto partitioning\n",
    "- prepei na dw an ipostirizei kati tetoio i vivliothiki"
   ],
   "metadata": {
    "collapsed": false
   }
  },
  {
   "cell_type": "markdown",
   "source": [
    "## Imports"
   ],
   "metadata": {
    "collapsed": false
   }
  },
  {
   "cell_type": "code",
   "execution_count": 6,
   "outputs": [],
   "source": [
    "# Main  Imports\n",
    "import numpy as np\n",
    "import geopandas as gpd\n",
    "import matplotlib.pyplot as plt\n",
    "from IPython.core.display import display\n",
    "import time\n",
    "\n",
    "# Local App Imports\n",
    "from utils import spatialUtils as utils\n",
    "\n",
    "# Spark Imports\n",
    "from pyspark.sql import SparkSession\n",
    "from pyspark.sql import Row\n",
    "from pyspark.sql import functions as F\n",
    "from pyspark.sql import SQLContext\n",
    "from pyspark.sql.types import StructType,StructField, StringType, IntegerType, DataType\n",
    "\n",
    "\n",
    "# Sedona Imports\n",
    "from sedona.utils import KryoSerializer, SedonaKryoRegistrator\n",
    "from sedona.register import SedonaRegistrator\n",
    "from sedona.sql.types import GeometryType\n",
    "\n",
    "# Python shapely imports\n",
    "import shapely.geometry as sg\n",
    "from descartes import PolygonPatch\n",
    "import geog\n",
    "import shapely.speedups\n",
    "shapely.speedups.enable() # this makes some spatial queries run faster"
   ],
   "metadata": {
    "collapsed": false,
    "pycharm": {
     "name": "#%%\n"
    }
   }
  },
  {
   "cell_type": "markdown",
   "source": [
    "## Load Dataset"
   ],
   "metadata": {
    "collapsed": false
   }
  },
  {
   "cell_type": "code",
   "execution_count": 7,
   "outputs": [
    {
     "name": "stdout",
     "output_type": "stream",
     "text": [
      "+---+--------------------+----------+---------+\n",
      "|_c0|                 _id|         X|        Y|\n",
      "+---+--------------------+----------+---------+\n",
      "|  0|60039bef2bc024099...|  -4.50088| 48.35698|\n",
      "|  1|60039b8f2bc024099...|-4.4970617|48.379555|\n",
      "|  2|60039b9c2bc024099...|-4.4137635| 48.15062|\n",
      "|  3|60039bef2bc024099...| -4.500963|48.356915|\n",
      "|  4|60039bbe2bc024099...| -4.474253|48.341007|\n",
      "|  5|60039bef2bc024099...| -4.501045|48.356842|\n",
      "|  6|60039a6c2bc024099...| -4.497015|48.382206|\n",
      "|  7|60039c032bc024099...|  -4.56926| 48.13976|\n",
      "|  8|60039e032bc024099...| -4.476655| 48.38109|\n",
      "|  9|60039bef2bc024099...| -4.501128|48.356773|\n",
      "+---+--------------------+----------+---------+\n",
      "only showing top 10 rows\n",
      "\n",
      "+---+--------------------+----------+---------+\n",
      "|_c0|                 _id|         X|        Y|\n",
      "+---+--------------------+----------+---------+\n",
      "|  0|600399bc2bc024099...|-4.5935817| 48.13648|\n",
      "|  1|60039df12bc024099...| -4.758715| 48.06632|\n",
      "|  2|60039bbe2bc024099...| -4.472955|48.340054|\n",
      "|  3|60039e102bc024099...| -4.678545|48.304527|\n",
      "|  4|600399bc2bc024099...|  -4.59364| 48.13646|\n",
      "|  5|60039c032bc024099...|  -4.44887| 48.38294|\n",
      "|  6|60039c032bc024099...| -4.592973|48.134605|\n",
      "|  7|60039b9c2bc024099...| -4.462722| 48.13622|\n",
      "|  8|60039e512bc024099...|-4.4783816| 48.34225|\n",
      "|  9|60039a5a2bc024099...| -4.445865|48.135105|\n",
      "+---+--------------------+----------+---------+\n",
      "only showing top 10 rows\n",
      "\n"
     ]
    }
   ],
   "source": [
    "# full program timer\n",
    "total_time = time.time()\n",
    "\n",
    "test_sample_A_path = \"../../testData/ais_one_hour.csv\"\n",
    "test_sample_B_path = \"../../testData/ais_one_hour2.csv\"\n",
    "\n",
    "# test_sample_path = \"../testData/ais_one_month.csv\"\n",
    "\n",
    "\n",
    "# create sedona spark session\n",
    "spark = SparkSession. \\\n",
    "    builder. \\\n",
    "    appName('appName'). \\\n",
    "    config(\"spark.serializer\", KryoSerializer.getName). \\\n",
    "    config(\"spark.kryo.registrator\", SedonaKryoRegistrator.getName). \\\n",
    "    config('spark.jars.packages',\n",
    "           'org.apache.sedona:sedona-python-adapter-3.0_2.12:1.0.0-incubating,'\n",
    "           'org.datasyslab:geotools-wrapper:geotools-24.0'). \\\n",
    "    getOrCreate()\n",
    "\n",
    "SedonaRegistrator.registerAll(spark)\n",
    "\n",
    "# Load CSV File\n",
    "df_a = spark.read.csv(header=\"True\", inferSchema=\"True\", path=test_sample_A_path)\n",
    "df_a.show(10)\n",
    "\n",
    "df_b = spark.read.csv(header=\"True\", inferSchema=\"True\", path=test_sample_B_path)\n",
    "df_b.show(10)"
   ],
   "metadata": {
    "collapsed": false,
    "pycharm": {
     "name": "#%%\n"
    }
   }
  },
  {
   "cell_type": "markdown",
   "source": [
    "## Filter Dataset for Test Reasons\n",
    "- arxika tha periorisoume to dataset stin perioxi x[-6.5,-5] kai y[47.5,49]\n",
    "- epilegw auto gt kserw oti exei arketa pings"
   ],
   "metadata": {
    "collapsed": false
   }
  },
  {
   "cell_type": "code",
   "execution_count": 8,
   "outputs": [
    {
     "name": "stdout",
     "output_type": "stream",
     "text": [
      "Total filtered_df_a count 3947\n",
      "+---+--------------------+----------+---------+\n",
      "|_c0|                 _id|         X|        Y|\n",
      "+---+--------------------+----------+---------+\n",
      "|327|600398982bc024099...|-5.3580885|48.242325|\n",
      "|336|600398982bc024099...|  -5.35809| 48.24246|\n",
      "|344|600398982bc024099...|-5.2571135|48.911697|\n",
      "|347|600398982bc024099...|  -5.35812|48.242634|\n",
      "|360|600398982bc024099...| -5.256787|48.911823|\n",
      "|364|600398982bc024099...|-5.3581185|48.242775|\n",
      "|375|600398982bc024099...|  -5.35816| 48.24309|\n",
      "|383|600398982bc024099...|-5.3581834| 48.24318|\n",
      "|391|600398982bc024099...|  -5.35819|48.243317|\n",
      "|398|60039a502bc024099...| -5.062145|48.272755|\n",
      "+---+--------------------+----------+---------+\n",
      "only showing top 10 rows\n",
      "\n",
      "Dataset A count: 3947\n",
      "Total filtered_df_a count 9136\n",
      "+---+--------------------+----------+---------+\n",
      "|_c0|                 _id|         X|        Y|\n",
      "+---+--------------------+----------+---------+\n",
      "|339|60039e1a2bc024099...|  -5.09831| 47.67781|\n",
      "|349|60039e2e2bc024099...| -6.094712| 48.14715|\n",
      "|351|60039e2b2bc024099...|-5.7354116| 47.65143|\n",
      "|353|60039e472bc024099...|-6.1282716|48.171337|\n",
      "|355|60039e4d2bc024099...|-6.3410482|48.225983|\n",
      "|358|60039e1a2bc024099...| -5.098467|47.678173|\n",
      "|360|60039e172bc024099...|  -6.35507|48.175346|\n",
      "|361|60039e472bc024099...|  -6.12808|48.171555|\n",
      "|362|60039e512bc024099...| -6.214113|48.104305|\n",
      "|368|60039a5a2bc024099...|-5.9370184| 48.19845|\n",
      "+---+--------------------+----------+---------+\n",
      "only showing top 10 rows\n",
      "\n",
      "Dataset B count: 9136\n"
     ]
    }
   ],
   "source": [
    "df_a = df_a.filter( (-6 <= df_a.X) & (df_a.X <= -5) & (47.5 <= df_a.Y) & (df_a.Y <= 49))\n",
    "print(\"Total filtered_df_a count {}\".format(df_a.count()))\n",
    "df_a.show(10)\n",
    "print(\"Dataset A count: {}\".format(df_a.count()))\n",
    "\n",
    "df_b = df_b.filter( (-6.5 <= df_b.X) & (df_b.X <= -5) & (47.5 <= df_b.Y) & (df_b.Y <= 49))\n",
    "print(\"Total filtered_df_a count {}\".format(df_b.count()))\n",
    "df_b.show(10)\n",
    "print(\"Dataset B count: {}\".format(df_b.count()))"
   ],
   "metadata": {
    "collapsed": false,
    "pycharm": {
     "name": "#%%\n"
    }
   }
  },
  {
   "cell_type": "markdown",
   "source": [
    "## Grid Dataset\n",
    "Lets create a test grid\n",
    "- We have to finde the MBB of the dataset\n",
    "- Then we have to create a grid for this dataset (**sos** each grid side has to be equal to theta)"
   ],
   "metadata": {
    "collapsed": false
   }
  },
  {
   "cell_type": "code",
   "execution_count": 9,
   "outputs": [
    {
     "name": "stdout",
     "output_type": "stream",
     "text": [
      "print mbb: Row(max(X)=-5.000282, min(X)=-5.998073, max(Y)=48.99865, min(Y)=47.53428)\n",
      "print mbb: Row(max(X)=-5.00002, min(X)=-6.477053, max(Y)=48.98196, min(Y)=47.500065)\n",
      "grid len: 408\n",
      "--- 0.6707088947296143 seconds ---\n"
     ]
    }
   ],
   "source": [
    "cell_time = time.time()\n",
    "\n",
    "# find min/max X,Y from dataset A\n",
    "mbb_row_a = df_a.agg(\n",
    "    F.max(df_a.X),\n",
    "    F.min(df_a.X),\n",
    "    F.max(df_a.Y),\n",
    "    F.min(df_a.Y),\n",
    ").collect()[0]\n",
    "print(\"print mbb: {}\".format(mbb_row_a))\n",
    "\n",
    "# find min/max X,Y from dataset B\n",
    "mbb_row_b = df_b.agg(\n",
    "    F.max(df_b.X),\n",
    "    F.min(df_b.X),\n",
    "    F.max(df_b.Y),\n",
    "    F.min(df_b.Y),\n",
    ").collect()[0]\n",
    "print(\"print mbb: {}\".format(mbb_row_b))\n",
    "\n",
    "# find minimum bounding GRID box from 2 datasets\n",
    "min_x = max(mbb_row_a[\"min(X)\"], mbb_row_b[\"min(X)\"])\n",
    "max_x = min(mbb_row_a[\"max(X)\"], mbb_row_b[\"max(X)\"])\n",
    "min_y = max(mbb_row_a[\"min(Y)\"], mbb_row_b[\"min(Y)\"])\n",
    "max_y = min(mbb_row_a[\"max(Y)\"], mbb_row_b[\"max(Y)\"])\n",
    "\n",
    "#calculate grid for dataset\n",
    "grid = utils.getPolyGrid(min_x,min_y,max_x,max_y, theta=10)\n",
    "print(\"grid len: {}\".format(len(grid)))\n",
    "\n",
    "print(\"--- %s seconds ---\" % (time.time() - cell_time))\n"
   ],
   "metadata": {
    "collapsed": false,
    "pycharm": {
     "name": "#%%\n"
    }
   }
  },
  {
   "cell_type": "markdown",
   "source": [
    "## Plot Grid And Points"
   ],
   "metadata": {
    "collapsed": false
   }
  },
  {
   "cell_type": "code",
   "execution_count": 10,
   "outputs": [
    {
     "data": {
      "text/plain": "<Figure size 720x432 with 1 Axes>",
      "image/png": "[encoded data removed]"
     },
     "metadata": {
      "needs_background": "light"
     },
     "output_type": "display_data"
    }
   ],
   "source": [
    "# print grids\n",
    "ax = utils.createAXNFigure(coastline_path=\"../../testData/EuropeanCoastline/Europe Coastline (Polygone).shp\")\n",
    "BLUE = '#6699cc'\n",
    "GRAY = '#999999'\n",
    "for cell in grid:\n",
    "    grid_poly = utils.createPolyFromPoints(cell[\"grid_minX\"], cell[\"grid_maxX\"], cell[\"grid_minY\"], cell[\"grid_maxY\"])\n",
    "    exp_grid = utils.createPolyFromPoints(cell[\"exp_grid_minX\"], cell[\"exp_grid_maxX\"], cell[\"exp_grid_minY\"], cell[\"exp_grid_maxY\"])\n",
    "\n",
    "    ax.add_patch(PolygonPatch(exp_grid, fc='y', ec=\"y\", alpha=0.1, zorder=2))\n",
    "    ax.add_patch(PolygonPatch(grid_poly, fc=GRAY, ec=GRAY, alpha=0.8, zorder=2))\n",
    "\n",
    "for row in df_a.collect():\n",
    "  ax.plot(row.X, row.Y, marker='o', markersize=2, alpha=0.3, c='r')\n",
    "\n",
    "for row in df_b.collect():\n",
    "  ax.plot(row.X, row.Y, marker='x', markersize=2, alpha=0.3, c='b')\n",
    "\n",
    "\n",
    "plt.ylabel(\"Latitude\")\n",
    "plt.xlabel(\"Longitude\")\n",
    "plt.show()"
   ],
   "metadata": {
    "collapsed": false,
    "pycharm": {
     "name": "#%%\n"
    }
   }
  },
  {
   "cell_type": "markdown",
   "source": [
    "## Create Grid RDD or DF"
   ],
   "metadata": {
    "collapsed": false
   }
  },
  {
   "cell_type": "code",
   "execution_count": 11,
   "outputs": [
    {
     "name": "stdout",
     "output_type": "stream",
     "text": [
      "root\n",
      " |-- exp_grid_maxX: double (nullable = true)\n",
      " |-- exp_grid_maxY: double (nullable = true)\n",
      " |-- exp_grid_minX: double (nullable = true)\n",
      " |-- exp_grid_minY: double (nullable = true)\n",
      " |-- grid_id: long (nullable = true)\n",
      " |-- grid_maxX: double (nullable = true)\n",
      " |-- grid_maxY: double (nullable = true)\n",
      " |-- grid_minX: double (nullable = true)\n",
      " |-- grid_minY: double (nullable = true)\n",
      "\n",
      "StructType(List(StructField(exp_grid_maxX,DoubleType,true),StructField(exp_grid_maxY,DoubleType,true),StructField(exp_grid_minX,DoubleType,true),StructField(exp_grid_minY,DoubleType,true),StructField(grid_id,LongType,true),StructField(grid_maxX,DoubleType,true),StructField(grid_maxY,DoubleType,true),StructField(grid_minX,DoubleType,true),StructField(grid_minY,DoubleType,true)))\n",
      "+-------------+-------------+-------------+-------------+-------+---------+---------+---------+---------+\n",
      "|exp_grid_maxX|exp_grid_maxY|exp_grid_minX|exp_grid_minY|grid_id|grid_maxX|grid_maxY|grid_minX|grid_minY|\n",
      "+-------------+-------------+-------------+-------------+-------+---------+---------+---------+---------+\n",
      "|     -5.79729|     49.08939|     -6.13515|     48.84582|      0| -5.93437| 48.99946| -5.99807| 48.93575|\n",
      "|     -5.79747|     49.02569|     -6.13498|     48.78212|      1| -5.93437| 48.93575| -5.99807| 48.87205|\n",
      "|     -5.79764|     48.96198|      -6.1348|     48.71841|      2| -5.93437| 48.87205| -5.99807| 48.80835|\n",
      "|     -5.79782|     48.89828|     -6.13463|     48.65471|      3| -5.93437| 48.80835| -5.99807| 48.74464|\n",
      "|     -5.79799|     48.83458|     -6.13445|     48.59101|      4| -5.93437| 48.74464| -5.99807| 48.68094|\n",
      "|     -5.79816|     48.77087|     -6.13428|      48.5273|      5| -5.93437| 48.68094| -5.99807| 48.61724|\n",
      "|     -5.79833|     48.70717|     -6.13411|      48.4636|      6| -5.93437| 48.61724| -5.99807| 48.55353|\n",
      "|      -5.7985|     48.64347|     -6.13394|      48.3999|      7| -5.93437| 48.55353| -5.99807| 48.48983|\n",
      "|     -5.79867|     48.57976|     -6.13377|     48.33619|      8| -5.93437| 48.48983| -5.99807| 48.42613|\n",
      "|     -5.79885|     48.51606|      -6.1336|     48.27249|      9| -5.93437| 48.42613| -5.99807| 48.36242|\n",
      "+-------------+-------------+-------------+-------------+-------+---------+---------+---------+---------+\n",
      "only showing top 10 rows\n",
      "\n"
     ]
    }
   ],
   "source": [
    "grid_df = spark.createDataFrame(grid)\n",
    "grid_df.printSchema()\n",
    "print(grid_df.schema)\n",
    "grid_df.show(10)\n",
    "\n",
    "gpd_grid_df = gpd.GeoDataFrame(grid)"
   ],
   "metadata": {
    "collapsed": false,
    "pycharm": {
     "name": "#%%\n"
    }
   }
  },
  {
   "cell_type": "markdown",
   "source": [
    "## Link Points tou Grids\n",
    "- **Approach 1:** Test databricks code for spatial join from link\n",
    "- **Approach 2:** perform spatial join in order to link points with grids"
   ],
   "metadata": {
    "collapsed": false
   }
  },
  {
   "cell_type": "markdown",
   "source": [
    "### Approach 1"
   ],
   "metadata": {
    "collapsed": false
   }
  },
  {
   "cell_type": "markdown",
   "source": [
    "def find_intersection(longitude, latitude):\n",
    "    # row = grid_df.collect()[0]\n",
    "    # print(row)\n",
    "    mgdf = gpd_grid_df.apply(lambda x: x.grid_id if x.geometry.intersects(sg.Point(longitude, latitude)) else None, axis=1)\n",
    "    idx = mgdf.first_valid_index()\n",
    "    first_valid_value = mgdf.loc[idx] if idx is not None else None\n",
    "    return int(first_valid_value)\n",
    "\n",
    "find_intersection_udf = F.udf(find_intersection, IntegerType())\n"
   ],
   "metadata": {
    "collapsed": false
   }
  },
  {
   "cell_type": "markdown",
   "source": [
    "cell_time = time.time()\n",
    "\n",
    "joined = df_a.withColumn(\"cell_id\", find_intersection_udf(df_a.X, df_a.Y))\n",
    "joined.show(10)\n",
    "\n",
    "print(\"--- %s seconds ---\" % (time.time() - cell_time))"
   ],
   "metadata": {
    "collapsed": false
   }
  },
  {
   "cell_type": "markdown",
   "source": [
    "### Approach 2"
   ],
   "metadata": {
    "collapsed": false
   }
  },
  {
   "cell_type": "code",
   "execution_count": 12,
   "outputs": [],
   "source": [
    "def createPoints(longitude, latitude):\n",
    "  return sg.Point(longitude, latitude)\n",
    "\n",
    "createPoints_udf = F.udf(createPoints,GeometryType())"
   ],
   "metadata": {
    "collapsed": false,
    "pycharm": {
     "name": "#%%\n"
    }
   }
  },
  {
   "cell_type": "code",
   "execution_count": 13,
   "outputs": [
    {
     "ename": "AnalysisException",
     "evalue": "cannot resolve '`G.geometry`' given input columns: [P.X, P.Y, P._c0, P._id, G.exp_grid_maxX, G.exp_grid_maxY, G.exp_grid_minX, G.exp_grid_minY, P.geometry, G.grid_id, G.grid_maxX, G.grid_maxY, G.grid_minX, G.grid_minY]; line 4 pos 40;\n'Project ['P._id, 'P.X, 'P.Y, 'P.geometry AS point_geometry#577, 'G.geometry AS grid_geometry#578, 'G.grid_id]\n+- 'Filter 'ST_Intersects(geometry#545, 'G.geometry)\n   +- Join Inner\n      :- SubqueryAlias P\n      :  +- SubqueryAlias points\n      :     +- Project [_c0#269, _id#270, X#271, Y#272, createPoints(X#271, Y#272) AS geometry#545]\n      :        +- Filter ((((X#271 >= cast(-6 as double)) AND (X#271 <= cast(-5 as double))) AND (Y#272 >= 47.5)) AND (Y#272 <= cast(49 as double)))\n      :           +- Relation[_c0#269,_id#270,X#271,Y#272] csv\n      +- SubqueryAlias G\n         +- SubqueryAlias grids\n            +- LogicalRDD [exp_grid_maxX#489, exp_grid_maxY#490, exp_grid_minX#491, exp_grid_minY#492, grid_id#493L, grid_maxX#494, grid_maxY#495, grid_minX#496, grid_minY#497], false\n",
     "output_type": "error",
     "traceback": [
      "\u001B[0;31m---------------------------------------------------------------------------\u001B[0m",
      "\u001B[0;31mAnalysisException\u001B[0m                         Traceback (most recent call last)",
      "\u001B[0;32m<ipython-input-13-2dd1d53720f6>\u001B[0m in \u001B[0;36m<module>\u001B[0;34m\u001B[0m\n\u001B[1;32m      8\u001B[0m \u001B[0mgrid_df\u001B[0m\u001B[0;34m.\u001B[0m\u001B[0mcreateOrReplaceTempView\u001B[0m\u001B[0;34m(\u001B[0m\u001B[0;34m\"grids\"\u001B[0m\u001B[0;34m)\u001B[0m\u001B[0;34m\u001B[0m\u001B[0;34m\u001B[0m\u001B[0m\n\u001B[1;32m      9\u001B[0m \u001B[0;34m\u001B[0m\u001B[0m\n\u001B[0;32m---> 10\u001B[0;31m spatial_join_result = spark.sql(\n\u001B[0m\u001B[1;32m     11\u001B[0m     \"\"\"\n\u001B[1;32m     12\u001B[0m         \u001B[0mSELECT\u001B[0m \u001B[0mP\u001B[0m\u001B[0;34m.\u001B[0m\u001B[0m_id\u001B[0m\u001B[0;34m,\u001B[0m \u001B[0mP\u001B[0m\u001B[0;34m.\u001B[0m\u001B[0mX\u001B[0m\u001B[0;34m,\u001B[0m \u001B[0mP\u001B[0m\u001B[0;34m.\u001B[0m\u001B[0mY\u001B[0m\u001B[0;34m,\u001B[0m \u001B[0mP\u001B[0m\u001B[0;34m.\u001B[0m\u001B[0mgeometry\u001B[0m \u001B[0;32mas\u001B[0m \u001B[0mpoint_geometry\u001B[0m\u001B[0;34m,\u001B[0m  \u001B[0mG\u001B[0m\u001B[0;34m.\u001B[0m\u001B[0mgeometry\u001B[0m \u001B[0;32mas\u001B[0m \u001B[0mgrid_geometry\u001B[0m\u001B[0;34m,\u001B[0m \u001B[0mG\u001B[0m\u001B[0;34m.\u001B[0m\u001B[0mgrid_id\u001B[0m\u001B[0;34m\u001B[0m\u001B[0;34m\u001B[0m\u001B[0m\n",
      "\u001B[0;32m/usr/local/Cellar/apache-spark/3.1.1/libexec/python/pyspark/sql/session.py\u001B[0m in \u001B[0;36msql\u001B[0;34m(self, sqlQuery)\u001B[0m\n\u001B[1;32m    721\u001B[0m         \u001B[0;34m[\u001B[0m\u001B[0mRow\u001B[0m\u001B[0;34m(\u001B[0m\u001B[0mf1\u001B[0m\u001B[0;34m=\u001B[0m\u001B[0;36m1\u001B[0m\u001B[0;34m,\u001B[0m \u001B[0mf2\u001B[0m\u001B[0;34m=\u001B[0m\u001B[0;34m'row1'\u001B[0m\u001B[0;34m)\u001B[0m\u001B[0;34m,\u001B[0m \u001B[0mRow\u001B[0m\u001B[0;34m(\u001B[0m\u001B[0mf1\u001B[0m\u001B[0;34m=\u001B[0m\u001B[0;36m2\u001B[0m\u001B[0;34m,\u001B[0m \u001B[0mf2\u001B[0m\u001B[0;34m=\u001B[0m\u001B[0;34m'row2'\u001B[0m\u001B[0;34m)\u001B[0m\u001B[0;34m,\u001B[0m \u001B[0mRow\u001B[0m\u001B[0;34m(\u001B[0m\u001B[0mf1\u001B[0m\u001B[0;34m=\u001B[0m\u001B[0;36m3\u001B[0m\u001B[0;34m,\u001B[0m \u001B[0mf2\u001B[0m\u001B[0;34m=\u001B[0m\u001B[0;34m'row3'\u001B[0m\u001B[0;34m)\u001B[0m\u001B[0;34m]\u001B[0m\u001B[0;34m\u001B[0m\u001B[0;34m\u001B[0m\u001B[0m\n\u001B[1;32m    722\u001B[0m         \"\"\"\n\u001B[0;32m--> 723\u001B[0;31m         \u001B[0;32mreturn\u001B[0m \u001B[0mDataFrame\u001B[0m\u001B[0;34m(\u001B[0m\u001B[0mself\u001B[0m\u001B[0;34m.\u001B[0m\u001B[0m_jsparkSession\u001B[0m\u001B[0;34m.\u001B[0m\u001B[0msql\u001B[0m\u001B[0;34m(\u001B[0m\u001B[0msqlQuery\u001B[0m\u001B[0;34m)\u001B[0m\u001B[0;34m,\u001B[0m \u001B[0mself\u001B[0m\u001B[0;34m.\u001B[0m\u001B[0m_wrapped\u001B[0m\u001B[0;34m)\u001B[0m\u001B[0;34m\u001B[0m\u001B[0;34m\u001B[0m\u001B[0m\n\u001B[0m\u001B[1;32m    724\u001B[0m \u001B[0;34m\u001B[0m\u001B[0m\n\u001B[1;32m    725\u001B[0m     \u001B[0;32mdef\u001B[0m \u001B[0mtable\u001B[0m\u001B[0;34m(\u001B[0m\u001B[0mself\u001B[0m\u001B[0;34m,\u001B[0m \u001B[0mtableName\u001B[0m\u001B[0;34m)\u001B[0m\u001B[0;34m:\u001B[0m\u001B[0;34m\u001B[0m\u001B[0;34m\u001B[0m\u001B[0m\n",
      "\u001B[0;32m~/Documents/python /projects/DistributedDistanceJoin/lib/python3.8/site-packages/py4j/java_gateway.py\u001B[0m in \u001B[0;36m__call__\u001B[0;34m(self, *args)\u001B[0m\n\u001B[1;32m   1302\u001B[0m \u001B[0;34m\u001B[0m\u001B[0m\n\u001B[1;32m   1303\u001B[0m         \u001B[0manswer\u001B[0m \u001B[0;34m=\u001B[0m \u001B[0mself\u001B[0m\u001B[0;34m.\u001B[0m\u001B[0mgateway_client\u001B[0m\u001B[0;34m.\u001B[0m\u001B[0msend_command\u001B[0m\u001B[0;34m(\u001B[0m\u001B[0mcommand\u001B[0m\u001B[0;34m)\u001B[0m\u001B[0;34m\u001B[0m\u001B[0;34m\u001B[0m\u001B[0m\n\u001B[0;32m-> 1304\u001B[0;31m         return_value = get_return_value(\n\u001B[0m\u001B[1;32m   1305\u001B[0m             answer, self.gateway_client, self.target_id, self.name)\n\u001B[1;32m   1306\u001B[0m \u001B[0;34m\u001B[0m\u001B[0m\n",
      "\u001B[0;32m/usr/local/Cellar/apache-spark/3.1.1/libexec/python/pyspark/sql/utils.py\u001B[0m in \u001B[0;36mdeco\u001B[0;34m(*a, **kw)\u001B[0m\n\u001B[1;32m    115\u001B[0m                 \u001B[0;31m# Hide where the exception came from that shows a non-Pythonic\u001B[0m\u001B[0;34m\u001B[0m\u001B[0;34m\u001B[0m\u001B[0;34m\u001B[0m\u001B[0m\n\u001B[1;32m    116\u001B[0m                 \u001B[0;31m# JVM exception message.\u001B[0m\u001B[0;34m\u001B[0m\u001B[0;34m\u001B[0m\u001B[0;34m\u001B[0m\u001B[0m\n\u001B[0;32m--> 117\u001B[0;31m                 \u001B[0;32mraise\u001B[0m \u001B[0mconverted\u001B[0m \u001B[0;32mfrom\u001B[0m \u001B[0;32mNone\u001B[0m\u001B[0;34m\u001B[0m\u001B[0;34m\u001B[0m\u001B[0m\n\u001B[0m\u001B[1;32m    118\u001B[0m             \u001B[0;32melse\u001B[0m\u001B[0;34m:\u001B[0m\u001B[0;34m\u001B[0m\u001B[0;34m\u001B[0m\u001B[0m\n\u001B[1;32m    119\u001B[0m                 \u001B[0;32mraise\u001B[0m\u001B[0;34m\u001B[0m\u001B[0;34m\u001B[0m\u001B[0m\n",
      "\u001B[0;31mAnalysisException\u001B[0m: cannot resolve '`G.geometry`' given input columns: [P.X, P.Y, P._c0, P._id, G.exp_grid_maxX, G.exp_grid_maxY, G.exp_grid_minX, G.exp_grid_minY, P.geometry, G.grid_id, G.grid_maxX, G.grid_maxY, G.grid_minX, G.grid_minY]; line 4 pos 40;\n'Project ['P._id, 'P.X, 'P.Y, 'P.geometry AS point_geometry#577, 'G.geometry AS grid_geometry#578, 'G.grid_id]\n+- 'Filter 'ST_Intersects(geometry#545, 'G.geometry)\n   +- Join Inner\n      :- SubqueryAlias P\n      :  +- SubqueryAlias points\n      :     +- Project [_c0#269, _id#270, X#271, Y#272, createPoints(X#271, Y#272) AS geometry#545]\n      :        +- Filter ((((X#271 >= cast(-6 as double)) AND (X#271 <= cast(-5 as double))) AND (Y#272 >= 47.5)) AND (Y#272 <= cast(49 as double)))\n      :           +- Relation[_c0#269,_id#270,X#271,Y#272] csv\n      +- SubqueryAlias G\n         +- SubqueryAlias grids\n            +- LogicalRDD [exp_grid_maxX#489, exp_grid_maxY#490, exp_grid_minX#491, exp_grid_minY#492, grid_id#493L, grid_maxX#494, grid_maxY#495, grid_minX#496, grid_minY#497], false\n"
     ]
    }
   ],
   "source": [
    "sqlContext = SQLContext(spark)\n",
    "# timing procedure\n",
    "start_time = time.time()\n",
    "\n",
    "geom_a_df = df_a.withColumn(\"geometry\", createPoints_udf(df_a.X, df_a.Y)).cache()\n",
    "\n",
    "geom_a_df.createOrReplaceTempView(\"points\")\n",
    "grid_df.createOrReplaceTempView(\"grids\")\n",
    "\n",
    "spatial_join_result = spark.sql(\n",
    "    \"\"\"\n",
    "        SELECT P._id, P.X, P.Y, P.geometry as point_geometry,  G.geometry as grid_geometry, G.grid_id\n",
    "        FROM points AS P, grids AS G\n",
    "        WHERE ST_Intersects(P.geometry, G.geometry)\n",
    "    \"\"\"\n",
    ").cache() # cache results to avoid perform join again\n",
    "\n",
    "\n",
    "spatial_join_result.show()\n",
    "print(\"--- %s seconds ---\" % (time.time() - start_time))"
   ],
   "metadata": {
    "collapsed": false,
    "pycharm": {
     "name": "#%%\n"
    }
   }
  },
  {
   "cell_type": "markdown",
   "source": [
    "## Spatial join Approach 2 stats\n",
    "- find count\n",
    "- find pings per grid\n",
    "- filter grids with 0 points\n",
    "\n",
    "### SOS\n",
    "Otan kanoume chaining functions mporoume na exoume access se colum apo to proigoumeno function kanontas F.col(\"coll_name\")"
   ],
   "metadata": {
    "collapsed": false
   }
  },
  {
   "cell_type": "code",
   "execution_count": null,
   "outputs": [],
   "source": [
    "print(\"spatial join count: {}\".format(spatial_join_result.count()))\n",
    "\n",
    "# find pings per grid\n",
    "filtered_grid = spatial_join_result.groupby([\"grid_geometry\", \"grid_id\"])\\\n",
    "    .count()\\\n",
    "    .filter(F.col(\"count\") > 0)\\\n",
    "    .cache()\n",
    "\n",
    "filtered_grid.show(10)\n",
    "\n",
    "print(\"filtered spatial join count: {}\".format(filtered_grid.count()))\n"
   ],
   "metadata": {
    "collapsed": false,
    "pycharm": {
     "name": "#%%\n"
    }
   }
  },
  {
   "cell_type": "code",
   "execution_count": null,
   "outputs": [],
   "source": [
    "# print grids\n",
    "ax = utils.createAXNFigure(coastline_path=\"../../testData/EuropeanCoastline/Europe Coastline (Polygone).shp\")\n",
    "BLUE = '#6699cc'\n",
    "GRAY = '#999999'\n",
    "for cell in filtered_grid.collect():\n",
    "    grid_poly = utils.createPolyFromPoints(cell[\"grid_minX\"], cell[\"grid_maxX\"], cell[\"grid_minY\"], cell[\"grid_maxY\"])\n",
    "    exp_grid = utils.createPolyFromPoints(cell[\"exp_grid_minX\"], cell[\"exp_grid_maxX\"], cell[\"exp_grid_minY\"], cell[\"exp_grid_maxY\"])\n",
    "\n",
    "    ax.add_patch(PolygonPatch(exp_grid, fc='y', ec=\"y\", alpha=0.1, zorder=2))\n",
    "    ax.add_patch(PolygonPatch(grid_poly, fc=GRAY, ec=GRAY, alpha=0.8, zorder=2))\n",
    "\n",
    "for row in geom_a_df.collect():\n",
    "  ax.plot(row.X, row.Y, marker='o', markersize=2, alpha=0.3, c='r')\n",
    "\n",
    "for row in df_b.collect():\n",
    "  ax.plot(row.X, row.Y, marker='x', markersize=2, alpha=0.3, c='b')\n",
    "\n",
    "\n",
    "plt.ylabel(\"Latitude\")\n",
    "plt.xlabel(\"Longitude\")\n",
    "plt.show()"
   ],
   "metadata": {
    "collapsed": false,
    "pycharm": {
     "name": "#%%\n"
    }
   }
  },
  {
   "cell_type": "markdown",
   "source": [
    "## Spatial Join 2nd dataset\n",
    "at this stap er perform spatial join for second dataset with filtered grid\n"
   ],
   "metadata": {
    "collapsed": false
   }
  },
  {
   "cell_type": "code",
   "execution_count": null,
   "outputs": [],
   "source": [
    "# timing procedure\n",
    "start_time = time.time()\n",
    "\n",
    "geom_b_df = df_b.withColumn(\"geometry\", createPoints_udf(df_b.X, df_b.Y)).cache()\n",
    "geom_b_df.createOrReplaceTempView(\"points_B\")\n",
    "filtered_grid.createOrReplaceTempView(\"grids\")\n",
    "\n",
    "\n",
    "spatial_join_b_result = spark.sql(\n",
    "    \"\"\"\n",
    "        SELECT P._id, P.X, P.Y, P.geometry as point_geometry,  G.grid_geometry, G.grid_id\n",
    "        FROM points_B AS P, grids AS G\n",
    "        WHERE ST_Intersects(P.geometry, G.grid_geometry)\n",
    "    \"\"\"\n",
    ").cache() # cache results to avoid perform join again\n",
    "\n",
    "\n",
    "spatial_join_b_result.show()\n",
    "print(\"--- %s seconds ---\" % (time.time() - start_time))"
   ],
   "metadata": {
    "collapsed": false,
    "pycharm": {
     "name": "#%%\n"
    }
   }
  },
  {
   "cell_type": "markdown",
   "source": [
    "# Calculate Expanded MBB's\n",
    "- First we have to check the count of filtered girds\n",
    "- Check if points exists with null grid\n",
    "- Create a UDF that calculates Expanded MBB's\n",
    "-"
   ],
   "metadata": {
    "collapsed": false
   }
  },
  {
   "cell_type": "code",
   "execution_count": null,
   "outputs": [],
   "source": [
    "print(\"Filter grid count: {}\".format(filtered_grid.count()))\n",
    "filtered_grid.show(10)\n",
    "\n",
    "# spatial_join_b_result.select([F.count(F.when(F.isnan(c), c))\n",
    "#                              .alias(c) for c in spatial_join_b_result.columns])\\\n",
    "#     .show()\n",
    "\n",
    "print(\"B point Set count: {}\".format(spatial_join_b_result.count()))\n",
    "spatial_join_b_result.select(\"grid_id\").\\\n",
    "    select([F.count(F.when(F.isnan(F.col(\"grid_id\")), F.col(\"grid_id\")))])\\\n",
    "    .show()\n"
   ],
   "metadata": {
    "collapsed": false,
    "pycharm": {
     "name": "#%%\n"
    }
   }
  },
  {
   "cell_type": "code",
   "execution_count": null,
   "outputs": [],
   "source": [
    "print(\"--- TOTAL EXECUTION TIME ---\\n--- %s seconds ---\" % (time.time() - total_time))"
   ],
   "metadata": {
    "collapsed": false,
    "pycharm": {
     "name": "#%%\n"
    }
   }
  }
 ],
 "metadata": {
  "kernelspec": {
   "display_name": "Python 3",
   "language": "python",
   "name": "python3"
  },
  "language_info": {
   "codemirror_mode": {
    "name": "ipython",
    "version": 2
   },
   "file_extension": ".py",
   "mimetype": "text/x-python",
   "name": "python",
   "nbconvert_exporter": "python",
   "pygments_lexer": "ipython2",
   "version": "2.7.6"
  }
 },
 "nbformat": 4,
 "nbformat_minor": 0
}