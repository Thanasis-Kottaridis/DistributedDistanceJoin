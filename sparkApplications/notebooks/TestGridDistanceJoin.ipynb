{
 "cells": [
  {
   "cell_type": "markdown",
   "source": [
    "# Simiosis gia Grid\n",
    "- o skopos tou na dimiourgisw ena grid einai gia na miosw kata poli to sinolo ton simion sto disance join\n",
    "- auto epitinxanete ftiaxnontas ena MBB pernontas ta min ton max(x,y) kai apo ta 2 data sets kathos kai ta max apo ta min(x,y) me tin logiki oti osa simia einai ektos tou min max x enos apo ta 2 dataset den ikanopoioun tin sinthiki theta.\n",
    "- stin sinexia tha prepei na kanw spatial join to grid kai me ta 2 datasets gia na vrw se poio grid paei kathe simio\n",
    "- meta tha aporipsw osa grids den exoun kanena\n",
    "\n",
    "### Xrisima stixia na periexei ena grid\n",
    "- gridId\n",
    "- polygon\n",
    "- TODO Check id x an y needed for partitioning reasons\n",
    "\n",
    "### Idea gia grid filtering\n",
    "- Na kanw spatial join mono sto dataset me ta ligotera simia prokimenou na filtrarw ta grids pou den exeoun kanena simio apo to Dataset auto\n",
    "- Me auton ton tropo epitinxanw na kanw mikrotero spatial join sto dataset me tis perisoteres eggrafes\n",
    "- auto vasizete sto"
   ],
   "metadata": {
    "collapsed": false
   }
  },
  {
   "cell_type": "markdown",
   "source": [
    "# Simiosis gia partitioning\n",
    "- prepei na xorisw ta data mou se ola ta mixanimata prin ksekinisw to spatial join\n",
    "- episis prepei na xorisw kai ta grids omiomorfa se ola ta mixanimata\n",
    "- enas tropos gia na ta xorisw tha mporouse na einai to X. Diladi na vrw ta max kai min X kai paota 2 datasets gia na vrw to rangekai na kanw range partition os pros x gia ta points\n",
    "- gia ta grids apo tin all tha eprepe na kanw partition os pros to max X tous oste na simenei oti oti grid einai sto partition exei points mono sto partition auto.\n",
    "- me auton ton tropo epitinxanoume na exoume ta points kai ta grids tous mirasmena ana mixanima kai na empodisoume tis metakinisis sto diktio\n",
    "\n",
    "### Pws to kanw auto?\n",
    "- prepei na dw pws douleui to pratitioning\n",
    "- pos simperiferete to join sto partitioning\n",
    "- prepei na dw an ipostirizei kati tetoio i vivliothiki"
   ],
   "metadata": {
    "collapsed": false
   }
  },
  {
   "cell_type": "markdown",
   "source": [
    "## Imports"
   ],
   "metadata": {
    "collapsed": false
   }
  },
  {
   "cell_type": "code",
   "execution_count": 1,
   "metadata": {
    "collapsed": true
   },
   "outputs": [],
   "source": [
    "# Main  Imports\n",
    "import numpy as np\n",
    "import geopandas as gpd\n",
    "import matplotlib.pyplot as plt\n",
    "from IPython.core.display import display\n",
    "import time\n",
    "\n",
    "# Local App Imports\n",
    "from utils import spatialUtils as utils\n",
    "\n",
    "# Spark Imports\n",
    "from pyspark.sql import SparkSession\n",
    "from pyspark.sql import Row\n",
    "from pyspark.sql import functions as F\n",
    "from pyspark.sql import SQLContext\n",
    "from pyspark.sql.types import StructType, StructField, StringType, IntegerType, DoubleType, LongType\n",
    "\n",
    "\n",
    "# Sedona Imports\n",
    "from sedona.utils import KryoSerializer, SedonaKryoRegistrator\n",
    "from sedona.register import SedonaRegistrator\n",
    "from sedona.sql.types import GeometryType\n",
    "\n",
    "# Python shapely imports\n",
    "import shapely.geometry as sg\n",
    "from shapely.geometry import Polygon\n",
    "from descartes import PolygonPatch\n",
    "import geog\n",
    "import shapely.speedups\n",
    "shapely.speedups.enable() # this makes some spatial queries run faster"
   ]
  },
  {
   "cell_type": "markdown",
   "source": [
    "## Load Dataset"
   ],
   "metadata": {
    "collapsed": false
   }
  },
  {
   "cell_type": "code",
   "execution_count": 2,
   "outputs": [
    {
     "name": "stdout",
     "output_type": "stream",
     "text": [
      "+---+--------------------+----------+---------+\n",
      "|_c0|                 _id|         X|        Y|\n",
      "+---+--------------------+----------+---------+\n",
      "|  0|60039bef2bc024099...|  -4.50088| 48.35698|\n",
      "|  1|60039b8f2bc024099...|-4.4970617|48.379555|\n",
      "|  2|60039b9c2bc024099...|-4.4137635| 48.15062|\n",
      "|  3|60039bef2bc024099...| -4.500963|48.356915|\n",
      "|  4|60039bbe2bc024099...| -4.474253|48.341007|\n",
      "|  5|60039bef2bc024099...| -4.501045|48.356842|\n",
      "|  6|60039a6c2bc024099...| -4.497015|48.382206|\n",
      "|  7|60039c032bc024099...|  -4.56926| 48.13976|\n",
      "|  8|60039e032bc024099...| -4.476655| 48.38109|\n",
      "|  9|60039bef2bc024099...| -4.501128|48.356773|\n",
      "+---+--------------------+----------+---------+\n",
      "only showing top 10 rows\n",
      "\n",
      "+---+--------------------+----------+---------+\n",
      "|_c0|                 _id|         X|        Y|\n",
      "+---+--------------------+----------+---------+\n",
      "|  0|600399bc2bc024099...|-4.5935817| 48.13648|\n",
      "|  1|60039df12bc024099...| -4.758715| 48.06632|\n",
      "|  2|60039bbe2bc024099...| -4.472955|48.340054|\n",
      "|  3|60039e102bc024099...| -4.678545|48.304527|\n",
      "|  4|600399bc2bc024099...|  -4.59364| 48.13646|\n",
      "|  5|60039c032bc024099...|  -4.44887| 48.38294|\n",
      "|  6|60039c032bc024099...| -4.592973|48.134605|\n",
      "|  7|60039b9c2bc024099...| -4.462722| 48.13622|\n",
      "|  8|60039e512bc024099...|-4.4783816| 48.34225|\n",
      "|  9|60039a5a2bc024099...| -4.445865|48.135105|\n",
      "+---+--------------------+----------+---------+\n",
      "only showing top 10 rows\n",
      "\n"
     ]
    }
   ],
   "source": [
    "# full program timer\n",
    "total_time = time.time()\n",
    "\n",
    "test_sample_A_path = \"../testData/ais_one_hour.csv\"\n",
    "test_sample_B_path = \"../testData/ais_one_hour2.csv\"\n",
    "\n",
    "# test_sample_path = \"../testData/ais_one_month.csv\"\n",
    "\n",
    "\n",
    "# create sedona spark session\n",
    "spark = SparkSession. \\\n",
    "    builder. \\\n",
    "    appName('appName'). \\\n",
    "    config(\"spark.serializer\", KryoSerializer.getName). \\\n",
    "    config(\"spark.kryo.registrator\", SedonaKryoRegistrator.getName). \\\n",
    "    config('spark.jars.packages',\n",
    "           'org.apache.sedona:sedona-python-adapter-3.0_2.12:1.0.0-incubating,'\n",
    "           'org.datasyslab:geotools-wrapper:geotools-24.0'). \\\n",
    "    getOrCreate()\n",
    "\n",
    "SedonaRegistrator.registerAll(spark)\n",
    "\n",
    "# Load CSV File\n",
    "df_a = spark.read.csv(header=\"True\", inferSchema=\"True\", path=test_sample_A_path)\n",
    "df_a.show(10)\n",
    "\n",
    "df_b = spark.read.csv(header=\"True\", inferSchema=\"True\", path=test_sample_B_path)\n",
    "df_b.show(10)"
   ],
   "metadata": {
    "collapsed": false,
    "pycharm": {
     "name": "#%%\n"
    }
   }
  },
  {
   "cell_type": "markdown",
   "source": [
    "## Filter Dataset for Test Reasons\n",
    "- arxika tha periorisoume to dataset stin perioxi x[-6.5,-5] kai y[47.5,49]\n",
    "- epilegw auto gt kserw oti exei arketa pings"
   ],
   "metadata": {
    "collapsed": false
   }
  },
  {
   "cell_type": "markdown",
   "source": [
    "df_a = df_a.filter( (-6 <= df_a.X) & (df_a.X <= -5) & (47.5 <= df_a.Y) & (df_a.Y <= 49))\\\n",
    "    .cache()\n",
    "print(\"Total filtered_df_a count {}\".format(df_a.count()))\n",
    "df_a.show(10)\n",
    "\n",
    "df_b = df_b.filter( (-6.5 <= df_b.X) & (df_b.X <= -5) & (47.5 <= df_b.Y) & (df_b.Y <= 49))\\\n",
    "    .cache()\n",
    "print(\"Total filtered_df_b count {}\".format(df_b.count()))\n",
    "df_b.show(10)"
   ],
   "metadata": {
    "collapsed": false,
    "pycharm": {
     "name": "#%% md\n"
    }
   }
  },
  {
   "cell_type": "code",
   "execution_count": 3,
   "outputs": [],
   "source": [
    "df_a = df_a.limit(20000)\n",
    "df_b = df_b.limit(20000)"
   ],
   "metadata": {
    "collapsed": false,
    "pycharm": {
     "name": "#%%\n"
    }
   }
  },
  {
   "cell_type": "markdown",
   "source": [
    "## Grid Dataset\n",
    "Lets create a test grid\n",
    "- We have to find the MBB from the dataset with less records\n",
    "- Then we have to create a grid for this dataset (**sos** each grid side has to be equal to theta)\n",
    "- Then calculate expanded grids for each grid\n",
    "\n",
    "### Times:\n",
    "first run --- 4.288848161697388 seconds ---"
   ],
   "metadata": {
    "collapsed": false
   }
  },
  {
   "cell_type": "code",
   "execution_count": 4,
   "outputs": [],
   "source": [
    "def calculate_MBB_from_sdf(sdf):\n",
    "    # find min/max X,Y\n",
    "    mbb_row = sdf.agg(\n",
    "        F.max(sdf.X),\n",
    "        F.min(sdf.X),\n",
    "        F.max(sdf.Y),\n",
    "        F.min(sdf.Y),\n",
    "    ).collect()[0]\n",
    "    print(\"print mbb: {}\".format(mbb_row))\n",
    "    #calculate grid for dataset\n",
    "    return utils.getPolyGrid(mbb_row[\"min(X)\"],mbb_row[\"min(Y)\"],mbb_row[\"max(X)\"],mbb_row[\"max(Y)\"], theta=10)\n",
    "\n"
   ],
   "metadata": {
    "collapsed": false,
    "pycharm": {
     "name": "#%%\n"
    }
   }
  },
  {
   "cell_type": "code",
   "source": [
    "cell_time = time.time()\n",
    "\n",
    "#calculate grid for dataset\n",
    "grid = calculate_MBB_from_sdf(df_a) if df_a.count() <= df_b.count() else calculate_MBB_from_sdf(df_b)\n",
    "print(\"grid len: {}\".format(len(grid)))\n",
    "\n",
    "print(\"--- %s seconds ---\" % (time.time() - cell_time))\n"
   ],
   "metadata": {
    "collapsed": false,
    "pycharm": {
     "name": "#%%\n"
    }
   },
   "execution_count": 5,
   "outputs": [
    {
     "name": "stdout",
     "output_type": "stream",
     "text": [
      "print mbb: Row(max(X)=-0.066665, min(X)=-7.0706515, max(Y)=50.431885, min(Y)=46.516026)\n",
      "grid len: 6993\n",
      "--- 7.310056924819946 seconds ---\n"
     ]
    }
   ]
  },
  {
   "cell_type": "markdown",
   "source": [
    "## Plot Grid And Points"
   ],
   "metadata": {
    "collapsed": false,
    "pycharm": {
     "name": "#%% md\n"
    }
   }
  },
  {
   "cell_type": "code",
   "source": [
    "# print grids\n",
    "ax = utils.createAXNFigure()\n",
    "BLUE = '#6699cc'\n",
    "GRAY = '#999999'\n",
    "for cell in grid:\n",
    "    grid_poly = utils.createPolyFromPoints(cell[\"grid_minX\"], cell[\"grid_maxX\"], cell[\"grid_minY\"], cell[\"grid_maxY\"])\n",
    "    ax.add_patch(PolygonPatch(grid_poly, fc=GRAY, ec=GRAY, alpha=0.5, zorder=2))\n",
    "\n",
    "for row in df_a.collect():\n",
    "  ax.plot(row.X, row.Y, marker='o', markersize=2, alpha=0.3, c='r')\n",
    "\n",
    "for row in df_b.collect():\n",
    "  ax.plot(row.X, row.Y, marker='x', markersize=2, alpha=0.3, c='b')\n",
    "\n",
    "\n",
    "plt.ylabel(\"Latitude\")\n",
    "plt.xlabel(\"Longitude\")\n",
    "plt.show()"
   ],
   "metadata": {
    "collapsed": false,
    "pycharm": {
     "name": "#%%\n"
    }
   },
   "execution_count": 6,
   "outputs": [
    {
     "data": {
      "text/plain": "<Figure size 720x432 with 1 Axes>",
      "image/png": "[encoded data removed]"
     },
     "metadata": {
      "needs_background": "light"
     },
     "output_type": "display_data"
    }
   ]
  },
  {
   "cell_type": "markdown",
   "source": [
    "## Create Grid RDD or DF"
   ],
   "metadata": {
    "collapsed": false,
    "pycharm": {
     "name": "#%% md\n"
    }
   }
  },
  {
   "cell_type": "code",
   "source": [
    "grid_df = spark.createDataFrame(grid)\n",
    "grid_df.printSchema()\n",
    "print(grid_df.schema)\n",
    "grid_df.show(10)"
   ],
   "metadata": {
    "collapsed": false,
    "pycharm": {
     "name": "#%%\n"
    }
   },
   "execution_count": 7,
   "outputs": [
    {
     "name": "stdout",
     "output_type": "stream",
     "text": [
      "root\n",
      " |-- exp_grid_maxX: double (nullable = true)\n",
      " |-- exp_grid_maxY: double (nullable = true)\n",
      " |-- exp_grid_minX: double (nullable = true)\n",
      " |-- exp_grid_minY: double (nullable = true)\n",
      " |-- grid_id: long (nullable = true)\n",
      " |-- grid_maxX: double (nullable = true)\n",
      " |-- grid_maxY: double (nullable = true)\n",
      " |-- grid_minX: double (nullable = true)\n",
      " |-- grid_minY: double (nullable = true)\n",
      "\n",
      "StructType(List(StructField(exp_grid_maxX,DoubleType,true),StructField(exp_grid_maxY,DoubleType,true),StructField(exp_grid_minX,DoubleType,true),StructField(exp_grid_minY,DoubleType,true),StructField(grid_id,LongType,true),StructField(grid_maxX,DoubleType,true),StructField(grid_maxY,DoubleType,true),StructField(grid_minX,DoubleType,true),StructField(grid_minY,DoubleType,true)))\n",
      "+-------------+-------------+-------------+-------------+-------+---------+---------+---------+---------+\n",
      "|exp_grid_maxX|exp_grid_maxY|exp_grid_minX|exp_grid_minY|grid_id|grid_maxX|grid_maxY|grid_minX|grid_minY|\n",
      "+-------------+-------------+-------------+-------------+-------+---------+---------+---------+---------+\n",
      "|     -6.86567|     50.55556|     -7.21193|       50.312|      0| -7.00695| 50.46563| -7.07065| 50.40193|\n",
      "|     -6.86586|     50.49186|     -7.21174|     50.24829|      1| -7.00695| 50.40193| -7.07065| 50.33822|\n",
      "|     -6.86605|     50.42816|     -7.21155|     50.18459|      2| -7.00695| 50.33822| -7.07065| 50.27452|\n",
      "|     -6.86623|     50.36445|     -7.21137|     50.12089|      3| -7.00695| 50.27452| -7.07065| 50.21082|\n",
      "|     -6.86642|     50.30075|     -7.21118|     50.05718|      4| -7.00695| 50.21082| -7.07065| 50.14711|\n",
      "|     -6.86661|     50.23705|     -7.21099|     49.99348|      5| -7.00695| 50.14711| -7.07065| 50.08341|\n",
      "|      -6.8668|     50.17334|      -7.2108|     49.92978|      6| -7.00695| 50.08341| -7.07065| 50.01971|\n",
      "|     -6.86698|     50.10964|     -7.21062|     49.86607|      7| -7.00695| 50.01971| -7.07065|   49.956|\n",
      "|     -6.86717|     50.04594|     -7.21043|     49.80237|      8| -7.00695|   49.956| -7.07065|  49.8923|\n",
      "|     -6.86735|     49.98223|     -7.21025|     49.73867|      9| -7.00695|  49.8923| -7.07065|  49.8286|\n",
      "+-------------+-------------+-------------+-------------+-------+---------+---------+---------+---------+\n",
      "only showing top 10 rows\n",
      "\n"
     ]
    }
   ]
  },
  {
   "cell_type": "markdown",
   "source": [
    "## Link Points tou Grids\n",
    "- **Approach 1:** Test databricks code for spatial join from link\n",
    "- **Approach 2:** perform spatial join in order to link points with grids\n",
    "- **Approach 3:** perform spatial join without using intersection. use where statement on join and check if point is within grid box\n",
    "\n",
    "### Results\n",
    "It seems that approach 3 is 3 times faster than approach 2 because we dont need to check for intersection using apache\n",
    "sedona because we use squares/grids as polygons and in this case we can easily check if point intersect with the square\n",
    "grid by chacking max and min X,Y respectively. Despite that we dont need to use UDF function in order to conver X,Y coords into sapely point"
   ],
   "metadata": {
    "collapsed": false,
    "pycharm": {
     "name": "#%% md\n"
    }
   }
  },
  {
   "cell_type": "markdown",
   "source": [
    "### Approach 3"
   ],
   "metadata": {
    "collapsed": false,
    "pycharm": {
     "name": "#%% md\n"
    }
   }
  },
  {
   "cell_type": "code",
   "source": [
    "# timing procedure\n",
    "start_time = time.time()\n",
    "\n",
    "df_a.createOrReplaceTempView(\"points\")\n",
    "grid_df.createOrReplaceTempView(\"grids\")\n",
    "\n",
    "spatial_join_result = spark.sql(\n",
    "    \"\"\"\n",
    "        SELECT *\n",
    "        FROM points AS P join grids AS G\n",
    "        WHERE P.X >= G.grid_minX and P.X <= G.grid_maxX\n",
    "         and P.Y >= G.grid_minY and P.Y <= G.grid_maxY\n",
    "    \"\"\"\n",
    ").cache() # cache results to avoid perform join again\n",
    "\n",
    "\n",
    "\n",
    "print(\"--- %s seconds ---\" % (time.time() - start_time))\n",
    "\n",
    "# print some stats\n",
    "spatial_join_result.show()\n",
    "print(spatial_join_result.count())"
   ],
   "metadata": {
    "collapsed": false,
    "pycharm": {
     "name": "#%%\n"
    }
   },
   "execution_count": 8,
   "outputs": [
    {
     "name": "stdout",
     "output_type": "stream",
     "text": [
      "--- 0.22771000862121582 seconds ---\n",
      "+-----+--------------------+----------+---------+-------------+-------------+-------------+-------------+-------+---------+---------+---------+---------+\n",
      "|  _c0|                 _id|         X|        Y|exp_grid_maxX|exp_grid_maxY|exp_grid_minX|exp_grid_minY|grid_id|grid_maxX|grid_maxY|grid_minX|grid_minY|\n",
      "+-----+--------------------+----------+---------+-------------+-------------+-------------+-------------+-------+---------+---------+---------+---------+\n",
      "|  411|600398982bc024099...| -7.070542|49.238495|     -6.86916|      49.3452|     -7.20844|     49.10163|     19| -7.00695| 49.25527| -7.07065| 49.19157|\n",
      "| 3611|600398982bc024099...|-6.9999585| 49.35194|      -6.8051|     49.47261|     -7.14509|     49.22904|     80| -6.94324| 49.38268| -7.00695| 49.31897|\n",
      "| 3620|600398982bc024099...|-6.9997835|49.352276|      -6.8051|     49.47261|     -7.14509|     49.22904|     80| -6.94324| 49.38268| -7.00695| 49.31897|\n",
      "| 3626|600398982bc024099...| -6.999658|49.352432|      -6.8051|     49.47261|     -7.14509|     49.22904|     80| -6.94324| 49.38268| -7.00695| 49.31897|\n",
      "| 3632|600398982bc024099...|-6.9994984|49.352654|      -6.8051|     49.47261|     -7.14509|     49.22904|     80| -6.94324| 49.38268| -7.00695| 49.31897|\n",
      "| 8857|60039a542bc024099...|-6.8010135|49.488266|     -6.61363|     49.60001|     -6.95434|     49.35645|    267| -6.75213| 49.51008| -6.81584| 49.44638|\n",
      "|19974|600398982bc024099...|-6.6092634| 50.03722|     -6.42087|     50.17334|     -6.76488|     49.92978|    447| -6.56102| 50.08341| -6.62473| 50.01971|\n",
      "| 4470|60039e542bc024099...| -6.214665|48.375484|     -6.04328|     48.51706|     -6.37804|     48.27349|    851| -6.17881| 48.42713| -6.24251| 48.36342|\n",
      "|13494|60039df22bc024099...|-6.1472917|48.121025|     -5.98025|     48.26224|     -6.31366|     48.01868|    918|  -6.1151| 48.17231| -6.17881| 48.10861|\n",
      "| 4491|60039e0d2bc024099...| -6.004648|49.098534|     -5.85026|     49.21779|     -6.18883|     48.97423|   1029|  -5.9877| 49.12786|  -6.0514| 49.06416|\n",
      "|13877|60039e4a2bc024099...|-6.0279264| 48.23766|     -5.85251|     48.38965|     -6.18659|     48.14608|   1042|  -5.9877| 48.29972|  -6.0514| 48.23602|\n",
      "|18550|60039df22bc024099...|-5.9645534| 48.36482|     -5.78846|     48.51706|     -6.12322|     48.27349|   1103| -5.92399| 48.42713|  -5.9877| 48.36342|\n",
      "| 8797|600398c12bc024099...|  -5.81997| 49.24604|      -5.6588|      49.3452|     -5.99808|     49.10163|   1216| -5.79659| 49.25527| -5.86029| 49.19157|\n",
      "| 4937|60039e472bc024099...| -5.750125|48.922302|     -5.59598|     49.02668|     -5.93349|     48.78312|   1284| -5.73288| 48.93675| -5.79659| 48.87305|\n",
      "|13490|600398c42bc024099...| -5.751827|48.161892|     -5.59803|     48.26224|     -5.93144|     48.01868|   1296| -5.73288| 48.17231| -5.79659| 48.10861|\n",
      "| 5522|60039e172bc024099...| -5.679518| 48.91966|     -5.53227|     49.02668|     -5.86979|     48.78312|   1347| -5.66918| 48.93675| -5.73288| 48.87305|\n",
      "| 5899|60039e172bc024099...|-5.6901035|48.912926|     -5.53227|     49.02668|     -5.86979|     48.78312|   1347| -5.66918| 48.93675| -5.73288| 48.87305|\n",
      "|19601|600398c42bc024099...| -5.689902|48.201668|     -5.53416|     48.32595|      -5.8679|     48.08238|   1358| -5.66918| 48.23602| -5.73288| 48.17231|\n",
      "|19625|600398c42bc024099...| -5.689698| 48.20162|     -5.53416|     48.32595|      -5.8679|     48.08238|   1358| -5.66918| 48.23602| -5.73288| 48.17231|\n",
      "|19633|600398c42bc024099...|-5.6896267|  48.2016|     -5.53416|     48.32595|      -5.8679|     48.08238|   1358| -5.66918| 48.23602| -5.73288| 48.17231|\n",
      "+-----+--------------------+----------+---------+-------------+-------------+-------------+-------------+-------+---------+---------+---------+---------+\n",
      "only showing top 20 rows\n",
      "\n",
      "20000\n"
     ]
    }
   ]
  },
  {
   "cell_type": "markdown",
   "source": [
    "## Spatial join Approach 2 stats\n",
    "- find count\n",
    "- find pings per grid\n",
    "- filter grids with 0 points\n",
    "\n",
    "### SOS\n",
    "Otan kanoume chaining functions mporoume na exoume access se colum apo to proigoumeno function kanontas F.col(\"coll_name\")"
   ],
   "metadata": {
    "collapsed": false
   }
  },
  {
   "cell_type": "code",
   "source": [
    "print(\"spatial join count: {}\".format(spatial_join_result.count()))\n",
    "\n",
    "# find pings per grid\n",
    "filtered_grid = spatial_join_result.groupby([\"grid_id\", \"grid_maxX\", \"grid_maxY\", \"grid_minX\", \"grid_minY\", \"exp_grid_maxX\", \"exp_grid_maxY\", \"exp_grid_minX\", \"exp_grid_minY\"])\\\n",
    "    .count()\\\n",
    "    .filter(F.col(\"count\") > 0)\\\n",
    "    .cache()\n",
    "\n",
    "filtered_grid.show(10)\n",
    "\n",
    "print(\"filtered spatial join count: {}\".format(filtered_grid.count()))"
   ],
   "metadata": {
    "collapsed": false,
    "pycharm": {
     "name": "#%%\n"
    }
   },
   "execution_count": 9,
   "outputs": [
    {
     "name": "stdout",
     "output_type": "stream",
     "text": [
      "spatial join count: 20000\n",
      "+-------+---------+---------+---------+---------+-------------+-------------+-------------+-------------+-----+\n",
      "|grid_id|grid_maxX|grid_maxY|grid_minX|grid_minY|exp_grid_maxX|exp_grid_maxY|exp_grid_minX|exp_grid_minY|count|\n",
      "+-------+---------+---------+---------+---------+-------------+-------------+-------------+-------------+-----+\n",
      "|   3416| -3.56697| 49.57379| -3.63067| 49.51008|     -3.42829|     49.66372|     -3.76936|     49.42015|    1|\n",
      "|   1347| -5.66918| 48.93675| -5.73288| 48.87305|     -5.53227|     49.02668|     -5.86979|     48.78312|    2|\n",
      "|   3917| -3.05734| 49.76489| -3.12105| 49.70119|     -2.91811|     49.85483|     -3.26028|     49.61126|    2|\n",
      "|   1918| -5.09585| 48.68194| -5.15955| 48.61824|     -4.95964|     48.77187|     -5.29576|      48.5283|    4|\n",
      "|   3217| -3.75808| 50.21082| -3.82178| 50.14711|     -3.61755|     50.30075|     -3.96231|     50.05718|    3|\n",
      "|   2235| -4.77733| 48.55453| -4.84104| 48.49083|     -4.64146|     48.64446|      -4.9769|      48.4009|    3|\n",
      "|   2744| -4.26771| 48.23602| -4.33141| 48.17231|     -4.13269|     48.32595|     -4.46643|     48.08238|   19|\n",
      "|   1103| -5.92399| 48.42713|  -5.9877| 48.36342|     -5.78846|     48.51706|     -6.12322|     48.27349|    1|\n",
      "|   1987| -5.03215| 48.29972| -5.09585| 48.23602|     -4.89696|     48.38965|     -5.23104|     48.14608|    1|\n",
      "|   1931| -5.09585|  47.8538| -5.15955| 47.79009|     -4.96183|     47.94373|     -5.29357|     47.70016|   41|\n",
      "+-------+---------+---------+---------+---------+-------------+-------------+-------------+-------------+-----+\n",
      "only showing top 10 rows\n",
      "\n",
      "filtered spatial join count: 190\n"
     ]
    }
   ]
  },
  {
   "cell_type": "markdown",
   "source": [
    "## Plot points with filtered grids"
   ],
   "metadata": {
    "collapsed": false,
    "pycharm": {
     "name": "#%% md\n"
    }
   }
  },
  {
   "cell_type": "code",
   "source": [
    "# print grids\n",
    "ax = utils.createAXNFigure()\n",
    "BLUE = '#6699cc'\n",
    "GRAY = '#999999'\n",
    "\n",
    "for cell in filtered_grid.collect():\n",
    "    grid_poly = utils.createPolyFromPoints(cell[\"grid_minX\"], cell[\"grid_maxX\"], cell[\"grid_minY\"], cell[\"grid_maxY\"])\n",
    "    exp_grid = utils.createPolyFromPoints(cell[\"exp_grid_minX\"], cell[\"exp_grid_maxX\"], cell[\"exp_grid_minY\"], cell[\"exp_grid_maxY\"])\n",
    "\n",
    "    ax.add_patch(PolygonPatch(exp_grid, fc='y', ec=\"y\", alpha=0.1, zorder=2))\n",
    "    ax.add_patch(PolygonPatch(grid_poly, fc=GRAY, ec=GRAY, alpha=0.8, zorder=2))\n",
    "\n",
    "\n",
    "for row in df_a.collect():\n",
    "  ax.plot(row.X, row.Y, marker='o', markersize=2, alpha=0.3, c='r')\n",
    "\n",
    "for row in df_b.collect():\n",
    "  ax.plot(row.X, row.Y, marker='x', markersize=2, alpha=0.3, c='b')\n",
    "\n",
    "\n",
    "plt.ylabel(\"Latitude\")\n",
    "plt.xlabel(\"Longitude\")\n",
    "plt.show()"
   ],
   "metadata": {
    "collapsed": false,
    "pycharm": {
     "name": "#%%\n"
    }
   },
   "execution_count": 10,
   "outputs": [
    {
     "data": {
      "text/plain": "<Figure size 720x432 with 1 Axes>",
      "image/png": "[encoded data removed]"
     },
     "metadata": {
      "needs_background": "light"
     },
     "output_type": "display_data"
    }
   ]
  },
  {
   "cell_type": "markdown",
   "source": [
    "## Perform Spatial Join With Point_set B And expanded gids\n",
    "\n",
    "By performing this spatial join we can filter points not in expanded grids (if exist)\n",
    "and keep only those points who have a chance to satisfy condition theta\n",
    "\n",
    "for This spatial join we choose approach 3 from previous spatial join (datasetA with grids)"
   ],
   "metadata": {
    "collapsed": false,
    "pycharm": {
     "name": "#%% md\n"
    }
   }
  },
  {
   "cell_type": "code",
   "source": [
    "# timing procedure\n",
    "start_time = time.time()\n",
    "\n",
    "df_b.createOrReplaceTempView(\"points_B\")\n",
    "filtered_grid.createOrReplaceTempView(\"grids\")\n",
    "\n",
    "spatial_join_b_result_new = spark.sql(\n",
    "    \"\"\"\n",
    "        SELECT P._id, P.X, P.Y, G.grid_id as exp_grid_id, G.grid_minX, G.grid_maxX, G.grid_minY, G.grid_maxY\n",
    "        FROM points_B AS P, grids AS G\n",
    "        WHERE P.X >= G.exp_grid_minX and P.X <= G.exp_grid_maxX\n",
    "         and P.Y >= G.exp_grid_minY and P.Y <= G.exp_grid_maxY\n",
    "    \"\"\"\n",
    ").withColumn(\"grid_id\", F.when((F.col(\"X\") >= F.col(\"grid_minX\")) &\n",
    "                                  (F.col(\"X\") <= F.col(\"grid_maxX\")) &\n",
    "                                  (F.col(\"Y\") >= F.col(\"grid_minY\")) &\n",
    "                                  (F.col(\"Y\") <= F.col(\"grid_maxY\")),F.col(\"exp_grid_id\"))\n",
    "                           .otherwise(None))\\\n",
    "    .cache() # cache results to avoid perform join again\n",
    "\n",
    "spatial_join_b_result_new.show()\n",
    "print(\"--- %s seconds ---\" % (time.time() - start_time))"
   ],
   "metadata": {
    "collapsed": false,
    "pycharm": {
     "name": "#%%\n"
    }
   },
   "execution_count": 11,
   "outputs": [
    {
     "name": "stdout",
     "output_type": "stream",
     "text": [
      "+--------------------+----------+--------+-----------+---------+---------+---------+---------+-------+\n",
      "|                 _id|         X|       Y|exp_grid_id|grid_minX|grid_maxX|grid_minY|grid_maxY|grid_id|\n",
      "+--------------------+----------+--------+-----------+---------+---------+---------+---------+-------+\n",
      "|600399bc2bc024099...|-4.5935817|48.13648|       2303| -4.77733| -4.71363| 48.17231| 48.23602|   null|\n",
      "|600399bc2bc024099...|-4.5935817|48.13648|       2367| -4.71363| -4.64993| 48.10861| 48.17231|   null|\n",
      "|600399bc2bc024099...|-4.5935817|48.13648|       2619| -4.45882| -4.39511| 48.10861| 48.17231|   null|\n",
      "|600399bc2bc024099...|-4.5935817|48.13648|       2430| -4.64993| -4.58622| 48.10861| 48.17231|   2430|\n",
      "|600399bc2bc024099...|-4.5935817|48.13648|       2556| -4.52252| -4.45882| 48.10861| 48.17231|   null|\n",
      "|600399bc2bc024099...|-4.5935817|48.13648|       2555| -4.52252| -4.45882| 48.17231| 48.23602|   null|\n",
      "|600399bc2bc024099...|-4.5935817|48.13648|       2493| -4.58622| -4.52252| 48.10861| 48.17231|   null|\n",
      "|600399bc2bc024099...|-4.5935817|48.13648|       2305| -4.77733| -4.71363| 48.04491| 48.10861|   null|\n",
      "|600399bc2bc024099...|-4.5935817|48.13648|       2304| -4.77733| -4.71363| 48.10861| 48.17231|   null|\n",
      "|600399bc2bc024099...|-4.5935817|48.13648|       2618| -4.45882| -4.39511| 48.17231| 48.23602|   null|\n",
      "|60039df12bc024099...| -4.758715|48.06632|       2244| -4.84104| -4.77733|  47.9175|  47.9812|   null|\n",
      "|60039df12bc024099...| -4.758715|48.06632|       2367| -4.71363| -4.64993| 48.10861| 48.17231|   null|\n",
      "|60039df12bc024099...| -4.758715|48.06632|       2433| -4.64993| -4.58622|  47.9175|  47.9812|   null|\n",
      "|60039df12bc024099...| -4.758715|48.06632|       2243| -4.84104| -4.77733|  47.9812| 48.04491|   null|\n",
      "|60039df12bc024099...| -4.758715|48.06632|       2430| -4.64993| -4.58622| 48.10861| 48.17231|   null|\n",
      "|60039df12bc024099...| -4.758715|48.06632|       2180| -4.90474| -4.84104|  47.9812| 48.04491|   null|\n",
      "|60039df12bc024099...| -4.758715|48.06632|       2181| -4.90474| -4.84104|  47.9175|  47.9812|   null|\n",
      "|60039df12bc024099...| -4.758715|48.06632|       2370| -4.71363| -4.64993|  47.9175|  47.9812|   null|\n",
      "|60039df12bc024099...| -4.758715|48.06632|       2306| -4.77733| -4.71363|  47.9812| 48.04491|   null|\n",
      "|60039df12bc024099...| -4.758715|48.06632|       2369| -4.71363| -4.64993|  47.9812| 48.04491|   null|\n",
      "+--------------------+----------+--------+-----------+---------+---------+---------+---------+-------+\n",
      "only showing top 20 rows\n",
      "\n",
      "--- 1.5336148738861084 seconds ---\n"
     ]
    }
   ]
  },
  {
   "cell_type": "markdown",
   "source": [
    "def createPoints(longitude, latitude):\n",
    "  return sg.Point(longitude, latitude)\n",
    "\n",
    "createPoints_udf = F.udf(createPoints,GeometryType())"
   ],
   "metadata": {
    "collapsed": false,
    "pycharm": {
     "name": "#%% md\n"
    }
   }
  },
  {
   "cell_type": "markdown",
   "source": [
    "## Get filtered point set B\n"
   ],
   "metadata": {
    "collapsed": false,
    "pycharm": {
     "name": "#%% md\n"
    }
   }
  },
  {
   "cell_type": "code",
   "execution_count": 12,
   "outputs": [
    {
     "name": "stdout",
     "output_type": "stream",
     "text": [
      "spatial join count: 168340\n",
      "+--------------------+----------+---------+-----+\n",
      "|                 _id|         X|        Y|count|\n",
      "+--------------------+----------+---------+-----+\n",
      "|60039bdc2bc024099...| -4.666623| 48.30852|   10|\n",
      "|60039c032bc024099...| -4.600867|48.140213|    8|\n",
      "|60039b9c2bc024099...|-4.4894485|48.136444|    8|\n",
      "|60039df12bc024099...| -4.771415|48.051918|   14|\n",
      "|60039c8d2bc024099...| -4.558727|48.339714|   10|\n",
      "|60039e102bc024099...|  -4.63214|48.320415|   12|\n",
      "|60039df12bc024099...|-4.7701316|48.039417|   14|\n",
      "|600399d42bc024099...|-4.4608483| 48.16365|   14|\n",
      "|600399d42bc024099...|-4.4450984|  48.1658|   12|\n",
      "|600399c32bc024099...|-4.4982815|48.380295|    8|\n",
      "+--------------------+----------+---------+-----+\n",
      "only showing top 10 rows\n",
      "\n",
      "filtered spatial join count: 19356\n"
     ]
    }
   ],
   "source": [
    "print(\"spatial join count: {}\".format(spatial_join_b_result_new.count()))\n",
    "\n",
    "# find pings per grid\n",
    "geom_b_df = spatial_join_b_result_new.groupby([\"_id\", \"X\", \"Y\"])\\\n",
    "    .count()\\\n",
    "    .filter(F.col(\"count\") > 0)\\\n",
    "    .cache()\n",
    "\n",
    "geom_b_df.show(10)\n",
    "\n",
    "print(\"filtered spatial join count: {}\".format(geom_b_df.count()))"
   ],
   "metadata": {
    "collapsed": false,
    "pycharm": {
     "name": "#%%\n"
    }
   }
  },
  {
   "cell_type": "markdown",
   "source": [
    "## Plot plot filtered points B\n",
    "plot points From Pointset B That are in expanded grids"
   ],
   "metadata": {
    "collapsed": false
   }
  },
  {
   "cell_type": "code",
   "execution_count": 13,
   "outputs": [
    {
     "data": {
      "text/plain": "<Figure size 720x432 with 1 Axes>",
      "image/png": "[encoded data removed]"
     },
     "metadata": {
      "needs_background": "light"
     },
     "output_type": "display_data"
    }
   ],
   "source": [
    "# print grids\n",
    "ax = utils.createAXNFigure()\n",
    "BLUE = '#6699cc'\n",
    "GRAY = '#999999'\n",
    "\n",
    "for cell in filtered_grid.collect():\n",
    "    grid_poly = utils.createPolyFromPoints(cell[\"grid_minX\"], cell[\"grid_maxX\"], cell[\"grid_minY\"], cell[\"grid_maxY\"])\n",
    "    exp_grid = utils.createPolyFromPoints(cell[\"exp_grid_minX\"], cell[\"exp_grid_maxX\"], cell[\"exp_grid_minY\"], cell[\"exp_grid_maxY\"])\n",
    "\n",
    "    ax.add_patch(PolygonPatch(exp_grid, fc='y', ec=\"y\", alpha=0.1, zorder=2))\n",
    "    ax.add_patch(PolygonPatch(grid_poly, fc=GRAY, ec=GRAY, alpha=0.8, zorder=2))\n",
    "\n",
    "\n",
    "for row in df_a.collect():\n",
    "  ax.plot(row.X, row.Y, marker='o', markersize=2, alpha=0.3, c='r')\n",
    "\n",
    "for row in geom_b_df.collect():\n",
    "  ax.plot(row.X, row.Y, marker='x', markersize=2, alpha=0.3, c='b')\n",
    "\n",
    "\n",
    "plt.ylabel(\"Latitude\")\n",
    "plt.xlabel(\"Longitude\")\n",
    "plt.show()"
   ],
   "metadata": {
    "collapsed": false,
    "pycharm": {
     "name": "#%%\n"
    }
   }
  },
  {
   "cell_type": "markdown",
   "source": [
    "## Plot points from B that are in grid"
   ],
   "metadata": {
    "collapsed": false
   }
  },
  {
   "cell_type": "code",
   "execution_count": 14,
   "outputs": [
    {
     "name": "stdout",
     "output_type": "stream",
     "text": [
      "+--------------------+----------+---------+-----------+---------+---------+---------+---------+-------+\n",
      "|                 _id|         X|        Y|exp_grid_id|grid_minX|grid_maxX|grid_minY|grid_maxY|grid_id|\n",
      "+--------------------+----------+---------+-----------+---------+---------+---------+---------+-------+\n",
      "|600399bc2bc024099...|-4.5935817| 48.13648|       2430| -4.64993| -4.58622| 48.10861| 48.17231|   2430|\n",
      "|60039df12bc024099...| -4.758715| 48.06632|       2305| -4.77733| -4.71363| 48.04491| 48.10861|   2305|\n",
      "|60039bbe2bc024099...| -4.472955|48.340054|       2553| -4.52252| -4.45882| 48.29972| 48.36342|   2553|\n",
      "|60039e102bc024099...| -4.678545|48.304527|       2364| -4.71363| -4.64993| 48.29972| 48.36342|   2364|\n",
      "|600399bc2bc024099...|  -4.59364| 48.13646|       2430| -4.64993| -4.58622| 48.10861| 48.17231|   2430|\n",
      "|60039c032bc024099...| -4.592973|48.134605|       2430| -4.64993| -4.58622| 48.10861| 48.17231|   2430|\n",
      "|60039b9c2bc024099...| -4.462722| 48.13622|       2556| -4.52252| -4.45882| 48.10861| 48.17231|   2556|\n",
      "|60039e512bc024099...|-4.4783816| 48.34225|       2553| -4.52252| -4.45882| 48.29972| 48.36342|   2553|\n",
      "|60039a5a2bc024099...| -4.445865|48.135105|       2619| -4.45882| -4.39511| 48.10861| 48.17231|   2619|\n",
      "|60039c6d2bc024099...|-4.5124984|48.370834|       2552| -4.52252| -4.45882| 48.36342| 48.42713|   2552|\n",
      "|60039c8d2bc024099...| -4.518862|48.350636|       2553| -4.52252| -4.45882| 48.29972| 48.36342|   2553|\n",
      "|60039a692bc024099...|-4.4970717| 48.38217|       2552| -4.52252| -4.45882| 48.36342| 48.42713|   2552|\n",
      "|60039a922bc024099...|-4.4970584|48.379536|       2552| -4.52252| -4.45882| 48.36342| 48.42713|   2552|\n",
      "|60039bdc2bc024099...|-4.6519585|48.308167|       2364| -4.71363| -4.64993| 48.29972| 48.36342|   2364|\n",
      "|60039c3d2bc024099...|-4.4851217|48.381382|       2552| -4.52252| -4.45882| 48.36342| 48.42713|   2552|\n",
      "|600399bc2bc024099...|  -4.59389|48.136375|       2430| -4.64993| -4.58622| 48.10861| 48.17231|   2430|\n",
      "|6003990d2bc024099...|   -4.4861|48.381554|       2552| -4.52252| -4.45882| 48.36342| 48.42713|   2552|\n",
      "|600399bc2bc024099...|-4.5939965|48.136345|       2430| -4.64993| -4.58622| 48.10861| 48.17231|   2430|\n",
      "|60039bbe2bc024099...|-4.4727435|48.339493|       2553| -4.52252| -4.45882| 48.29972| 48.36342|   2553|\n",
      "|60039e102bc024099...|-4.6779666| 48.30472|       2364| -4.71363| -4.64993| 48.29972| 48.36342|   2364|\n",
      "+--------------------+----------+---------+-----------+---------+---------+---------+---------+-------+\n",
      "only showing top 20 rows\n",
      "\n"
     ]
    }
   ],
   "source": [
    "filltered_df = spatial_join_b_result_new.filter(F.col(\"grid_id\").isNotNull())\n",
    "filltered_df.show()"
   ],
   "metadata": {
    "collapsed": false,
    "pycharm": {
     "name": "#%%\n"
    }
   }
  },
  {
   "cell_type": "code",
   "execution_count": 15,
   "outputs": [
    {
     "data": {
      "text/plain": "<Figure size 720x432 with 1 Axes>",
      "image/png": "[encoded data removed]"
     },
     "metadata": {
      "needs_background": "light"
     },
     "output_type": "display_data"
    }
   ],
   "source": [
    "# print grids\n",
    "ax = utils.createAXNFigure()\n",
    "BLUE = '#6699cc'\n",
    "GRAY = '#999999'\n",
    "\n",
    "for cell in filtered_grid.collect():\n",
    "    grid_poly = utils.createPolyFromPoints(cell[\"grid_minX\"], cell[\"grid_maxX\"], cell[\"grid_minY\"], cell[\"grid_maxY\"])\n",
    "    # exp_grid = utils.createPolyFromPoints(cell[\"exp_grid_minX\"], cell[\"exp_grid_maxX\"], cell[\"exp_grid_minY\"], cell[\"exp_grid_maxY\"])\n",
    "\n",
    "    # ax.add_patch(PolygonPatch(exp_grid, fc='y', ec=\"y\", alpha=0.1, zorder=2))\n",
    "    ax.add_patch(PolygonPatch(grid_poly, fc=GRAY, ec=GRAY, alpha=0.8, zorder=2))\n",
    "\n",
    "\n",
    "for row in df_a.collect():\n",
    "  ax.plot(row.X, row.Y, marker='o', markersize=2, alpha=0.3, c='r')\n",
    "\n",
    "for row in filltered_df.collect():\n",
    "  ax.plot(row.X, row.Y, marker='x', markersize=2, alpha=0.3, c='b')\n",
    "\n",
    "\n",
    "plt.ylabel(\"Latitude\")\n",
    "plt.xlabel(\"Longitude\")\n",
    "plt.show()"
   ],
   "metadata": {
    "collapsed": false,
    "pycharm": {
     "name": "#%%\n"
    }
   }
  },
  {
   "cell_type": "markdown",
   "source": [
    "## Find matching points/pairs\n",
    "\n",
    "As a first filter of matching point we use the fact that each pair point in the same\n",
    "grid between 2 datasets satisfied the theta condition so:\n",
    "- We perform a filter on point set B in order to keep only those points that has been\n",
    "assigned in a grid\n",
    "- then we perform a simple join with points from point set A based on grid id to find all\n",
    "valid pairs given by grids\n",
    "- then write the result into a file (override result if file exits)\n",
    "\n",
    "### SOS gia tin ilopoiisi\n",
    "- to filtrarisma tha ginei kratontas osa point exoun idio grid kai expanded grid id"
   ],
   "metadata": {
    "collapsed": false
   }
  },
  {
   "cell_type": "code",
   "execution_count": 16,
   "outputs": [
    {
     "name": "stdout",
     "output_type": "stream",
     "text": [
      "75701415\n",
      "--- 0.8116741180419922 seconds ---\n"
     ]
    }
   ],
   "source": [
    "# timing procedure\n",
    "start_time = time.time()\n",
    "\n",
    "filtered_a_results = spatial_join_result\\\n",
    "    .select(F.col(\"_id\"), F.col(\"grid_id\"))\\\n",
    "    .withColumnRenamed(\"_id\",\"a_id\")\n",
    "\n",
    "filtered_b_results = spatial_join_b_result_new\\\n",
    "    .filter(F.col(\"grid_id\") == F.col(\"exp_grid_id\"))\\\n",
    "    .select(F.col(\"_id\"), F.col(\"grid_id\"))\\\n",
    "    .withColumnRenamed(\"_id\",\"b_id\")\n",
    "\n",
    "ta = filtered_a_results.alias('ta')\n",
    "tb = filtered_b_results.alias('tb')\n",
    "\n",
    "first_result = ta.join(tb, ta.grid_id == tb.grid_id)\\\n",
    "    .select(F.col(\"a_id\"), F.col(\"b_id\"))\n",
    "\n",
    "# write file\n",
    "print(first_result.count())#.write.save(\"dist_join_result.csv\", format=\"csv\", mode=\"overwrite\")\n",
    "\n",
    "print(\"--- %s seconds ---\" % (time.time() - start_time))"
   ],
   "metadata": {
    "collapsed": false,
    "pycharm": {
     "name": "#%%\n"
    }
   }
  },
  {
   "cell_type": "markdown",
   "source": [
    "## Find matching points using expanded grids\n",
    "Now we have to check for matching pairs between points from point set A that are in\n",
    "grid and points from pointest B that ar in the same expanded grid and not in the grid\n",
    "\n",
    "- declare a udf for haversian distance\n",
    "- **SOS** By experiemrnt we find out that numpy haversine approch is slower than normal one\n",
    "- first get all points with null grid from joined pointset B\n"
   ],
   "metadata": {
    "collapsed": false
   }
  },
  {
   "cell_type": "code",
   "execution_count": 17,
   "outputs": [],
   "source": [
    "from math import radians, cos, sin, asin, sqrt\n",
    "\n",
    "def haversine(lon1, lat1, lon2, lat2):\n",
    "    \"\"\"\n",
    "    Calculate the great circle distance between two points\n",
    "    on the earth (specified in decimal degrees)\n",
    "    \"\"\"\n",
    "    # convert decimal degrees to radians\n",
    "    lon1, lat1, lon2, lat2 = map(radians, [lon1, lat1, lon2, lat2])\n",
    "\n",
    "    # haversine formula\n",
    "    dlon = lon2 - lon1\n",
    "    dlat = lat2 - lat1\n",
    "    a = sin(dlat/2)**2 + cos(lat1) * cos(lat2) * sin(dlon/2)**2\n",
    "    c = 2 * asin(sqrt(a))\n",
    "    r = 6371 # Radius of earth in kilometers. Use 3956 for miles\n",
    "    return c * r\n",
    "\n",
    "def haversine_np(lon1, lat1, lon2, lat2):\n",
    "    \"\"\"\n",
    "    Calculate the great circle distance between two points\n",
    "    on the earth (specified in decimal degrees)\n",
    "\n",
    "    All args must be of equal length.\n",
    "\n",
    "    \"\"\"\n",
    "    # convert decimal degrees to radians\n",
    "    lon1, lat1, lon2, lat2 = map(np.radians, [lon1, lat1, lon2, lat2])\n",
    "\n",
    "    # haversine formula\n",
    "    dlon = lon2 - lon1\n",
    "    dlat = lat2 - lat1\n",
    "\n",
    "    a = np.sin(dlat/2)**2 + np.cos(lat1) * np.cos(lat2) * np.sin(dlon/2)**2\n",
    "\n",
    "    c = 2 * np.arcsin(np.sqrt(a))\n",
    "    r = 6371 # Radius of earth in kilometers. Use 3956 for miles\n",
    "    km = r * c\n",
    "    return float(km)\n",
    "\n",
    "udf_haversine = F.udf(haversine, DoubleType())\n",
    "udf_haversine_np = F.udf(haversine_np, DoubleType())"
   ],
   "metadata": {
    "collapsed": false,
    "pycharm": {
     "name": "#%%\n"
    }
   }
  },
  {
   "cell_type": "code",
   "execution_count": 18,
   "outputs": [
    {
     "name": "stdout",
     "output_type": "stream",
     "text": [
      "+--------------------+----------+---------+---------+--------------------+----------+--------+-------------+------------------+\n",
      "|                a_id|       a_X|      a_Y|a_grid_id|                b_id|       b_X|     b_Y|b_exp_grid_id|    haversine_dist|\n",
      "+--------------------+----------+---------+---------+--------------------+----------+--------+-------------+------------------+\n",
      "|600399d12bc024099...| -4.652525| 48.14122|     2367|600399bc2bc024099...|-4.5935817|48.13648|         2367| 4.405438903812571|\n",
      "|600399d12bc024099...| -4.654745|48.143135|     2367|600399bc2bc024099...|-4.5935817|48.13648|         2367| 4.598377155374055|\n",
      "|600399d12bc024099...| -4.663707| 48.15078|     2367|600399bc2bc024099...|-4.5935817|48.13648|         2367| 5.440602736087082|\n",
      "|600399d12bc024099...| -4.664758|48.151672|     2367|600399bc2bc024099...|-4.5935817|48.13648|         2367|5.5445915004848985|\n",
      "|600399d12bc024099...|-4.6725216| 48.15872|     2367|600399bc2bc024099...|-4.5935817|48.13648|         2367| 6.357321780715263|\n",
      "|600399d12bc024099...| -4.673208| 48.15982|     2367|600399bc2bc024099...|-4.5935817|48.13648|         2367| 6.452425765747337|\n",
      "|600399d12bc024099...| -4.673955|   48.161|     2367|600399bc2bc024099...|-4.5935817|48.13648|         2367| 6.556607941870888|\n",
      "|600399d12bc024099...|-4.6746583|  48.1621|     2367|600399bc2bc024099...|-4.5935817|48.13648|         2367| 6.655467171276765|\n",
      "|600399d12bc024099...|-4.6754265|48.163265|     2367|600399bc2bc024099...|-4.5935817|48.13648|         2367|6.7629962795215075|\n",
      "|600399d12bc024099...|-4.6761484|48.164413|     2367|600399bc2bc024099...|-4.5935817|48.13648|         2367|  6.86783779974503|\n",
      "+--------------------+----------+---------+---------+--------------------+----------+--------+-------------+------------------+\n",
      "only showing top 10 rows\n",
      "\n",
      "68026002\n",
      "--- 314.3752861022949 seconds ---\n"
     ]
    }
   ],
   "source": [
    "# timing procedure\n",
    "start_time = time.time()\n",
    "\n",
    "# register udf func\n",
    "haversine_dist_udf = F.udf(utils.calculatePointsDistance, DoubleType())\n",
    "\n",
    "filtered_a_in_exp_grid = spatial_join_result\\\n",
    "    .withColumnRenamed(\"_id\",\"a_id\")\\\n",
    "    .withColumnRenamed(\"X\",\"a_X\")\\\n",
    "    .withColumnRenamed(\"Y\",\"a_Y\")\\\n",
    "    .withColumnRenamed(\"grid_id\",\"a_grid_id\")\\\n",
    "    .select(F.col(\"a_id\"),F.col(\"a_X\"),F.col(\"a_Y\"),F.col(\"a_grid_id\"))\\\n",
    "\n",
    "filtered_b_in_exp_grid = spatial_join_b_result_new.where(F.col(\"grid_id\").isNull())\\\n",
    "    .withColumnRenamed(\"_id\",\"b_id\")\\\n",
    "    .withColumnRenamed(\"X\",\"b_X\")\\\n",
    "    .withColumnRenamed(\"Y\",\"b_Y\")\\\n",
    "    .withColumnRenamed(\"exp_grid_id\",\"b_exp_grid_id\")\\\n",
    "    .select(F.col(\"b_id\"),F.col(\"b_X\"),F.col(\"b_Y\"),F.col(\"b_exp_grid_id\"))\\\n",
    "\n",
    "\n",
    "ta = filtered_a_in_exp_grid.alias('ta')\n",
    "tb = filtered_b_in_exp_grid.alias('tb')\n",
    "\n",
    "final_result = ta.join(tb, ta.a_grid_id == tb.b_exp_grid_id)\n",
    "\n",
    "final_result = final_result.withColumn(\"haversine_dist\", udf_haversine(F.col(\"a_X\"),F.col(\"a_Y\"),F.col(\"b_X\"),F.col(\"b_Y\")))\\\n",
    "    .filter(F.col(\"haversine_dist\") <= 10)\n",
    "#\\\n",
    "    # .where(createPoints_udf(F.col(\"a_X\"),F.col(\"a_Y\"),F.col(\"b_X\"),F.col(\"b_Y\")) >= 10)#\\\n",
    "    # .select(F.col(\"a_id\"), F.col(\"b_id\"))\n",
    "\n",
    "# final_result.write.save(\"dist_join_result.csv\", format=\"csv\", mode=\"append\")\n",
    "\n",
    "final_result.show(10)\n",
    "print(final_result.count())\n",
    "\n",
    "print(\"--- %s seconds ---\" % (time.time() - start_time))"
   ],
   "metadata": {
    "collapsed": false,
    "pycharm": {
     "name": "#%%\n"
    }
   }
  },
  {
   "cell_type": "code",
   "execution_count": 19,
   "outputs": [
    {
     "name": "stdout",
     "output_type": "stream",
     "text": [
      "--- TOTAL EXECUTION TIME ---\n",
      "--- 705.6993837356567 seconds ---\n"
     ]
    }
   ],
   "source": [
    "print(\"--- TOTAL EXECUTION TIME ---\\n--- %s seconds ---\" % (time.time() - total_time))\n",
    "\n"
   ],
   "metadata": {
    "collapsed": false,
    "pycharm": {
     "name": "#%%\n"
    }
   }
  }
 ],
 "metadata": {
  "kernelspec": {
   "display_name": "Python 3",
   "language": "python",
   "name": "python3"
  },
  "language_info": {
   "codemirror_mode": {
    "name": "ipython",
    "version": 2
   },
   "file_extension": ".py",
   "mimetype": "text/x-python",
   "name": "python",
   "nbconvert_exporter": "python",
   "pygments_lexer": "ipython2",
   "version": "2.7.6"
  }
 },
 "nbformat": 4,
 "nbformat_minor": 0
}