{
 "cells": [
  {
   "cell_type": "markdown",
   "source": [
    "# Simiosis gia Grid\n",
    "- o skopos tou na dimiourgisw ena grid einai gia na miosw kata poli to sinolo ton simion sto disance join\n",
    "- auto epitinxanete ftiaxnontas ena MBB pernontas ta min ton max(x,y) kai apo ta 2 data sets kathos kai ta max apo ta min(x,y) me tin logiki oti osa simia einai ektos tou min max x enos apo ta 2 dataset den ikanopoioun tin sinthiki theta.\n",
    "- stin sinexia tha prepei na kanw spatial join to grid kai me ta 2 datasets gia na vrw se poio grid paei kathe simio\n",
    "- meta tha aporipsw osa grids den exoun kanena\n",
    "\n",
    "### Xrisima stixia na periexei ena grid\n",
    "- gridId\n",
    "- polygon\n",
    "- TODO Check id x an y needed for partitioning reasons\n",
    "\n",
    "### Idea gia grid filtering\n",
    "- Na kanw spatial join mono sto dataset me ta ligotera simia prokimenou na filtrarw ta grids pou den exeoun kanena simio apo to Dataset auto\n",
    "- Me auton ton tropo epitinxanw na kanw mikrotero spatial join sto dataset me tis perisoteres eggrafes\n",
    "- auto vasizete sto"
   ],
   "metadata": {
    "collapsed": false
   }
  },
  {
   "cell_type": "markdown",
   "source": [
    "# Simiosis gia partitioning\n",
    "- prepei na xorisw ta data mou se ola ta mixanimata prin ksekinisw to spatial join\n",
    "- episis prepei na xorisw kai ta grids omiomorfa se ola ta mixanimata\n",
    "- enas tropos gia na ta xorisw tha mporouse na einai to X. Diladi na vrw ta max kai min X kai paota 2 datasets gia na vrw to rangekai na kanw range partition os pros x gia ta points\n",
    "- gia ta grids apo tin all tha eprepe na kanw partition os pros to max X tous oste na simenei oti oti grid einai sto partition exei points mono sto partition auto.\n",
    "- me auton ton tropo epitinxanoume na exoume ta points kai ta grids tous mirasmena ana mixanima kai na empodisoume tis metakinisis sto diktio\n",
    "\n",
    "### Pws to kanw auto?\n",
    "- prepei na dw pws douleui to pratitioning\n",
    "- pos simperiferete to join sto partitioning\n",
    "- prepei na dw an ipostirizei kati tetoio i vivliothiki"
   ],
   "metadata": {
    "collapsed": false,
    "pycharm": {
     "name": "#%% md\n"
    }
   }
  },
  {
   "cell_type": "markdown",
   "source": [
    "## Imports"
   ],
   "metadata": {
    "collapsed": false
   }
  },
  {
   "cell_type": "code",
   "execution_count": 1,
   "outputs": [],
   "source": [
    "# Main  Imports\n",
    "import numpy as np\n",
    "import geopandas as gpd\n",
    "import matplotlib.pyplot as plt\n",
    "from IPython.core.display import display\n",
    "import time\n",
    "\n",
    "# Local App Imports\n",
    "from utils import spatialUtils as utils\n",
    "\n",
    "# Spark Imports\n",
    "from pyspark.sql import SparkSession\n",
    "from pyspark.sql import Row\n",
    "from pyspark.sql import functions as F\n",
    "from pyspark.sql import SQLContext\n",
    "from pyspark.sql.types import StructType, StructField, StringType, IntegerType, DoubleType, LongType\n",
    "\n",
    "\n",
    "# Sedona Imports\n",
    "from sedona.utils import KryoSerializer, SedonaKryoRegistrator\n",
    "from sedona.register import SedonaRegistrator\n",
    "from sedona.sql.types import GeometryType\n",
    "\n",
    "# Python shapely imports\n",
    "import shapely.geometry as sg\n",
    "from shapely.geometry import Polygon\n",
    "from descartes import PolygonPatch\n",
    "import geog\n",
    "import shapely.speedups\n",
    "shapely.speedups.enable() # this makes some spatial queries run faster"
   ],
   "metadata": {
    "collapsed": false,
    "pycharm": {
     "name": "#%%\n"
    }
   }
  },
  {
   "cell_type": "markdown",
   "source": [
    "## Load Dataset"
   ],
   "metadata": {
    "collapsed": false
   }
  },
  {
   "cell_type": "code",
   "execution_count": 2,
   "outputs": [
    {
     "name": "stdout",
     "output_type": "stream",
     "text": [
      "+---+--------------------+----------+---------+\n",
      "|_c0|                 _id|         X|        Y|\n",
      "+---+--------------------+----------+---------+\n",
      "|  0|60039bef2bc024099...|  -4.50088| 48.35698|\n",
      "|  1|60039b8f2bc024099...|-4.4970617|48.379555|\n",
      "|  2|60039b9c2bc024099...|-4.4137635| 48.15062|\n",
      "|  3|60039bef2bc024099...| -4.500963|48.356915|\n",
      "|  4|60039bbe2bc024099...| -4.474253|48.341007|\n",
      "|  5|60039bef2bc024099...| -4.501045|48.356842|\n",
      "|  6|60039a6c2bc024099...| -4.497015|48.382206|\n",
      "|  7|60039c032bc024099...|  -4.56926| 48.13976|\n",
      "|  8|60039e032bc024099...| -4.476655| 48.38109|\n",
      "|  9|60039bef2bc024099...| -4.501128|48.356773|\n",
      "+---+--------------------+----------+---------+\n",
      "only showing top 10 rows\n",
      "\n",
      "+---+--------------------+----------+---------+\n",
      "|_c0|                 _id|         X|        Y|\n",
      "+---+--------------------+----------+---------+\n",
      "|  0|600399bc2bc024099...|-4.5935817| 48.13648|\n",
      "|  1|60039df12bc024099...| -4.758715| 48.06632|\n",
      "|  2|60039bbe2bc024099...| -4.472955|48.340054|\n",
      "|  3|60039e102bc024099...| -4.678545|48.304527|\n",
      "|  4|600399bc2bc024099...|  -4.59364| 48.13646|\n",
      "|  5|60039c032bc024099...|  -4.44887| 48.38294|\n",
      "|  6|60039c032bc024099...| -4.592973|48.134605|\n",
      "|  7|60039b9c2bc024099...| -4.462722| 48.13622|\n",
      "|  8|60039e512bc024099...|-4.4783816| 48.34225|\n",
      "|  9|60039a5a2bc024099...| -4.445865|48.135105|\n",
      "+---+--------------------+----------+---------+\n",
      "only showing top 10 rows\n",
      "\n"
     ]
    }
   ],
   "source": [
    "# full program timer\n",
    "total_time = time.time()\n",
    "\n",
    "test_sample_A_path = \"../../testData/ais_one_hour.csv\"\n",
    "test_sample_B_path = \"../../testData/ais_one_hour2.csv\"\n",
    "\n",
    "# test_sample_path = \"../testData/ais_one_month.csv\"\n",
    "\n",
    "\n",
    "# create sedona spark session\n",
    "spark = SparkSession.builder.appName(\"DistributedDistanceJoin_Test\").master(\"local\").getOrCreate()\n",
    "# spark = SparkSession. \\\n",
    "#     builder. \\\n",
    "#     appName('appName'). \\\n",
    "#     config(\"spark.serializer\", KryoSerializer.getName). \\\n",
    "#     config(\"spark.kryo.registrator\", SedonaKryoRegistrator.getName). \\\n",
    "#     config('spark.jars.packages',\n",
    "#            'org.apache.sedona:sedona-python-adapter-3.0_2.12:1.0.0-incubating,'\n",
    "#            'org.datasyslab:geotools-wrapper:geotools-24.0'). \\\n",
    "#     getOrCreate()\n",
    "#\n",
    "# SedonaRegistrator.registerAll(spark)\n",
    "\n",
    "# Load CSV File\n",
    "df_a = spark.read.csv(header=\"True\", inferSchema=\"True\", path=test_sample_A_path)\n",
    "df_a.show(10)\n",
    "\n",
    "df_b = spark.read.csv(header=\"True\", inferSchema=\"True\", path=test_sample_B_path)\n",
    "df_b.show(10)"
   ],
   "metadata": {
    "collapsed": false,
    "pycharm": {
     "name": "#%%\n"
    }
   }
  },
  {
   "cell_type": "markdown",
   "source": [
    "## Filter Dataset for Test Reasons\n",
    "- arxika tha periorisoume to dataset stin perioxi x[-6.5,-5] kai y[47.5,49]\n",
    "- epilegw auto gt kserw oti exei arketa pings"
   ],
   "metadata": {
    "collapsed": false
   }
  },
  {
   "cell_type": "code",
   "execution_count": 3,
   "outputs": [],
   "source": [
    "# df_a = df_a.filter( (-6 <= df_a.X) & (df_a.X <= -5) & (47.5 <= df_a.Y) & (df_a.Y <= 49))\\\n",
    "#     .cache()\n",
    "# print(\"Total filtered_df_a count {}\".format(df_a.count()))\n",
    "# df_a.show(10)\n",
    "#\n",
    "# df_b = df_b.filter( (-6.5 <= df_b.X) & (df_b.X <= -5) & (47.5 <= df_b.Y) & (df_b.Y <= 49))\\\n",
    "#     .cache()\n",
    "# print(\"Total filtered_df_b count {}\".format(df_b.count()))\n",
    "# df_b.show(10)\n",
    "\n",
    "df_a = df_a.limit(30000).cache()\n",
    "df_b = df_b.limit(30000).cache()"
   ],
   "metadata": {
    "collapsed": false,
    "pycharm": {
     "name": "#%%\n"
    }
   }
  },
  {
   "cell_type": "markdown",
   "source": [
    "## Grid Dataset\n",
    "Lets create a test grid\n",
    "- We have to find the MBB from the dataset with less records\n",
    "- Then we have to create a grid for this dataset (**sos** each grid side has to be equal to theta)\n",
    "- Then calculate expanded grids for each grid\n",
    "\n",
    "### Times:\n",
    "first run --- 4.288848161697388 seconds ---"
   ],
   "metadata": {
    "collapsed": false
   }
  },
  {
   "cell_type": "code",
   "execution_count": 4,
   "outputs": [],
   "source": [
    "def calculate_MBB_from_sdf(sdf):\n",
    "    # find min/max X,Y\n",
    "    mbb_row = sdf.agg(\n",
    "        F.max(sdf.X),\n",
    "        F.min(sdf.X),\n",
    "        F.max(sdf.Y),\n",
    "        F.min(sdf.Y),\n",
    "    ).collect()[0]\n",
    "    print(\"print mbb: {}\".format(mbb_row))\n",
    "    #calculate grid for dataset\n",
    "    return utils.getPolyGrid(mbb_row[\"min(X)\"],mbb_row[\"min(Y)\"],mbb_row[\"max(X)\"],mbb_row[\"max(Y)\"], theta=10)\n",
    "\n"
   ],
   "metadata": {
    "collapsed": false,
    "pycharm": {
     "name": "#%%\n"
    }
   }
  },
  {
   "cell_type": "code",
   "source": [
    "cell_time = time.time()\n",
    "\n",
    "#calculate grid for dataset\n",
    "grid = calculate_MBB_from_sdf(df_a) if df_a.count() <= df_b.count() else calculate_MBB_from_sdf(df_b)\n",
    "print(\"grid len: {}\".format(len(grid)))\n",
    "\n",
    "print(\"--- %s seconds ---\" % (time.time() - cell_time))\n"
   ],
   "metadata": {
    "collapsed": false,
    "pycharm": {
     "name": "#%%\n"
    }
   },
   "execution_count": 5,
   "outputs": [
    {
     "name": "stdout",
     "output_type": "stream",
     "text": [
      "print mbb: Row(max(X)=-0.066665, min(X)=-7.0706515, max(Y)=50.439285, min(Y)=45.95756)\n",
      "grid len: 7992\n",
      "--- 6.949824810028076 seconds ---\n"
     ]
    }
   ]
  },
  {
   "cell_type": "markdown",
   "source": [
    "## Plot Grid And Points"
   ],
   "metadata": {
    "collapsed": false
   }
  },
  {
   "cell_type": "code",
   "execution_count": 6,
   "outputs": [
    {
     "data": {
      "text/plain": "<Figure size 720x432 with 1 Axes>",
      "image/png": "[encoded data removed]"
     },
     "metadata": {
      "needs_background": "light"
     },
     "output_type": "display_data"
    }
   ],
   "source": [
    "# print grids\n",
    "ax = utils.createAXNFigure(coastline_path=\"../../testData/EuropeanCoastline/Europe Coastline (Polygone).shp\", zoom_in=True)\n",
    "BLUE = '#6699cc'\n",
    "GRAY = '#999999'\n",
    "for cell in grid:\n",
    "    grid_poly = utils.createPolyFromPoints(cell[\"grid_minX\"], cell[\"grid_maxX\"], cell[\"grid_minY\"], cell[\"grid_maxY\"])\n",
    "    ax.add_patch(PolygonPatch(grid_poly, fc=GRAY, ec=GRAY, alpha=0.5, zorder=2))\n",
    "\n",
    "for row in df_a.collect():\n",
    "  ax.plot(row.X, row.Y, marker='o', markersize=2, alpha=0.3, c='r')\n",
    "\n",
    "for row in df_b.collect():\n",
    "  ax.plot(row.X, row.Y, marker='x', markersize=2, alpha=0.3, c='b')\n",
    "\n",
    "\n",
    "plt.ylabel(\"Latitude\")\n",
    "plt.xlabel(\"Longitude\")\n",
    "plt.show()"
   ],
   "metadata": {
    "collapsed": false,
    "pycharm": {
     "name": "#%%\n"
    }
   }
  },
  {
   "cell_type": "markdown",
   "source": [
    "## Create Grid RDD or DF"
   ],
   "metadata": {
    "collapsed": false,
    "pycharm": {
     "name": "#%% md\n"
    }
   }
  },
  {
   "cell_type": "code",
   "source": [
    "grid_df = spark.createDataFrame(grid)\n",
    "grid_df.printSchema()\n",
    "print(grid_df.schema)\n",
    "grid_df.show(10)"
   ],
   "metadata": {
    "collapsed": false,
    "pycharm": {
     "name": "#%%\n"
    }
   },
   "execution_count": 7,
   "outputs": [
    {
     "name": "stdout",
     "output_type": "stream",
     "text": [
      "root\n",
      " |-- exp_grid_maxX: double (nullable = true)\n",
      " |-- exp_grid_maxY: double (nullable = true)\n",
      " |-- exp_grid_minX: double (nullable = true)\n",
      " |-- exp_grid_minY: double (nullable = true)\n",
      " |-- grid_id: long (nullable = true)\n",
      " |-- grid_maxX: double (nullable = true)\n",
      " |-- grid_maxY: double (nullable = true)\n",
      " |-- grid_minX: double (nullable = true)\n",
      " |-- grid_minY: double (nullable = true)\n",
      "\n",
      "StructType(List(StructField(exp_grid_maxX,DoubleType,true),StructField(exp_grid_maxY,DoubleType,true),StructField(exp_grid_minX,DoubleType,true),StructField(exp_grid_minY,DoubleType,true),StructField(grid_id,LongType,true),StructField(grid_maxX,DoubleType,true),StructField(grid_maxY,DoubleType,true),StructField(grid_minX,DoubleType,true),StructField(grid_minY,DoubleType,true)))\n",
      "+-------------+-------------+-------------+-------------+-------+---------+---------+---------+---------+\n",
      "|exp_grid_maxX|exp_grid_maxY|exp_grid_minX|exp_grid_minY|grid_id|grid_maxX|grid_maxY|grid_minX|grid_minY|\n",
      "+-------------+-------------+-------------+-------------+-------+---------+---------+---------+---------+\n",
      "|     -6.86562|     50.57043|     -7.21198|     50.32686|      0| -7.00695|  50.4805| -7.07065| 50.41679|\n",
      "|     -6.86581|     50.50672|     -7.21179|     50.26316|      1| -7.00695| 50.41679| -7.07065| 50.35309|\n",
      "|       -6.866|     50.44302|      -7.2116|     50.19945|      2| -7.00695| 50.35309| -7.07065| 50.28939|\n",
      "|     -6.86619|     50.37932|     -7.21141|     50.13575|      3| -7.00695| 50.28939| -7.07065| 50.22568|\n",
      "|     -6.86638|     50.31561|     -7.21122|     50.07205|      4| -7.00695| 50.22568| -7.07065| 50.16198|\n",
      "|     -6.86657|     50.25191|     -7.21103|     50.00834|      5| -7.00695| 50.16198| -7.07065| 50.09828|\n",
      "|     -6.86675|     50.18821|     -7.21085|     49.94464|      6| -7.00695| 50.09828| -7.07065| 50.03457|\n",
      "|     -6.86694|      50.1245|     -7.21066|     49.88094|      7| -7.00695| 50.03457| -7.07065| 49.97087|\n",
      "|     -6.86712|      50.0608|     -7.21048|     49.81723|      8| -7.00695| 49.97087| -7.07065| 49.90717|\n",
      "|     -6.86731|      49.9971|     -7.21029|     49.75353|      9| -7.00695| 49.90717| -7.07065| 49.84346|\n",
      "+-------------+-------------+-------------+-------------+-------+---------+---------+---------+---------+\n",
      "only showing top 10 rows\n",
      "\n"
     ]
    }
   ]
  },
  {
   "cell_type": "markdown",
   "source": [
    "## Link Points tou Grids\n",
    "- **Approach 1:** Test databricks code for spatial join from link\n",
    "- **Approach 2:** perform spatial join in order to link points with grids\n",
    "- **Approach 3:** perform spatial join without using intersection. use where statement on join and check if point is within grid box\n",
    "\n",
    "### Results\n",
    "It seems that approach 3 is 3 times faster than approach 2 because we dont need to check for intersection using apache\n",
    "sedona because we use squares/grids as polygons and in this case we can easily check if point intersect with the square\n",
    "grid by chacking max and min X,Y respectively. Despite that we dont need to use UDF function in order to conver X,Y coords into sapely point"
   ],
   "metadata": {
    "collapsed": false,
    "pycharm": {
     "name": "#%% md\n"
    }
   }
  },
  {
   "cell_type": "markdown",
   "source": [
    "### Approach 3"
   ],
   "metadata": {
    "collapsed": false,
    "pycharm": {
     "name": "#%% md\n"
    }
   }
  },
  {
   "cell_type": "code",
   "source": [
    "# timing procedure\n",
    "start_time = time.time()\n",
    "\n",
    "df_a.createOrReplaceTempView(\"points\")\n",
    "grid_df.createOrReplaceTempView(\"grids\")\n",
    "\n",
    "spatial_join_result = spark.sql(\n",
    "    \"\"\"\n",
    "        SELECT *\n",
    "        FROM points AS P join grids AS G\n",
    "        WHERE P.X >= G.grid_minX and P.X <= G.grid_maxX\n",
    "         and P.Y >= G.grid_minY and P.Y <= G.grid_maxY\n",
    "    \"\"\"\n",
    ").cache() # cache results to avoid perform join again\n",
    "\n",
    "\n",
    "\n",
    "print(\"--- %s seconds ---\" % (time.time() - start_time))\n",
    "\n",
    "# print some stats\n",
    "spatial_join_result.show()\n",
    "print(spatial_join_result.count())"
   ],
   "metadata": {
    "collapsed": false,
    "pycharm": {
     "name": "#%%\n"
    }
   },
   "execution_count": 8,
   "outputs": [
    {
     "name": "stdout",
     "output_type": "stream",
     "text": [
      "--- 0.32039499282836914 seconds ---\n",
      "+-----+--------------------+----------+---------+-------------+-------------+-------------+-------------+-------+---------+---------+---------+---------+\n",
      "|  _c0|                 _id|         X|        Y|exp_grid_maxX|exp_grid_maxY|exp_grid_minX|exp_grid_minY|grid_id|grid_maxX|grid_maxY|grid_minX|grid_minY|\n",
      "+-----+--------------------+----------+---------+-------------+-------------+-------------+-------------+-------+---------+---------+---------+---------+\n",
      "|  411|600398982bc024099...| -7.070542|49.238495|     -6.86912|     49.36006|     -7.20848|      49.1165|     19| -7.00695| 49.27013| -7.07065| 49.20643|\n",
      "| 3611|600398982bc024099...|-6.9999585| 49.35194|     -6.80506|     49.48747|     -7.14513|      49.2439|     89| -6.94324| 49.39754| -7.00695| 49.33384|\n",
      "| 3620|600398982bc024099...|-6.9997835|49.352276|     -6.80506|     49.48747|     -7.14513|      49.2439|     89| -6.94324| 49.39754| -7.00695| 49.33384|\n",
      "| 3626|600398982bc024099...| -6.999658|49.352432|     -6.80506|     49.48747|     -7.14513|      49.2439|     89| -6.94324| 49.39754| -7.00695| 49.33384|\n",
      "| 3632|600398982bc024099...|-6.9994984|49.352654|     -6.80506|     49.48747|     -7.14513|      49.2439|     89| -6.94324| 49.39754| -7.00695| 49.33384|\n",
      "| 8857|60039a542bc024099...|-6.8010135|49.488266|     -6.61359|     49.61488|     -6.95438|     49.37131|    303| -6.75213| 49.52495| -6.81584| 49.46124|\n",
      "|27687|60039c862bc024099...| -6.798585|49.451794|     -6.61377|     49.55117|      -6.9542|     49.30761|    304| -6.75213| 49.46124| -6.81584| 49.39754|\n",
      "|19974|600398982bc024099...|-6.6092634| 50.03722|     -6.42083|     50.18821|     -6.76492|     49.94464|    510| -6.56102| 50.09828| -6.62473| 50.03457|\n",
      "|22074|600398982bc024099...|   -6.5567| 50.15317|     -6.35694|     50.25191|     -6.70141|     50.00834|    581| -6.49732| 50.16198| -6.56102| 50.09828|\n",
      "|22079|600398982bc024099...|  -6.55658|50.153507|     -6.35694|     50.25191|     -6.70141|     50.00834|    581| -6.49732| 50.16198| -6.56102| 50.09828|\n",
      "|22086|600398982bc024099...|  -6.55646| 50.15366|     -6.35694|     50.25191|     -6.70141|     50.00834|    581| -6.49732| 50.16198| -6.56102| 50.09828|\n",
      "|22093|600398982bc024099...|-6.5563965|50.153885|     -6.35694|     50.25191|     -6.70141|     50.00834|    581| -6.49732| 50.16198| -6.56102| 50.09828|\n",
      "|22096|600398982bc024099...|  -6.55632| 50.15405|     -6.35694|     50.25191|     -6.70141|     50.00834|    581| -6.49732| 50.16198| -6.56102| 50.09828|\n",
      "|22104|600398982bc024099...| -6.556215|  50.1542|     -6.35694|     50.25191|     -6.70141|     50.00834|    581| -6.49732| 50.16198| -6.56102| 50.09828|\n",
      "| 4470|60039e542bc024099...| -6.214665|48.375484|     -6.04341|     48.46822|     -6.37791|     48.22465|    969| -6.17881| 48.37829| -6.24251| 48.31458|\n",
      "|13494|60039df22bc024099...|-6.1472917|48.121025|     -5.98038|      48.2134|     -6.31353|     47.96984|   1045|  -6.1151| 48.12347| -6.17881| 48.05977|\n",
      "|23191|60039e2b2bc024099...|-6.0164633|50.439285|     -5.84637|     50.57043|     -6.19273|     50.32686|   1152|  -5.9877|  50.4805|  -6.0514| 50.41679|\n",
      "| 4491|60039e0d2bc024099...| -6.004648|49.098534|     -5.85022|     49.23266|     -6.18887|     48.98909|   1173|  -5.9877| 49.14273|  -6.0514| 49.07902|\n",
      "|13877|60039e4a2bc024099...|-6.0279264| 48.23766|     -5.85264|     48.34081|     -6.18646|     48.09724|   1187|  -5.9877| 48.25088|  -6.0514| 48.18718|\n",
      "|18550|60039df22bc024099...|-5.9645534| 48.36482|     -5.78859|     48.46822|     -6.12309|     48.22465|   1257| -5.92399| 48.37829|  -5.9877| 48.31458|\n",
      "+-----+--------------------+----------+---------+-------------+-------------+-------------+-------------+-------+---------+---------+---------+---------+\n",
      "only showing top 20 rows\n",
      "\n",
      "30001\n"
     ]
    }
   ]
  },
  {
   "cell_type": "markdown",
   "source": [
    "## Spatial join Approach 2 stats\n",
    "- find count\n",
    "- find pings per grid\n",
    "- filter grids with 0 points\n",
    "\n",
    "### SOS\n",
    "Otan kanoume chaining functions mporoume na exoume access se colum apo to proigoumeno function kanontas F.col(\"coll_name\")"
   ],
   "metadata": {
    "collapsed": false,
    "pycharm": {
     "name": "#%% md\n"
    }
   }
  },
  {
   "cell_type": "code",
   "source": [
    "print(\"spatial join count: {}\".format(spatial_join_result.count()))\n",
    "\n",
    "# find pings per grid\n",
    "filtered_grid = spatial_join_result.groupby([\"grid_id\", \"grid_maxX\", \"grid_maxY\", \"grid_minX\", \"grid_minY\", \"exp_grid_maxX\", \"exp_grid_maxY\", \"exp_grid_minX\", \"exp_grid_minY\"])\\\n",
    "    .count()\\\n",
    "    .filter(F.col(\"count\") > 0)\\\n",
    "    .cache()\n",
    "\n",
    "filtered_grid.show(10)\n",
    "\n",
    "print(\"filtered spatial join count: {}\".format(filtered_grid.count()))"
   ],
   "metadata": {
    "collapsed": false,
    "pycharm": {
     "name": "#%%\n"
    }
   },
   "execution_count": 9,
   "outputs": [
    {
     "name": "stdout",
     "output_type": "stream",
     "text": [
      "spatial join count: 30001\n",
      "+-------+---------+---------+---------+---------+-------------+-------------+-------------+-------------+-----+\n",
      "|grid_id|grid_maxX|grid_maxY|grid_minX|grid_minY|exp_grid_maxX|exp_grid_maxY|exp_grid_minX|exp_grid_minY|count|\n",
      "+-------+---------+---------+---------+---------+-------------+-------------+-------------+-------------+-----+\n",
      "|   1173|  -5.9877| 49.14273|  -6.0514| 49.07902|     -5.85022|     49.23266|     -6.18887|     48.98909|    1|\n",
      "|   2040| -5.22326| 48.95162| -5.28696| 48.88791|     -5.08631|     49.04155|      -5.4239|     48.79798|    3|\n",
      "|   7886| -0.06329| 48.05977| -0.12699| 47.99607|      0.07127|      48.1497|     -0.26155|     47.90613|    2|\n",
      "|   3350|  -4.0766| 48.05977|  -4.1403| 47.99607|     -3.94204|      48.1497|     -4.27486|     47.90613|    1|\n",
      "|   1894| -5.35066| 49.07902| -5.41437| 49.01532|     -5.21336|     49.16895|     -5.55166|     48.92539|    1|\n",
      "|   2478| -4.84104|  48.5694| -4.90474| 48.50569|     -4.70513|     48.65933|     -5.04065|     48.41576|   28|\n",
      "|   1976| -5.28696| 48.44199| -5.35066| 48.37829|     -5.15139|     48.53192|     -5.48623|     48.28835|    4|\n",
      "|   2116| -5.15955|  48.6968| -5.22326|  48.6331|      -5.0233|     48.78673|     -5.35951|     48.54317|   19|\n",
      "|   2407| -4.90474| 48.50569| -4.96844| 48.44199|       -4.769|     48.59562|     -5.10418|     48.35206|    5|\n",
      "|   5380|  -2.2929| 47.16792| -2.35661| 47.10422|     -2.16062|     47.25786|     -2.48889|     47.01429|    3|\n",
      "+-------+---------+---------+---------+---------+-------------+-------------+-------------+-------------+-----+\n",
      "only showing top 10 rows\n",
      "\n",
      "filtered spatial join count: 228\n"
     ]
    }
   ]
  },
  {
   "cell_type": "markdown",
   "source": [
    "## Plot points with filtered grids"
   ],
   "metadata": {
    "collapsed": false,
    "pycharm": {
     "name": "#%% md\n"
    }
   }
  },
  {
   "cell_type": "code",
   "execution_count": 10,
   "outputs": [
    {
     "data": {
      "text/plain": "<Figure size 720x432 with 1 Axes>",
      "image/png": "[encoded data removed]"
     },
     "metadata": {
      "needs_background": "light"
     },
     "output_type": "display_data"
    }
   ],
   "source": [
    "# print grids\n",
    "ax = utils.createAXNFigure(coastline_path=\"../../testData/EuropeanCoastline/Europe Coastline (Polygone).shp\", zoom_in=True)\n",
    "BLUE = '#6699cc'\n",
    "GRAY = '#999999'\n",
    "\n",
    "for cell in filtered_grid.collect():\n",
    "    grid_poly = utils.createPolyFromPoints(cell[\"grid_minX\"], cell[\"grid_maxX\"], cell[\"grid_minY\"], cell[\"grid_maxY\"])\n",
    "    exp_grid = utils.createPolyFromPoints(cell[\"exp_grid_minX\"], cell[\"exp_grid_maxX\"], cell[\"exp_grid_minY\"], cell[\"exp_grid_maxY\"])\n",
    "\n",
    "    ax.add_patch(PolygonPatch(exp_grid, fc='y', ec=\"y\", alpha=0.1, zorder=2))\n",
    "    ax.add_patch(PolygonPatch(grid_poly, fc=GRAY, ec=GRAY, alpha=0.8, zorder=2))\n",
    "\n",
    "\n",
    "for row in df_a.collect():\n",
    "  ax.plot(row.X, row.Y, marker='o', markersize=2, alpha=0.3, c='r')\n",
    "\n",
    "for row in df_b.collect():\n",
    "  ax.plot(row.X, row.Y, marker='x', markersize=2, alpha=0.3, c='b')\n",
    "\n",
    "\n",
    "plt.ylabel(\"Latitude\")\n",
    "plt.xlabel(\"Longitude\")\n",
    "plt.show()"
   ],
   "metadata": {
    "collapsed": false,
    "pycharm": {
     "name": "#%%\n"
    }
   }
  },
  {
   "cell_type": "markdown",
   "source": [
    "## Perform Spatial Join With Point_set B And expanded gids\n",
    "\n",
    "By performing this spatial join we can filter points not in expanded grids (if exist)\n",
    "and keep only those points who have a chance to satisfy condition theta\n",
    "\n",
    "for This spatial join we choose approach 3 from previous spatial join (datasetA with grids)"
   ],
   "metadata": {
    "collapsed": false,
    "pycharm": {
     "name": "#%% md\n"
    }
   }
  },
  {
   "cell_type": "code",
   "execution_count": 11,
   "outputs": [
    {
     "name": "stdout",
     "output_type": "stream",
     "text": [
      "+--------------------+----------+--------+-----------+---------+---------+---------+---------+-------+\n",
      "|                 _id|         X|       Y|exp_grid_id|grid_minX|grid_maxX|grid_minY|grid_maxY|grid_id|\n",
      "+--------------------+----------+--------+-----------+---------+---------+---------+---------+-------+\n",
      "|600399bc2bc024099...|-4.5935817|48.13648|       2915| -4.52252| -4.45882| 48.18718| 48.25088|   null|\n",
      "|600399bc2bc024099...|-4.5935817|48.13648|       2916| -4.52252| -4.45882| 48.12347| 48.18718|   null|\n",
      "|600399bc2bc024099...|-4.5935817|48.13648|       2988| -4.45882| -4.39511| 48.12347| 48.18718|   null|\n",
      "|600399bc2bc024099...|-4.5935817|48.13648|       2774| -4.64993| -4.58622| 47.99607| 48.05977|   null|\n",
      "|600399bc2bc024099...|-4.5935817|48.13648|       2772| -4.64993| -4.58622| 48.12347| 48.18718|   2772|\n",
      "|600399bc2bc024099...|-4.5935817|48.13648|       2845| -4.58622| -4.52252| 48.05977| 48.12347|   null|\n",
      "|600399bc2bc024099...|-4.5935817|48.13648|       2702| -4.71363| -4.64993| 47.99607| 48.05977|   null|\n",
      "|600399bc2bc024099...|-4.5935817|48.13648|       2630| -4.77733| -4.71363| 47.99607| 48.05977|   null|\n",
      "|600399bc2bc024099...|-4.5935817|48.13648|       2628| -4.77733| -4.71363| 48.12347| 48.18718|   null|\n",
      "|600399bc2bc024099...|-4.5935817|48.13648|       2844| -4.58622| -4.52252| 48.12347| 48.18718|   null|\n",
      "|600399bc2bc024099...|-4.5935817|48.13648|       2987| -4.45882| -4.39511| 48.18718| 48.25088|   null|\n",
      "|600399bc2bc024099...|-4.5935817|48.13648|       2917| -4.52252| -4.45882| 48.05977| 48.12347|   null|\n",
      "|600399bc2bc024099...|-4.5935817|48.13648|       2629| -4.77733| -4.71363| 48.05977| 48.12347|   null|\n",
      "|600399bc2bc024099...|-4.5935817|48.13648|       2627| -4.77733| -4.71363| 48.18718| 48.25088|   null|\n",
      "|600399bc2bc024099...|-4.5935817|48.13648|       2700| -4.71363| -4.64993| 48.12347| 48.18718|   null|\n",
      "|600399bc2bc024099...|-4.5935817|48.13648|       2699| -4.71363| -4.64993| 48.18718| 48.25088|   null|\n",
      "|60039df12bc024099...| -4.758715|48.06632|       2775| -4.64993| -4.58622| 47.93236| 47.99607|   null|\n",
      "|60039df12bc024099...| -4.758715|48.06632|       2559| -4.84104| -4.77733| 47.93236| 47.99607|   null|\n",
      "|60039df12bc024099...| -4.758715|48.06632|       2703| -4.71363| -4.64993| 47.93236| 47.99607|   null|\n",
      "|60039df12bc024099...| -4.758715|48.06632|       2774| -4.64993| -4.58622| 47.99607| 48.05977|   null|\n",
      "+--------------------+----------+--------+-----------+---------+---------+---------+---------+-------+\n",
      "only showing top 20 rows\n",
      "\n",
      "--- 2.4075710773468018 seconds ---\n"
     ]
    }
   ],
   "source": [
    "# timing procedure\n",
    "start_time = time.time()\n",
    "\n",
    "df_b.createOrReplaceTempView(\"points_B\")\n",
    "filtered_grid.createOrReplaceTempView(\"grids\")\n",
    "\n",
    "spatial_join_b_result_new = spark.sql(\n",
    "    \"\"\"\n",
    "        SELECT P._id, P.X, P.Y, G.grid_id as exp_grid_id, G.grid_minX, G.grid_maxX, G.grid_minY, G.grid_maxY\n",
    "        FROM points_B AS P, grids AS G\n",
    "        WHERE P.X >= G.exp_grid_minX and P.X <= G.exp_grid_maxX\n",
    "         and P.Y >= G.exp_grid_minY and P.Y <= G.exp_grid_maxY\n",
    "    \"\"\"\n",
    ").withColumn(\"grid_id\", F.when((F.col(\"X\") >= F.col(\"grid_minX\")) &\n",
    "                                  (F.col(\"X\") <= F.col(\"grid_maxX\")) &\n",
    "                                  (F.col(\"Y\") >= F.col(\"grid_minY\")) &\n",
    "                                  (F.col(\"Y\") <= F.col(\"grid_maxY\")),F.col(\"exp_grid_id\"))\n",
    "                           .otherwise(None))\\\n",
    "    .cache() # cache results to avoid perform join again\n",
    "\n",
    "spatial_join_b_result_new.show()\n",
    "print(\"--- %s seconds ---\" % (time.time() - start_time))"
   ],
   "metadata": {
    "collapsed": false,
    "pycharm": {
     "name": "#%%\n"
    }
   }
  },
  {
   "cell_type": "markdown",
   "source": [
    "def createPoints(longitude, latitude):\n",
    "  return sg.Point(longitude, latitude)\n",
    "\n",
    "createPoints_udf = F.udf(createPoints,GeometryType())"
   ],
   "metadata": {
    "collapsed": false,
    "pycharm": {
     "name": "#%% md\n"
    }
   }
  },
  {
   "cell_type": "markdown",
   "source": [
    "## Get filtered point set B\n"
   ],
   "metadata": {
    "collapsed": false
   }
  },
  {
   "cell_type": "code",
   "execution_count": 12,
   "outputs": [
    {
     "name": "stdout",
     "output_type": "stream",
     "text": [
      "spatial join count: 275308\n",
      "+--------------------+----------+---------+-----+\n",
      "|                 _id|         X|        Y|count|\n",
      "+--------------------+----------+---------+-----+\n",
      "|60039bdc2bc024099...| -4.666623| 48.30852|   12|\n",
      "|60039c032bc024099...| -4.600867|48.140213|   14|\n",
      "|60039b9c2bc024099...|-4.4894485|48.136444|   13|\n",
      "|60039df12bc024099...| -4.771415|48.051918|   12|\n",
      "|60039c8d2bc024099...| -4.558727|48.339714|   13|\n",
      "|60039e102bc024099...|  -4.63214|48.320415|   13|\n",
      "|60039df12bc024099...|-4.7701316|48.039417|   12|\n",
      "|600399d42bc024099...|-4.4608483| 48.16365|   17|\n",
      "|600399d42bc024099...|-4.4450984|  48.1658|   15|\n",
      "|600399c32bc024099...|-4.4982815|48.380295|    8|\n",
      "+--------------------+----------+---------+-----+\n",
      "only showing top 10 rows\n",
      "\n",
      "filtered spatial join count: 29315\n"
     ]
    }
   ],
   "source": [
    "print(\"spatial join count: {}\".format(spatial_join_b_result_new.count()))\n",
    "\n",
    "# find pings per grid\n",
    "geom_b_df = spatial_join_b_result_new.groupby([\"_id\", \"X\", \"Y\"])\\\n",
    "    .count()\\\n",
    "    .filter(F.col(\"count\") > 0)\\\n",
    "    .cache()\n",
    "\n",
    "geom_b_df.show(10)\n",
    "\n",
    "print(\"filtered spatial join count: {}\".format(geom_b_df.count()))"
   ],
   "metadata": {
    "collapsed": false,
    "pycharm": {
     "name": "#%%\n"
    }
   }
  },
  {
   "cell_type": "markdown",
   "source": [
    "## Plot plot filtered points B\n",
    "plot points From Pointset B That are in expanded grids"
   ],
   "metadata": {
    "collapsed": false
   }
  },
  {
   "cell_type": "code",
   "execution_count": 13,
   "outputs": [
    {
     "data": {
      "text/plain": "<Figure size 720x432 with 1 Axes>",
      "image/png": "[encoded data removed]"
     },
     "metadata": {
      "needs_background": "light"
     },
     "output_type": "display_data"
    }
   ],
   "source": [
    "# print grids\n",
    "ax = utils.createAXNFigure(coastline_path=\"../../testData/EuropeanCoastline/Europe Coastline (Polygone).shp\", zoom_in=True)\n",
    "BLUE = '#6699cc'\n",
    "GRAY = '#999999'\n",
    "\n",
    "for cell in filtered_grid.collect():\n",
    "    grid_poly = utils.createPolyFromPoints(cell[\"grid_minX\"], cell[\"grid_maxX\"], cell[\"grid_minY\"], cell[\"grid_maxY\"])\n",
    "    exp_grid = utils.createPolyFromPoints(cell[\"exp_grid_minX\"], cell[\"exp_grid_maxX\"], cell[\"exp_grid_minY\"], cell[\"exp_grid_maxY\"])\n",
    "\n",
    "    ax.add_patch(PolygonPatch(exp_grid, fc='y', ec=\"y\", alpha=0.1, zorder=2))\n",
    "    ax.add_patch(PolygonPatch(grid_poly, fc=GRAY, ec=GRAY, alpha=0.8, zorder=2))\n",
    "\n",
    "\n",
    "for row in df_a.collect():\n",
    "  ax.plot(row.X, row.Y, marker='o', markersize=2, alpha=0.3, c='r')\n",
    "\n",
    "for row in geom_b_df.collect():\n",
    "  ax.plot(row.X, row.Y, marker='x', markersize=2, alpha=0.3, c='b')\n",
    "\n",
    "\n",
    "plt.ylabel(\"Latitude\")\n",
    "plt.xlabel(\"Longitude\")\n",
    "plt.show()"
   ],
   "metadata": {
    "collapsed": false,
    "pycharm": {
     "name": "#%%\n"
    }
   }
  },
  {
   "cell_type": "markdown",
   "source": [
    "## Plot points from B that are in grid"
   ],
   "metadata": {
    "collapsed": false,
    "pycharm": {
     "name": "#%% md\n"
    }
   }
  },
  {
   "cell_type": "code",
   "execution_count": 14,
   "outputs": [
    {
     "name": "stdout",
     "output_type": "stream",
     "text": [
      "+--------------------+----------+---------+-----------+---------+---------+---------+---------+-------+\n",
      "|                 _id|         X|        Y|exp_grid_id|grid_minX|grid_maxX|grid_minY|grid_maxY|grid_id|\n",
      "+--------------------+----------+---------+-----------+---------+---------+---------+---------+-------+\n",
      "|600399bc2bc024099...|-4.5935817| 48.13648|       2772| -4.64993| -4.58622| 48.12347| 48.18718|   2772|\n",
      "|60039df12bc024099...| -4.758715| 48.06632|       2629| -4.77733| -4.71363| 48.05977| 48.12347|   2629|\n",
      "|60039bbe2bc024099...| -4.472955|48.340054|       2913| -4.52252| -4.45882| 48.31458| 48.37829|   2913|\n",
      "|60039e102bc024099...| -4.678545|48.304527|       2698| -4.71363| -4.64993| 48.25088| 48.31458|   2698|\n",
      "|600399bc2bc024099...|  -4.59364| 48.13646|       2772| -4.64993| -4.58622| 48.12347| 48.18718|   2772|\n",
      "|60039c032bc024099...| -4.592973|48.134605|       2772| -4.64993| -4.58622| 48.12347| 48.18718|   2772|\n",
      "|60039b9c2bc024099...| -4.462722| 48.13622|       2916| -4.52252| -4.45882| 48.12347| 48.18718|   2916|\n",
      "|60039e512bc024099...|-4.4783816| 48.34225|       2913| -4.52252| -4.45882| 48.31458| 48.37829|   2913|\n",
      "|60039a5a2bc024099...| -4.445865|48.135105|       2988| -4.45882| -4.39511| 48.12347| 48.18718|   2988|\n",
      "|60039c6d2bc024099...|-4.5124984|48.370834|       2913| -4.52252| -4.45882| 48.31458| 48.37829|   2913|\n",
      "|60039c8d2bc024099...| -4.518862|48.350636|       2913| -4.52252| -4.45882| 48.31458| 48.37829|   2913|\n",
      "|60039a692bc024099...|-4.4970717| 48.38217|       2912| -4.52252| -4.45882| 48.37829| 48.44199|   2912|\n",
      "|60039a922bc024099...|-4.4970584|48.379536|       2912| -4.52252| -4.45882| 48.37829| 48.44199|   2912|\n",
      "|60039bdc2bc024099...|-4.6519585|48.308167|       2698| -4.71363| -4.64993| 48.25088| 48.31458|   2698|\n",
      "|60039c3d2bc024099...|-4.4851217|48.381382|       2912| -4.52252| -4.45882| 48.37829| 48.44199|   2912|\n",
      "|600399bc2bc024099...|  -4.59389|48.136375|       2772| -4.64993| -4.58622| 48.12347| 48.18718|   2772|\n",
      "|6003990d2bc024099...|   -4.4861|48.381554|       2912| -4.52252| -4.45882| 48.37829| 48.44199|   2912|\n",
      "|600399bc2bc024099...|-4.5939965|48.136345|       2772| -4.64993| -4.58622| 48.12347| 48.18718|   2772|\n",
      "|60039bbe2bc024099...|-4.4727435|48.339493|       2913| -4.52252| -4.45882| 48.31458| 48.37829|   2913|\n",
      "|60039e102bc024099...|-4.6779666| 48.30472|       2698| -4.71363| -4.64993| 48.25088| 48.31458|   2698|\n",
      "+--------------------+----------+---------+-----------+---------+---------+---------+---------+-------+\n",
      "only showing top 20 rows\n",
      "\n"
     ]
    }
   ],
   "source": [
    "filltered_df = spatial_join_b_result_new.filter(F.col(\"grid_id\").isNotNull())\n",
    "filltered_df.show()"
   ],
   "metadata": {
    "collapsed": false,
    "pycharm": {
     "name": "#%%\n"
    }
   }
  },
  {
   "cell_type": "code",
   "execution_count": 15,
   "outputs": [
    {
     "data": {
      "text/plain": "<Figure size 720x432 with 1 Axes>",
      "image/png": "[encoded data removed]"
     },
     "metadata": {
      "needs_background": "light"
     },
     "output_type": "display_data"
    }
   ],
   "source": [
    "# print grids\n",
    "ax = utils.createAXNFigure(coastline_path=\"../../testData/EuropeanCoastline/Europe Coastline (Polygone).shp\", zoom_in=True)\n",
    "BLUE = '#6699cc'\n",
    "GRAY = '#999999'\n",
    "\n",
    "for cell in filtered_grid.collect():\n",
    "    grid_poly = utils.createPolyFromPoints(cell[\"grid_minX\"], cell[\"grid_maxX\"], cell[\"grid_minY\"], cell[\"grid_maxY\"])\n",
    "    # exp_grid = utils.createPolyFromPoints(cell[\"exp_grid_minX\"], cell[\"exp_grid_maxX\"], cell[\"exp_grid_minY\"], cell[\"exp_grid_maxY\"])\n",
    "\n",
    "    # ax.add_patch(PolygonPatch(exp_grid, fc='y', ec=\"y\", alpha=0.1, zorder=2))\n",
    "    ax.add_patch(PolygonPatch(grid_poly, fc=GRAY, ec=GRAY, alpha=0.8, zorder=2))\n",
    "\n",
    "\n",
    "for row in df_a.collect():\n",
    "  ax.plot(row.X, row.Y, marker='o', markersize=2, alpha=0.3, c='r')\n",
    "\n",
    "for row in filltered_df.collect():\n",
    "  ax.plot(row.X, row.Y, marker='x', markersize=2, alpha=0.3, c='b')\n",
    "\n",
    "\n",
    "plt.ylabel(\"Latitude\")\n",
    "plt.xlabel(\"Longitude\")\n",
    "plt.show()"
   ],
   "metadata": {
    "collapsed": false,
    "pycharm": {
     "name": "#%%\n"
    }
   }
  },
  {
   "cell_type": "markdown",
   "source": [
    "## Find matching points/pairs\n",
    "\n",
    "As a first filter of matching point we use the fact that each pair point in the same\n",
    "grid between 2 datasets satisfied the theta condition so:\n",
    "- We perform a filter on point set B in order to keep only those points that has been\n",
    "assigned in a grid\n",
    "- then we perform a simple join with points from point set A based on grid id to find all\n",
    "valid pairs given by grids\n",
    "- then write the result into a file (override result if file exits)\n",
    "\n",
    "### SOS gia tin ilopoiisi\n",
    "- to filtrarisma tha ginei kratontas osa point exoun idio grid kai expanded grid id"
   ],
   "metadata": {
    "collapsed": false,
    "pycharm": {
     "name": "#%% md\n"
    }
   }
  },
  {
   "cell_type": "code",
   "source": [
    "# timing procedure\n",
    "start_time = time.time()\n",
    "\n",
    "filtered_a_results = spatial_join_result\\\n",
    "    .select(F.col(\"_id\").alias(\"a_id\"), F.col(\"grid_id\"))\n",
    "\n",
    "filtered_b_results = spatial_join_b_result_new\\\n",
    "    .filter(F.col(\"grid_id\") == F.col(\"exp_grid_id\"))\\\n",
    "    .select(F.col(\"_id\").alias(\"b_id\"), F.col(\"grid_id\"))\n",
    "\n",
    "ta = filtered_a_results.alias('ta')\n",
    "tb = filtered_b_results.alias('tb')\n",
    "\n",
    "first_result = ta.join(tb, ta.grid_id == tb.grid_id)\\\n",
    "    .select(F.col(\"a_id\"), F.col(\"b_id\"))\n",
    "\n",
    "# write file\n",
    "print(first_result.count())#.write.save(\"dist_join_result.csv\", format=\"csv\", mode=\"overwrite\")\n",
    "\n",
    "print(\"--- %s seconds ---\" % (time.time() - start_time))"
   ],
   "metadata": {
    "collapsed": false,
    "pycharm": {
     "name": "#%%\n"
    }
   },
   "execution_count": 16,
   "outputs": [
    {
     "name": "stdout",
     "output_type": "stream",
     "text": [
      "182453810\n",
      "--- 0.9818599224090576 seconds ---\n"
     ]
    }
   ]
  },
  {
   "cell_type": "markdown",
   "source": [
    "## Find matching points using expanded grids\n",
    "Now we have to check for matching pairs between points from point set A that are in\n",
    "grid and points from pointest B that ar in the same expanded grid and not in the grid\n",
    "\n",
    "- declare a udf for haversian distance\n",
    "- first get all points with null grid from joined pointset B\n",
    "-"
   ],
   "metadata": {
    "collapsed": false,
    "pycharm": {
     "name": "#%% md\n"
    }
   }
  },
  {
   "cell_type": "code",
   "execution_count": 17,
   "outputs": [],
   "source": [
    "from math import radians, cos, sin, asin, sqrt\n",
    "\n",
    "def haversine(lon1, lat1, lon2, lat2):\n",
    "    \"\"\"\n",
    "    Calculate the great circle distance between two points\n",
    "    on the earth (specified in decimal degrees)\n",
    "    \"\"\"\n",
    "    # convert decimal degrees to radians\n",
    "    lon1, lat1, lon2, lat2 = map(radians, [lon1, lat1, lon2, lat2])\n",
    "\n",
    "    # haversine formula\n",
    "    dlon = lon2 - lon1\n",
    "    dlat = lat2 - lat1\n",
    "    a = sin(dlat/2)**2 + cos(lat1) * cos(lat2) * sin(dlon/2)**2\n",
    "    c = 2 * asin(sqrt(a))\n",
    "    r = 6371 # Radius of earth in kilometers. Use 3956 for miles\n",
    "    return c * r\n",
    "\n",
    "udfsomefunc = F.udf(haversine, DoubleType())"
   ],
   "metadata": {
    "collapsed": false,
    "pycharm": {
     "name": "#%%\n"
    }
   }
  },
  {
   "cell_type": "code",
   "execution_count": 18,
   "outputs": [
    {
     "name": "stdout",
     "output_type": "stream",
     "text": [
      "+--------------------+----------+---------+---------+--------------------+----------+--------+-------------+--------------------+-----------------+\n",
      "|                a_id|       a_X|      a_Y|a_grid_id|                b_id|       b_X|     b_Y|b_exp_grid_id|                   a|   haversine_dist|\n",
      "+--------------------+----------+---------+---------+--------------------+----------+--------+-------------+--------------------+-----------------+\n",
      "|600399d12bc024099...|-4.4911985|48.187687|     2915|600399bc2bc024099...|-4.5935817|48.13648|         2915| 5.54859168926777E-7|9.491372637869425|\n",
      "|600399d12bc024099...|  -4.48926|48.191235|     2915|600399bc2bc024099...|-4.5935817|48.13648|         2915|5.970408624873021E-7| 9.84554296999871|\n",
      "|600399d12bc024099...| -4.488645|48.192368|     2915|600399bc2bc024099...|-4.5935817|48.13648|         2915| 6.10939418562934E-7|9.959481256010626|\n",
      "|600399d12bc024099...|  -4.49822|  48.1748|     2916|600399bc2bc024099...|-4.5935817|48.13648|         2916|4.200296236579669E-7|8.258051591180596|\n",
      "|600399d12bc024099...|-4.4976134|48.175926|     2916|600399bc2bc024099...|-4.5935817|48.13648|         2916|4.306246416766134E-7|8.361555386495086|\n",
      "|600399c02bc024099...| -4.475468|48.179565|     2916|600399bc2bc024099...|-4.5935817|48.13648|         2916|6.141354658880812E-7|9.985498122523158|\n",
      "|600399c02bc024099...|-4.4760585|  48.1795|     2916|600399bc2bc024099...|-4.5935817|48.13648|         2916| 6.08994514963574E-7|9.943615791295917|\n",
      "|600399c02bc024099...|-4.4766517|48.179455|     2916|600399bc2bc024099...|-4.5935817|48.13648|         2916|6.039871286236391E-7|9.902651292489779|\n",
      "|600399c02bc024099...| -4.477248|48.179455|     2916|600399bc2bc024099...|-4.5935817|48.13648|         2916|5.992734383396643E-7|9.863934018840936|\n",
      "|600399c02bc024099...|-4.4778366| 48.17945|     2916|600399bc2bc024099...|-4.5935817|48.13648|         2916|5.946115693360545E-7|9.825492337275024|\n",
      "+--------------------+----------+---------+---------+--------------------+----------+--------+-------------+--------------------+-----------------+\n",
      "only showing top 10 rows\n",
      "\n",
      "144628062\n",
      "--- 16.580880165100098 seconds ---\n"
     ]
    }
   ],
   "source": [
    "# timing procedure\n",
    "start_time = time.time()\n",
    "\n",
    "# register udf func\n",
    "haversine_dist_udf = F.udf(utils.calculatePointsDistance, DoubleType())\n",
    "\n",
    "filtered_a_in_exp_grid = spatial_join_result\\\n",
    "    .withColumnRenamed(\"_id\",\"a_id\")\\\n",
    "    .withColumnRenamed(\"X\",\"a_X\")\\\n",
    "    .withColumnRenamed(\"Y\",\"a_Y\")\\\n",
    "    .withColumnRenamed(\"grid_id\",\"a_grid_id\")\\\n",
    "    .select(F.col(\"a_id\"),F.col(\"a_X\"),F.col(\"a_Y\"),F.col(\"a_grid_id\"))\\\n",
    "\n",
    "filtered_b_in_exp_grid = spatial_join_b_result_new.where(F.col(\"grid_id\").isNull())\\\n",
    "    .withColumnRenamed(\"_id\",\"b_id\")\\\n",
    "    .withColumnRenamed(\"X\",\"b_X\")\\\n",
    "    .withColumnRenamed(\"Y\",\"b_Y\")\\\n",
    "    .withColumnRenamed(\"exp_grid_id\",\"b_exp_grid_id\")\\\n",
    "    .select(F.col(\"b_id\"),F.col(\"b_X\"),F.col(\"b_Y\"),F.col(\"b_exp_grid_id\"))\\\n",
    "\n",
    "\n",
    "ta = filtered_a_in_exp_grid.alias('ta')\n",
    "tb = filtered_b_in_exp_grid.alias('tb')\n",
    "\n",
    "final_result = ta.join(tb, ta.a_grid_id == tb.b_exp_grid_id)\\\n",
    "        .withColumn(\"a\", (\n",
    "            F.pow(F.sin((F.radians(F.col(\"b_Y\") - F.col(\"a_Y\"))) / 2), 2) +\n",
    "            F.cos(F.radians(F.col(\"a_Y\"))) * F.cos(F.radians(F.col(\"b_Y\"))) *\n",
    "            F.pow(F.sin((F.radians(F.col(\"b_X\") - F.col(\"a_X\"))) / 2), 2)))\\\n",
    "        .withColumn(\"haversine_dist\", F.asin(F.sqrt(F.col(\"a\"))) * 12742)\\\n",
    "        .filter(F.col(\"haversine_dist\") <= 10)\n",
    "#\\\n",
    "    # .where(createPoints_udf(F.col(\"a_X\"),F.col(\"a_Y\"),F.col(\"b_X\"),F.col(\"b_Y\")) >= 10)#\\\n",
    "    # .select(F.col(\"a_id\"), F.col(\"b_id\"))\n",
    "\n",
    "# final_result.write.save(\"dist_join_result.csv\", format=\"csv\", mode=\"append\")\n",
    "\n",
    "final_result.show(10)\n",
    "print(final_result.count())\n",
    "\n",
    "print(\"--- %s seconds ---\" % (time.time() - start_time))"
   ],
   "metadata": {
    "collapsed": false,
    "pycharm": {
     "name": "#%%\n"
    }
   }
  },
  {
   "cell_type": "code",
   "execution_count": 19,
   "outputs": [
    {
     "name": "stdout",
     "output_type": "stream",
     "text": [
      "--- TOTAL EXECUTION TIME ---\n",
      "--- 483.2137920856476 seconds ---\n"
     ]
    }
   ],
   "source": [
    "print(\"--- TOTAL EXECUTION TIME ---\\n--- %s seconds ---\" % (time.time() - total_time))\n",
    "\n"
   ],
   "metadata": {
    "collapsed": false,
    "pycharm": {
     "name": "#%%\n"
    }
   }
  }
 ],
 "metadata": {
  "kernelspec": {
   "display_name": "Python 3",
   "language": "python",
   "name": "python3"
  },
  "language_info": {
   "codemirror_mode": {
    "name": "ipython",
    "version": 2
   },
   "file_extension": ".py",
   "mimetype": "text/x-python",
   "name": "python",
   "nbconvert_exporter": "python",
   "pygments_lexer": "ipython2",
   "version": "2.7.6"
  }
 },
 "nbformat": 4,
 "nbformat_minor": 0
}