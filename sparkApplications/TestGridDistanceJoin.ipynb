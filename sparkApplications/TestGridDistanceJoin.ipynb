{
 "cells": [
  {
   "cell_type": "markdown",
   "source": [
    "# Simiosis gia Grid\n",
    "- o skopos tou na dimiourgisw ena grid einai gia na miosw kata poli to sinolo ton simion sto disance join\n",
    "- auto epitinxanete ftiaxnontas ena MBB pernontas ta min ton max(x,y) kai apo ta 2 data sets kathos kai ta max apo ta min(x,y) me tin logiki oti osa simia einai ektos tou min max x enos apo ta 2 dataset den ikanopoioun tin sinthiki theta.\n",
    "- stin sinexia tha prepei na kanw spatial join to grid kai me ta 2 datasets gia na vrw se poio grid paei kathe simio\n",
    "- meta tha aporipsw osa grids den exoun kanena\n",
    "\n",
    "### Xrisima stixia na periexei ena grid\n",
    "- gridId\n",
    "- polygon\n",
    "- TODO Check id x an y needed for partitioning reasons\n",
    "\n",
    "### Idea gia grid filtering\n",
    "- Na kanw spatial join mono sto dataset me ta ligotera simia prokimenou na filtrarw ta grids pou den exeoun kanena simio apo to Dataset auto\n",
    "- Me auton ton tropo epitinxanw na kanw mikrotero spatial join sto dataset me tis perisoteres eggrafes\n",
    "- auto vasizete sto"
   ],
   "metadata": {
    "collapsed": false
   }
  },
  {
   "cell_type": "markdown",
   "source": [
    "# Simiosis gia partitioning\n",
    "- prepei na xorisw ta data mou se ola ta mixanimata prin ksekinisw to spatial join\n",
    "- episis prepei na xorisw kai ta grids omiomorfa se ola ta mixanimata\n",
    "- enas tropos gia na ta xorisw tha mporouse na einai to X. Diladi na vrw ta max kai min X kai paota 2 datasets gia na vrw to rangekai na kanw range partition os pros x gia ta points\n",
    "- gia ta grids apo tin all tha eprepe na kanw partition os pros to max X tous oste na simenei oti oti grid einai sto partition exei points mono sto partition auto.\n",
    "- me auton ton tropo epitinxanoume na exoume ta points kai ta grids tous mirasmena ana mixanima kai na empodisoume tis metakinisis sto diktio\n",
    "\n",
    "### Pws to kanw auto?\n",
    "- prepei na dw pws douleui to pratitioning\n",
    "- pos simperiferete to join sto partitioning\n",
    "- prepei na dw an ipostirizei kati tetoio i vivliothiki"
   ],
   "metadata": {
    "collapsed": false
   }
  },
  {
   "cell_type": "markdown",
   "source": [
    "## Imports"
   ],
   "metadata": {
    "collapsed": false
   }
  },
  {
   "cell_type": "code",
   "execution_count": 5,
   "outputs": [
    {
     "ename": "AttributeError",
     "evalue": "partially initialized module 'pandas' has no attribute 'core' (most likely due to a circular import)",
     "output_type": "error",
     "traceback": [
      "\u001B[0;31m---------------------------------------------------------------------------\u001B[0m",
      "\u001B[0;31mAttributeError\u001B[0m                            Traceback (most recent call last)",
      "\u001B[0;32m<ipython-input-5-48f1c5934dc9>\u001B[0m in \u001B[0;36m<module>\u001B[0;34m\u001B[0m\n\u001B[1;32m      1\u001B[0m \u001B[0;31m# Main  Imports\u001B[0m\u001B[0;34m\u001B[0m\u001B[0;34m\u001B[0m\u001B[0;34m\u001B[0m\u001B[0m\n\u001B[1;32m      2\u001B[0m \u001B[0;32mimport\u001B[0m \u001B[0mnumpy\u001B[0m \u001B[0;32mas\u001B[0m \u001B[0mnp\u001B[0m\u001B[0;34m\u001B[0m\u001B[0;34m\u001B[0m\u001B[0m\n\u001B[0;32m----> 3\u001B[0;31m \u001B[0;32mimport\u001B[0m \u001B[0mgeopandas\u001B[0m \u001B[0;32mas\u001B[0m \u001B[0mgpd\u001B[0m\u001B[0;34m\u001B[0m\u001B[0;34m\u001B[0m\u001B[0m\n\u001B[0m\u001B[1;32m      4\u001B[0m \u001B[0;32mimport\u001B[0m \u001B[0mmatplotlib\u001B[0m\u001B[0;34m.\u001B[0m\u001B[0mpyplot\u001B[0m \u001B[0;32mas\u001B[0m \u001B[0mplt\u001B[0m\u001B[0;34m\u001B[0m\u001B[0;34m\u001B[0m\u001B[0m\n\u001B[1;32m      5\u001B[0m \u001B[0;32mfrom\u001B[0m \u001B[0mIPython\u001B[0m\u001B[0;34m.\u001B[0m\u001B[0mcore\u001B[0m\u001B[0;34m.\u001B[0m\u001B[0mdisplay\u001B[0m \u001B[0;32mimport\u001B[0m \u001B[0mdisplay\u001B[0m\u001B[0;34m\u001B[0m\u001B[0;34m\u001B[0m\u001B[0m\n",
      "\u001B[0;32m~/Documents/python /projects/DistributedDistanceJoin/lib/python3.8/site-packages/geopandas/__init__.py\u001B[0m in \u001B[0;36m<module>\u001B[0;34m\u001B[0m\n\u001B[0;32m----> 1\u001B[0;31m \u001B[0;32mfrom\u001B[0m \u001B[0mgeopandas\u001B[0m\u001B[0;34m.\u001B[0m\u001B[0m_config\u001B[0m \u001B[0;32mimport\u001B[0m \u001B[0moptions\u001B[0m  \u001B[0;31m# noqa\u001B[0m\u001B[0;34m\u001B[0m\u001B[0;34m\u001B[0m\u001B[0m\n\u001B[0m\u001B[1;32m      2\u001B[0m \u001B[0;34m\u001B[0m\u001B[0m\n\u001B[1;32m      3\u001B[0m \u001B[0;32mfrom\u001B[0m \u001B[0mgeopandas\u001B[0m\u001B[0;34m.\u001B[0m\u001B[0mgeoseries\u001B[0m \u001B[0;32mimport\u001B[0m \u001B[0mGeoSeries\u001B[0m  \u001B[0;31m# noqa\u001B[0m\u001B[0;34m\u001B[0m\u001B[0;34m\u001B[0m\u001B[0m\n\u001B[1;32m      4\u001B[0m \u001B[0;32mfrom\u001B[0m \u001B[0mgeopandas\u001B[0m\u001B[0;34m.\u001B[0m\u001B[0mgeodataframe\u001B[0m \u001B[0;32mimport\u001B[0m \u001B[0mGeoDataFrame\u001B[0m  \u001B[0;31m# noqa\u001B[0m\u001B[0;34m\u001B[0m\u001B[0;34m\u001B[0m\u001B[0m\n\u001B[1;32m      5\u001B[0m \u001B[0;32mfrom\u001B[0m \u001B[0mgeopandas\u001B[0m\u001B[0;34m.\u001B[0m\u001B[0marray\u001B[0m \u001B[0;32mimport\u001B[0m \u001B[0mpoints_from_xy\u001B[0m  \u001B[0;31m# noqa\u001B[0m\u001B[0;34m\u001B[0m\u001B[0;34m\u001B[0m\u001B[0m\n",
      "\u001B[0;32m~/Documents/python /projects/DistributedDistanceJoin/lib/python3.8/site-packages/geopandas/_config.py\u001B[0m in \u001B[0;36m<module>\u001B[0;34m\u001B[0m\n\u001B[1;32m    124\u001B[0m use_pygeos = Option(\n\u001B[1;32m    125\u001B[0m     \u001B[0mkey\u001B[0m\u001B[0;34m=\u001B[0m\u001B[0;34m\"use_pygeos\"\u001B[0m\u001B[0;34m,\u001B[0m\u001B[0;34m\u001B[0m\u001B[0;34m\u001B[0m\u001B[0m\n\u001B[0;32m--> 126\u001B[0;31m     \u001B[0mdefault_value\u001B[0m\u001B[0;34m=\u001B[0m\u001B[0m_default_use_pygeos\u001B[0m\u001B[0;34m(\u001B[0m\u001B[0;34m)\u001B[0m\u001B[0;34m,\u001B[0m\u001B[0;34m\u001B[0m\u001B[0;34m\u001B[0m\u001B[0m\n\u001B[0m\u001B[1;32m    127\u001B[0m     doc=(\n\u001B[1;32m    128\u001B[0m         \u001B[0;34m\"Whether to use PyGEOS to speed up spatial operations. The default is True \"\u001B[0m\u001B[0;34m\u001B[0m\u001B[0;34m\u001B[0m\u001B[0m\n",
      "\u001B[0;32m~/Documents/python /projects/DistributedDistanceJoin/lib/python3.8/site-packages/geopandas/_config.py\u001B[0m in \u001B[0;36m_default_use_pygeos\u001B[0;34m()\u001B[0m\n\u001B[1;32m    110\u001B[0m \u001B[0;34m\u001B[0m\u001B[0m\n\u001B[1;32m    111\u001B[0m \u001B[0;32mdef\u001B[0m \u001B[0m_default_use_pygeos\u001B[0m\u001B[0;34m(\u001B[0m\u001B[0;34m)\u001B[0m\u001B[0;34m:\u001B[0m\u001B[0;34m\u001B[0m\u001B[0;34m\u001B[0m\u001B[0m\n\u001B[0;32m--> 112\u001B[0;31m     \u001B[0;32mimport\u001B[0m \u001B[0mgeopandas\u001B[0m\u001B[0;34m.\u001B[0m\u001B[0m_compat\u001B[0m \u001B[0;32mas\u001B[0m \u001B[0mcompat\u001B[0m\u001B[0;34m\u001B[0m\u001B[0;34m\u001B[0m\u001B[0m\n\u001B[0m\u001B[1;32m    113\u001B[0m \u001B[0;34m\u001B[0m\u001B[0m\n\u001B[1;32m    114\u001B[0m     \u001B[0;32mreturn\u001B[0m \u001B[0mcompat\u001B[0m\u001B[0;34m.\u001B[0m\u001B[0mUSE_PYGEOS\u001B[0m\u001B[0;34m\u001B[0m\u001B[0;34m\u001B[0m\u001B[0m\n",
      "\u001B[0;32m~/Documents/python /projects/DistributedDistanceJoin/lib/python3.8/site-packages/geopandas/_compat.py\u001B[0m in \u001B[0;36m<module>\u001B[0;34m\u001B[0m\n\u001B[1;32m      5\u001B[0m \u001B[0;32mimport\u001B[0m \u001B[0mwarnings\u001B[0m\u001B[0;34m\u001B[0m\u001B[0;34m\u001B[0m\u001B[0m\n\u001B[1;32m      6\u001B[0m \u001B[0;34m\u001B[0m\u001B[0m\n\u001B[0;32m----> 7\u001B[0;31m \u001B[0;32mimport\u001B[0m \u001B[0mpandas\u001B[0m \u001B[0;32mas\u001B[0m \u001B[0mpd\u001B[0m\u001B[0;34m\u001B[0m\u001B[0;34m\u001B[0m\u001B[0m\n\u001B[0m\u001B[1;32m      8\u001B[0m \u001B[0;32mimport\u001B[0m \u001B[0mpyproj\u001B[0m\u001B[0;34m\u001B[0m\u001B[0;34m\u001B[0m\u001B[0m\n\u001B[1;32m      9\u001B[0m \u001B[0;32mimport\u001B[0m \u001B[0mshapely\u001B[0m\u001B[0;34m\u001B[0m\u001B[0;34m\u001B[0m\u001B[0m\n",
      "\u001B[0;32m~/Documents/python /projects/DistributedDistanceJoin/lib/python3.8/site-packages/pandas/__init__.py\u001B[0m in \u001B[0;36m<module>\u001B[0;34m\u001B[0m\n\u001B[1;32m    177\u001B[0m \u001B[0;34m\u001B[0m\u001B[0m\n\u001B[1;32m    178\u001B[0m \u001B[0;32mfrom\u001B[0m \u001B[0mpandas\u001B[0m\u001B[0;34m.\u001B[0m\u001B[0mutil\u001B[0m\u001B[0;34m.\u001B[0m\u001B[0m_tester\u001B[0m \u001B[0;32mimport\u001B[0m \u001B[0mtest\u001B[0m\u001B[0;34m\u001B[0m\u001B[0;34m\u001B[0m\u001B[0m\n\u001B[0;32m--> 179\u001B[0;31m \u001B[0;32mimport\u001B[0m \u001B[0mpandas\u001B[0m\u001B[0;34m.\u001B[0m\u001B[0mtesting\u001B[0m\u001B[0;34m\u001B[0m\u001B[0;34m\u001B[0m\u001B[0m\n\u001B[0m\u001B[1;32m    180\u001B[0m \u001B[0;32mimport\u001B[0m \u001B[0mpandas\u001B[0m\u001B[0;34m.\u001B[0m\u001B[0marrays\u001B[0m\u001B[0;34m\u001B[0m\u001B[0;34m\u001B[0m\u001B[0m\n\u001B[1;32m    181\u001B[0m \u001B[0;34m\u001B[0m\u001B[0m\n",
      "\u001B[0;32m~/Documents/python /projects/DistributedDistanceJoin/lib/python3.8/site-packages/pandas/testing.py\u001B[0m in \u001B[0;36m<module>\u001B[0;34m\u001B[0m\n\u001B[1;32m      3\u001B[0m \"\"\"\n\u001B[1;32m      4\u001B[0m \u001B[0;34m\u001B[0m\u001B[0m\n\u001B[0;32m----> 5\u001B[0;31m from pandas._testing import (\n\u001B[0m\u001B[1;32m      6\u001B[0m     \u001B[0massert_extension_array_equal\u001B[0m\u001B[0;34m,\u001B[0m\u001B[0;34m\u001B[0m\u001B[0;34m\u001B[0m\u001B[0m\n\u001B[1;32m      7\u001B[0m     \u001B[0massert_frame_equal\u001B[0m\u001B[0;34m,\u001B[0m\u001B[0;34m\u001B[0m\u001B[0;34m\u001B[0m\u001B[0m\n",
      "\u001B[0;32m~/Documents/python /projects/DistributedDistanceJoin/lib/python3.8/site-packages/pandas/_testing.py\u001B[0m in \u001B[0;36m<module>\u001B[0;34m\u001B[0m\n\u001B[1;32m   3052\u001B[0m \u001B[0;34m\u001B[0m\u001B[0m\n\u001B[1;32m   3053\u001B[0m \u001B[0;34m\u001B[0m\u001B[0m\n\u001B[0;32m-> 3054\u001B[0;31m \u001B[0mcython_table\u001B[0m \u001B[0;34m=\u001B[0m \u001B[0mpd\u001B[0m\u001B[0;34m.\u001B[0m\u001B[0mcore\u001B[0m\u001B[0;34m.\u001B[0m\u001B[0mbase\u001B[0m\u001B[0;34m.\u001B[0m\u001B[0mSelectionMixin\u001B[0m\u001B[0;34m.\u001B[0m\u001B[0m_cython_table\u001B[0m\u001B[0;34m.\u001B[0m\u001B[0mitems\u001B[0m\u001B[0;34m(\u001B[0m\u001B[0;34m)\u001B[0m\u001B[0;34m\u001B[0m\u001B[0;34m\u001B[0m\u001B[0m\n\u001B[0m\u001B[1;32m   3055\u001B[0m \u001B[0;34m\u001B[0m\u001B[0m\n\u001B[1;32m   3056\u001B[0m \u001B[0;34m\u001B[0m\u001B[0m\n",
      "\u001B[0;31mAttributeError\u001B[0m: partially initialized module 'pandas' has no attribute 'core' (most likely due to a circular import)"
     ]
    }
   ],
   "source": [
    "# Main  Imports\n",
    "import numpy as np\n",
    "import geopandas as gpd\n",
    "import matplotlib.pyplot as plt\n",
    "from IPython.core.display import display\n",
    "import time\n",
    "\n",
    "# Local App Imports\n",
    "from utils import spatialUtils as utils\n",
    "\n",
    "# Spark Imports\n",
    "from pyspark.sql import SparkSession\n",
    "from pyspark.sql import Row\n",
    "from pyspark.sql import functions as F\n",
    "from pyspark.sql import SQLContext\n",
    "from pyspark.sql.types import StructType,StructField, StringType, IntegerType, DataType\n",
    "\n",
    "\n",
    "# Sedona Imports\n",
    "from sedona.utils import KryoSerializer, SedonaKryoRegistrator\n",
    "from sedona.register import SedonaRegistrator\n",
    "from sedona.sql.types import GeometryType\n",
    "\n",
    "# Python shapely imports\n",
    "import shapely.geometry as sg\n",
    "from descartes import PolygonPatch\n",
    "import geog\n",
    "import shapely.speedups\n",
    "shapely.speedups.enable() # this makes some spatial queries run faster"
   ],
   "metadata": {
    "collapsed": false,
    "pycharm": {
     "name": "#%%\n"
    }
   }
  },
  {
   "cell_type": "markdown",
   "source": [
    "## Load Dataset"
   ],
   "metadata": {
    "collapsed": false
   }
  },
  {
   "cell_type": "code",
   "execution_count": null,
   "outputs": [],
   "source": [
    "# full program timer\n",
    "total_time = time.time()\n",
    "\n",
    "test_sample_A_path = \"../testData/ais_one_hour.csv\"\n",
    "test_sample_B_path = \"../testData/ais_one_hour2.csv\"\n",
    "\n",
    "# test_sample_path = \"../testData/ais_one_month.csv\"\n",
    "\n",
    "\n",
    "# create sedona spark session\n",
    "spark = SparkSession. \\\n",
    "    builder. \\\n",
    "    appName('appName'). \\\n",
    "    config(\"spark.serializer\", KryoSerializer.getName). \\\n",
    "    config(\"spark.kryo.registrator\", SedonaKryoRegistrator.getName). \\\n",
    "    config('spark.jars.packages',\n",
    "           'org.apache.sedona:sedona-python-adapter-3.0_2.12:1.0.0-incubating,'\n",
    "           'org.datasyslab:geotools-wrapper:geotools-24.0'). \\\n",
    "    getOrCreate()\n",
    "\n",
    "SedonaRegistrator.registerAll(spark)\n",
    "\n",
    "# Load CSV File\n",
    "df_a = spark.read.csv(header=\"True\", inferSchema=\"True\", path=test_sample_A_path)\n",
    "df_a.show(10)\n",
    "\n",
    "df_b = spark.read.csv(header=\"True\", inferSchema=\"True\", path=test_sample_B_path)\n",
    "df_b.show(10)"
   ],
   "metadata": {
    "collapsed": false,
    "pycharm": {
     "name": "#%%\n"
    }
   }
  },
  {
   "cell_type": "markdown",
   "source": [
    "## Filter Dataset for Test Reasons\n",
    "- arxika tha periorisoume to dataset stin perioxi x[-6.5,-5] kai y[47.5,49]\n",
    "- epilegw auto gt kserw oti exei arketa pings"
   ],
   "metadata": {
    "collapsed": false
   }
  },
  {
   "cell_type": "code",
   "execution_count": null,
   "outputs": [],
   "source": [
    "df_a = df_a.filter( (-6 <= df_a.X) & (df_a.X <= -5) & (47.5 <= df_a.Y) & (df_a.Y <= 49))\n",
    "print(\"Total filtered_df_a count {}\".format(df_a.count()))\n",
    "df_a.show(10)\n",
    "print(\"Dataset A count: {}\".format(df_a.count()))\n",
    "\n",
    "df_b = df_b.filter( (-6.5 <= df_b.X) & (df_b.X <= -5) & (47.5 <= df_b.Y) & (df_b.Y <= 49))\n",
    "print(\"Total filtered_df_a count {}\".format(df_b.count()))\n",
    "df_b.show(10)\n",
    "print(\"Dataset B count: {}\".format(df_b.count()))"
   ],
   "metadata": {
    "collapsed": false,
    "pycharm": {
     "name": "#%%\n"
    }
   }
  },
  {
   "cell_type": "markdown",
   "source": [
    "## Grid Dataset\n",
    "Lets create a test grid\n",
    "- We have to finde the MBB of the dataset\n",
    "- Then we have to create a grid for this dataset (**sos** each grid side has to be equal to theta)"
   ],
   "metadata": {
    "collapsed": false
   }
  },
  {
   "cell_type": "code",
   "execution_count": null,
   "outputs": [],
   "source": [
    "cell_time = time.time()\n",
    "\n",
    "# find min/max X,Y from dataset A\n",
    "mbb_row_a = df_a.agg(\n",
    "    F.max(df_a.X),\n",
    "    F.min(df_a.X),\n",
    "    F.max(df_a.Y),\n",
    "    F.min(df_a.Y),\n",
    ").collect()[0]\n",
    "print(\"print mbb: {}\".format(mbb_row_a))\n",
    "\n",
    "# find min/max X,Y from dataset B\n",
    "mbb_row_b = df_b.agg(\n",
    "    F.max(df_b.X),\n",
    "    F.min(df_b.X),\n",
    "    F.max(df_b.Y),\n",
    "    F.min(df_b.Y),\n",
    ").collect()[0]\n",
    "print(\"print mbb: {}\".format(mbb_row_b))\n",
    "\n",
    "# find minimum bounding GRID box from 2 datasets\n",
    "min_x = max(mbb_row_a[\"min(X)\"], mbb_row_b[\"min(X)\"])\n",
    "max_x = min(mbb_row_a[\"max(X)\"], mbb_row_b[\"max(X)\"])\n",
    "min_y = max(mbb_row_a[\"min(Y)\"], mbb_row_b[\"min(Y)\"])\n",
    "max_y = min(mbb_row_a[\"max(Y)\"], mbb_row_b[\"max(Y)\"])\n",
    "\n",
    "#calculate grid for dataset\n",
    "grid = utils.getPolyGrid(min_x,min_y,max_x,max_y, theta=10)\n",
    "print(\"grid len: {}\".format(len(grid)))\n",
    "\n",
    "print(\"--- %s seconds ---\" % (time.time() - cell_time))\n"
   ],
   "metadata": {
    "collapsed": false,
    "pycharm": {
     "name": "#%%\n"
    }
   }
  },
  {
   "cell_type": "markdown",
   "source": [
    "## Plot Grid And Points"
   ],
   "metadata": {
    "collapsed": false
   }
  },
  {
   "cell_type": "code",
   "execution_count": null,
   "outputs": [],
   "source": [
    "# print grids\n",
    "ax = utils.createAXNFigure()\n",
    "BLUE = '#6699cc'\n",
    "GRAY = '#999999'\n",
    "for cell in grid:\n",
    "    ax.add_patch(PolygonPatch(cell[\"geometry\"], fc=GRAY, ec=GRAY, alpha=0.5, zorder=2))\n",
    "\n",
    "for row in df_a.collect():\n",
    "  ax.plot(row.X, row.Y, marker='o', markersize=2, alpha=0.3, c='r')\n",
    "\n",
    "for row in df_b.collect():\n",
    "  ax.plot(row.X, row.Y, marker='x', markersize=2, alpha=0.3, c='b')\n",
    "\n",
    "\n",
    "plt.ylabel(\"Latitude\")\n",
    "plt.xlabel(\"Longitude\")\n",
    "plt.show()"
   ],
   "metadata": {
    "collapsed": false,
    "pycharm": {
     "name": "#%%\n"
    }
   }
  },
  {
   "cell_type": "markdown",
   "source": [
    "## Create Grid RDD or DF"
   ],
   "metadata": {
    "collapsed": false
   }
  },
  {
   "cell_type": "code",
   "execution_count": null,
   "outputs": [],
   "source": [
    "grid_df = spark.createDataFrame(grid)\n",
    "grid_df.printSchema()\n",
    "print(grid_df.schema)\n",
    "grid_df.show(10)\n",
    "\n",
    "gpd_grid_df = gpd.GeoDataFrame(grid)"
   ],
   "metadata": {
    "collapsed": false,
    "pycharm": {
     "name": "#%%\n"
    }
   }
  },
  {
   "cell_type": "markdown",
   "source": [
    "## Link Points tou Grids\n",
    "- **Approach 1:** Test databricks code for spatial join from link\n",
    "- **Approach 2:** perform spatial join in order to link points with grids"
   ],
   "metadata": {
    "collapsed": false
   }
  },
  {
   "cell_type": "markdown",
   "source": [
    "### Approach 1"
   ],
   "metadata": {
    "collapsed": false
   }
  },
  {
   "cell_type": "markdown",
   "source": [
    "def find_intersection(longitude, latitude):\n",
    "    # row = grid_df.collect()[0]\n",
    "    # print(row)\n",
    "    mgdf = gpd_grid_df.apply(lambda x: x.grid_id if x.geometry.intersects(sg.Point(longitude, latitude)) else None, axis=1)\n",
    "    idx = mgdf.first_valid_index()\n",
    "    first_valid_value = mgdf.loc[idx] if idx is not None else None\n",
    "    return int(first_valid_value)\n",
    "\n",
    "find_intersection_udf = F.udf(find_intersection, IntegerType())\n"
   ],
   "metadata": {
    "collapsed": false
   }
  },
  {
   "cell_type": "markdown",
   "source": [
    "cell_time = time.time()\n",
    "\n",
    "joined = df_a.withColumn(\"cell_id\", find_intersection_udf(df_a.X, df_a.Y))\n",
    "joined.show(10)\n",
    "\n",
    "print(\"--- %s seconds ---\" % (time.time() - cell_time))"
   ],
   "metadata": {
    "collapsed": false
   }
  },
  {
   "cell_type": "markdown",
   "source": [
    "### Approach 2"
   ],
   "metadata": {
    "collapsed": false
   }
  },
  {
   "cell_type": "code",
   "execution_count": null,
   "outputs": [],
   "source": [
    "def createPoints(longitude, latitude):\n",
    "  return sg.Point(longitude, latitude)\n",
    "\n",
    "createPoints_udf = F.udf(createPoints,GeometryType())"
   ],
   "metadata": {
    "collapsed": false,
    "pycharm": {
     "name": "#%%\n"
    }
   }
  },
  {
   "cell_type": "code",
   "execution_count": null,
   "outputs": [],
   "source": [
    "sqlContext = SQLContext(spark)\n",
    "# timing procedure\n",
    "start_time = time.time()\n",
    "\n",
    "geom_a_df = df_a.withColumn(\"geometry\", createPoints_udf(df_a.X, df_a.Y)).cache()\n",
    "\n",
    "geom_a_df.createOrReplaceTempView(\"points\")\n",
    "grid_df.createOrReplaceTempView(\"grids\")\n",
    "\n",
    "spatial_join_result = spark.sql(\n",
    "    \"\"\"\n",
    "        SELECT P._id, P.X, P.Y, P.geometry as point_geometry,  G.geometry as grid_geometry, G.grid_id\n",
    "        FROM points AS P, grids AS G\n",
    "        WHERE ST_Intersects(P.geometry, G.geometry)\n",
    "    \"\"\"\n",
    ").cache() # cache results to avoid perform join again\n",
    "\n",
    "\n",
    "spatial_join_result.show()\n",
    "print(\"--- %s seconds ---\" % (time.time() - start_time))"
   ],
   "metadata": {
    "collapsed": false,
    "pycharm": {
     "name": "#%%\n"
    }
   }
  },
  {
   "cell_type": "markdown",
   "source": [
    "## Spatial join Approach 2 stats\n",
    "- find count\n",
    "- find pings per grid\n",
    "- filter grids with 0 points\n",
    "\n",
    "### SOS\n",
    "Otan kanoume chaining functions mporoume na exoume access se colum apo to proigoumeno function kanontas F.col(\"coll_name\")"
   ],
   "metadata": {
    "collapsed": false
   }
  },
  {
   "cell_type": "code",
   "execution_count": null,
   "outputs": [],
   "source": [
    "print(\"spatial join count: {}\".format(spatial_join_result.count()))\n",
    "\n",
    "# find pings per grid\n",
    "filtered_grid = spatial_join_result.groupby([\"grid_geometry\", \"grid_id\"])\\\n",
    "    .count()\\\n",
    "    .filter(F.col(\"count\") > 0)\\\n",
    "    .cache()\n",
    "\n",
    "filtered_grid.show(10)\n",
    "\n",
    "print(\"filtered spatial join count: {}\".format(filtered_grid.count()))\n"
   ],
   "metadata": {
    "collapsed": false,
    "pycharm": {
     "name": "#%%\n"
    }
   }
  },
  {
   "cell_type": "code",
   "execution_count": null,
   "outputs": [],
   "source": [
    "# print grids\n",
    "ax = utils.createAXNFigure()\n",
    "BLUE = '#6699cc'\n",
    "GRAY = '#999999'\n",
    "for row in filtered_grid.collect():\n",
    "    ax.add_patch(PolygonPatch(row[\"grid_geometry\"], fc=GRAY, ec=GRAY, alpha=0.5, zorder=2))\n",
    "\n",
    "for row in geom_a_df.collect():\n",
    "  ax.plot(row.X, row.Y, marker='o', markersize=2, alpha=0.3, c='r')\n",
    "\n",
    "for row in df_b.collect():\n",
    "  ax.plot(row.X, row.Y, marker='x', markersize=2, alpha=0.3, c='b')\n",
    "\n",
    "\n",
    "plt.ylabel(\"Latitude\")\n",
    "plt.xlabel(\"Longitude\")\n",
    "plt.show()"
   ],
   "metadata": {
    "collapsed": false,
    "pycharm": {
     "name": "#%%\n"
    }
   }
  },
  {
   "cell_type": "markdown",
   "source": [
    "## Spatial Join 2nd dataset\n",
    "at this stap er perform spatial join for second dataset with filtered grid\n"
   ],
   "metadata": {
    "collapsed": false
   }
  },
  {
   "cell_type": "code",
   "execution_count": null,
   "outputs": [],
   "source": [
    "# timing procedure\n",
    "start_time = time.time()\n",
    "\n",
    "geom_b_df = df_b.withColumn(\"geometry\", createPoints_udf(df_b.X, df_b.Y)).cache()\n",
    "geom_b_df.createOrReplaceTempView(\"points_B\")\n",
    "filtered_grid.createOrReplaceTempView(\"grids\")\n",
    "\n",
    "\n",
    "spatial_join_b_result = spark.sql(\n",
    "    \"\"\"\n",
    "        SELECT P._id, P.X, P.Y, P.geometry as point_geometry,  G.grid_geometry, G.grid_id\n",
    "        FROM points_B AS P, grids AS G\n",
    "        WHERE ST_Intersects(P.geometry, G.grid_geometry)\n",
    "    \"\"\"\n",
    ").cache() # cache results to avoid perform join again\n",
    "\n",
    "\n",
    "spatial_join_b_result.show()\n",
    "print(\"--- %s seconds ---\" % (time.time() - start_time))"
   ],
   "metadata": {
    "collapsed": false,
    "pycharm": {
     "name": "#%%\n"
    }
   }
  },
  {
   "cell_type": "markdown",
   "source": [
    "# Calculate Expanded MBB's\n",
    "- First we have to check the count of filtered girds\n",
    "- Check if points exists with null grid\n",
    "- Create a UDF that calculates Expanded MBB's\n",
    "-"
   ],
   "metadata": {
    "collapsed": false
   }
  },
  {
   "cell_type": "code",
   "execution_count": null,
   "outputs": [],
   "source": [
    "print(\"Filter grid count: {}\".format(filtered_grid.count()))\n",
    "filtered_grid.show(10)\n",
    "\n",
    "# spatial_join_b_result.select([F.count(F.when(F.isnan(c), c))\n",
    "#                              .alias(c) for c in spatial_join_b_result.columns])\\\n",
    "#     .show()\n",
    "\n",
    "print(\"B point Set count: {}\".format(spatial_join_b_result.count()))\n",
    "spatial_join_b_result.select(\"grid_id\").\\\n",
    "    select([F.count(F.when(F.isnan(F.col(\"grid_id\")), F.col(\"grid_id\")))])\\\n",
    "    .show()\n"
   ],
   "metadata": {
    "collapsed": false,
    "pycharm": {
     "name": "#%%\n"
    }
   }
  },
  {
   "cell_type": "code",
   "execution_count": null,
   "outputs": [],
   "source": [
    "print(\"--- TOTAL EXECUTION TIME ---\\n--- %s seconds ---\" % (time.time() - total_time))"
   ],
   "metadata": {
    "collapsed": false,
    "pycharm": {
     "name": "#%%\n"
    }
   }
  }
 ],
 "metadata": {
  "kernelspec": {
   "display_name": "Python 3",
   "language": "python",
   "name": "python3"
  },
  "language_info": {
   "codemirror_mode": {
    "name": "ipython",
    "version": 2
   },
   "file_extension": ".py",
   "mimetype": "text/x-python",
   "name": "python",
   "nbconvert_exporter": "python",
   "pygments_lexer": "ipython2",
   "version": "2.7.6"
  }
 },
 "nbformat": 4,
 "nbformat_minor": 0
}