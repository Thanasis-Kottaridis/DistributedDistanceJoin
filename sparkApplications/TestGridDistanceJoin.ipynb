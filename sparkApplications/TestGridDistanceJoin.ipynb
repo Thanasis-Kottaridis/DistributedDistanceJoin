{
 "cells": [
  {
   "cell_type": "markdown",
   "source": [
    "# Simiosis gia Grid\n",
    "- o skopos tou na dimiourgisw ena grid einai gia na miosw kata poli to sinolo ton simion sto disance join\n",
    "- auto epitinxanete ftiaxnontas ena MBB pernontas ta min ton max(x,y) kai apo ta 2 data sets kathos kai ta max apo ta min(x,y) me tin logiki oti osa simia einai ektos tou min max x enos apo ta 2 dataset den ikanopoioun tin sinthiki theta.\n",
    "- stin sinexia tha prepei na kanw spatial join to grid kai me ta 2 datasets gia na vrw se poio grid paei kathe simio\n",
    "- meta tha aporipsw osa grids den exoun kanena\n",
    "\n",
    "### Xrisima stixia na periexei ena grid\n",
    "- gridId\n",
    "- polygon\n",
    "- TODO Check id x an y needed for partitioning reasons\n",
    "\n",
    "### Idea gia grid filtering\n",
    "- Na kanw spatial join mono sto dataset me ta ligotera simia prokimenou na filtrarw ta grids pou den exeoun kanena simio apo to Dataset auto\n",
    "- Me auton ton tropo epitinxanw na kanw mikrotero spatial join sto dataset me tis perisoteres eggrafes\n",
    "- auto vasizete sto"
   ],
   "metadata": {
    "collapsed": false
   }
  },
  {
   "cell_type": "markdown",
   "source": [
    "# Simiosis gia partitioning\n",
    "- prepei na xorisw ta data mou se ola ta mixanimata prin ksekinisw to spatial join\n",
    "- episis prepei na xorisw kai ta grids omiomorfa se ola ta mixanimata\n",
    "- enas tropos gia na ta xorisw tha mporouse na einai to X. Diladi na vrw ta max kai min X kai paota 2 datasets gia na vrw to rangekai na kanw range partition os pros x gia ta points\n",
    "- gia ta grids apo tin all tha eprepe na kanw partition os pros to max X tous oste na simenei oti oti grid einai sto partition exei points mono sto partition auto.\n",
    "- me auton ton tropo epitinxanoume na exoume ta points kai ta grids tous mirasmena ana mixanima kai na empodisoume tis metakinisis sto diktio\n",
    "\n",
    "### Pws to kanw auto?\n",
    "- prepei na dw pws douleui to pratitioning\n",
    "- pos simperiferete to join sto partitioning\n",
    "- prepei na dw an ipostirizei kati tetoio i vivliothiki"
   ],
   "metadata": {
    "collapsed": false
   }
  },
  {
   "cell_type": "markdown",
   "source": [
    "## Imports"
   ],
   "metadata": {
    "collapsed": false
   }
  },
  {
   "cell_type": "code",
   "execution_count": 1,
   "metadata": {
    "collapsed": true
   },
   "outputs": [],
   "source": [
    "# Main  Imports\n",
    "import numpy as np\n",
    "import geopandas as gpd\n",
    "import matplotlib.pyplot as plt\n",
    "from IPython.core.display import display\n",
    "import time\n",
    "\n",
    "# Local App Imports\n",
    "from utils import spatialUtils as utils\n",
    "\n",
    "# Spark Imports\n",
    "from pyspark.sql import SparkSession\n",
    "from pyspark.sql import Row\n",
    "from pyspark.sql import functions as F\n",
    "from pyspark.sql import SQLContext\n",
    "from pyspark.sql.types import StructType,StructField, StringType, IntegerType, DataType\n",
    "\n",
    "\n",
    "# Sedona Imports\n",
    "from sedona.utils import KryoSerializer, SedonaKryoRegistrator\n",
    "from sedona.register import SedonaRegistrator\n",
    "from sedona.sql.types import GeometryType\n",
    "\n",
    "# Python shapely imports\n",
    "import shapely.geometry as sg\n",
    "from descartes import PolygonPatch\n",
    "import geog\n",
    "import shapely.speedups\n",
    "shapely.speedups.enable() # this makes some spatial queries run faster"
   ]
  },
  {
   "cell_type": "markdown",
   "source": [
    "## Load Dataset"
   ],
   "metadata": {
    "collapsed": false
   }
  },
  {
   "cell_type": "code",
   "execution_count": 2,
   "outputs": [
    {
     "name": "stdout",
     "output_type": "stream",
     "text": [
      "+---+--------------------+----------+---------+\n",
      "|_c0|                 _id|         X|        Y|\n",
      "+---+--------------------+----------+---------+\n",
      "|  0|60039bef2bc024099...|  -4.50088| 48.35698|\n",
      "|  1|60039b8f2bc024099...|-4.4970617|48.379555|\n",
      "|  2|60039b9c2bc024099...|-4.4137635| 48.15062|\n",
      "|  3|60039bef2bc024099...| -4.500963|48.356915|\n",
      "|  4|60039bbe2bc024099...| -4.474253|48.341007|\n",
      "|  5|60039bef2bc024099...| -4.501045|48.356842|\n",
      "|  6|60039a6c2bc024099...| -4.497015|48.382206|\n",
      "|  7|60039c032bc024099...|  -4.56926| 48.13976|\n",
      "|  8|60039e032bc024099...| -4.476655| 48.38109|\n",
      "|  9|60039bef2bc024099...| -4.501128|48.356773|\n",
      "+---+--------------------+----------+---------+\n",
      "only showing top 10 rows\n",
      "\n",
      "+---+--------------------+----------+---------+\n",
      "|_c0|                 _id|         X|        Y|\n",
      "+---+--------------------+----------+---------+\n",
      "|  0|600399bc2bc024099...|-4.5935817| 48.13648|\n",
      "|  1|60039df12bc024099...| -4.758715| 48.06632|\n",
      "|  2|60039bbe2bc024099...| -4.472955|48.340054|\n",
      "|  3|60039e102bc024099...| -4.678545|48.304527|\n",
      "|  4|600399bc2bc024099...|  -4.59364| 48.13646|\n",
      "|  5|60039c032bc024099...|  -4.44887| 48.38294|\n",
      "|  6|60039c032bc024099...| -4.592973|48.134605|\n",
      "|  7|60039b9c2bc024099...| -4.462722| 48.13622|\n",
      "|  8|60039e512bc024099...|-4.4783816| 48.34225|\n",
      "|  9|60039a5a2bc024099...| -4.445865|48.135105|\n",
      "+---+--------------------+----------+---------+\n",
      "only showing top 10 rows\n",
      "\n"
     ]
    }
   ],
   "source": [
    "# full program timer\n",
    "total_time = time.time()\n",
    "\n",
    "test_sample_A_path = \"../testData/ais_one_hour.csv\"\n",
    "test_sample_B_path = \"../testData/ais_one_hour2.csv\"\n",
    "\n",
    "# test_sample_path = \"../testData/ais_one_month.csv\"\n",
    "\n",
    "\n",
    "# create sedona spark session\n",
    "spark = SparkSession. \\\n",
    "    builder. \\\n",
    "    appName('appName'). \\\n",
    "    config(\"spark.serializer\", KryoSerializer.getName). \\\n",
    "    config(\"spark.kryo.registrator\", SedonaKryoRegistrator.getName). \\\n",
    "    config('spark.jars.packages',\n",
    "           'org.apache.sedona:sedona-python-adapter-3.0_2.12:1.0.0-incubating,'\n",
    "           'org.datasyslab:geotools-wrapper:geotools-24.0'). \\\n",
    "    getOrCreate()\n",
    "\n",
    "SedonaRegistrator.registerAll(spark)\n",
    "\n",
    "# Load CSV File\n",
    "df_a = spark.read.csv(header=\"True\", inferSchema=\"True\", path=test_sample_A_path)\n",
    "df_a.show(10)\n",
    "\n",
    "df_b = spark.read.csv(header=\"True\", inferSchema=\"True\", path=test_sample_B_path)\n",
    "df_b.show(10)"
   ],
   "metadata": {
    "collapsed": false,
    "pycharm": {
     "name": "#%%\n"
    }
   }
  },
  {
   "cell_type": "markdown",
   "source": [
    "## Filter Dataset for Test Reasons\n",
    "- arxika tha periorisoume to dataset stin perioxi x[-6.5,-5] kai y[47.5,49]\n",
    "- epilegw auto gt kserw oti exei arketa pings"
   ],
   "metadata": {
    "collapsed": false
   }
  },
  {
   "cell_type": "code",
   "source": [
    "df_a = df_a.filter( (-6.5 <= df_a.X) & (df_a.X <= -5) & (47.5 <= df_a.Y) & (df_a.Y <= 49))\n",
    "print(\"Total filtered_df_a count {}\".format(df_a.count()))\n",
    "df_a.show(10)\n",
    "\n",
    "df_b = df_b.filter( (-6.5 <= df_b.X) & (df_b.X <= -5) & (47.5 <= df_b.Y) & (df_b.Y <= 49))\n",
    "print(\"Total filtered_df_a count {}\".format(df_b.count()))\n",
    "df_b.show(10)"
   ],
   "metadata": {
    "collapsed": false,
    "pycharm": {
     "name": "#%%\n"
    }
   },
   "execution_count": 3,
   "outputs": [
    {
     "name": "stdout",
     "output_type": "stream",
     "text": [
      "Total filtered_df_a count 4736\n",
      "+---+--------------------+----------+---------+\n",
      "|_c0|                 _id|         X|        Y|\n",
      "+---+--------------------+----------+---------+\n",
      "|327|600398982bc024099...|-5.3580885|48.242325|\n",
      "|336|600398982bc024099...|  -5.35809| 48.24246|\n",
      "|344|600398982bc024099...|-5.2571135|48.911697|\n",
      "|347|600398982bc024099...|  -5.35812|48.242634|\n",
      "|360|600398982bc024099...| -5.256787|48.911823|\n",
      "|364|600398982bc024099...|-5.3581185|48.242775|\n",
      "|375|600398982bc024099...|  -5.35816| 48.24309|\n",
      "|383|600398982bc024099...|-5.3581834| 48.24318|\n",
      "|391|600398982bc024099...|  -5.35819|48.243317|\n",
      "|398|60039a502bc024099...| -5.062145|48.272755|\n",
      "+---+--------------------+----------+---------+\n",
      "only showing top 10 rows\n",
      "\n",
      "Total filtered_df_a count 9136\n",
      "+---+--------------------+----------+---------+\n",
      "|_c0|                 _id|         X|        Y|\n",
      "+---+--------------------+----------+---------+\n",
      "|339|60039e1a2bc024099...|  -5.09831| 47.67781|\n",
      "|349|60039e2e2bc024099...| -6.094712| 48.14715|\n",
      "|351|60039e2b2bc024099...|-5.7354116| 47.65143|\n",
      "|353|60039e472bc024099...|-6.1282716|48.171337|\n",
      "|355|60039e4d2bc024099...|-6.3410482|48.225983|\n",
      "|358|60039e1a2bc024099...| -5.098467|47.678173|\n",
      "|360|60039e172bc024099...|  -6.35507|48.175346|\n",
      "|361|60039e472bc024099...|  -6.12808|48.171555|\n",
      "|362|60039e512bc024099...| -6.214113|48.104305|\n",
      "|368|60039a5a2bc024099...|-5.9370184| 48.19845|\n",
      "+---+--------------------+----------+---------+\n",
      "only showing top 10 rows\n",
      "\n"
     ]
    }
   ]
  },
  {
   "cell_type": "markdown",
   "source": [
    "## Grid Dataset\n",
    "Lets create a test grid\n",
    "- We have to finde the MBB of the dataset\n",
    "- Then we have to create a grid for this dataset (**sos** each grid side has to be equal to theta)"
   ],
   "metadata": {
    "collapsed": false
   }
  },
  {
   "cell_type": "code",
   "execution_count": 4,
   "outputs": [
    {
     "name": "stdout",
     "output_type": "stream",
     "text": [
      "print mbb: Row(max(X)=-5.000282, min(X)=-6.492265, max(Y)=48.99865, min(Y)=47.5046)\n",
      "print mbb: Row(max(X)=-5.00002, min(X)=-6.477053, max(Y)=48.98196, min(Y)=47.500065)\n",
      "grid len: 324\n",
      "--- 0.7642838954925537 seconds ---\n"
     ]
    }
   ],
   "source": [
    "cell_time = time.time()\n",
    "\n",
    "# find min/max X,Y from dataset A\n",
    "mbb_row_a = df_a.agg(\n",
    "    F.max(df_a.X),\n",
    "    F.min(df_a.X),\n",
    "    F.max(df_a.Y),\n",
    "    F.min(df_a.Y),\n",
    ").collect()[0]\n",
    "print(\"print mbb: {}\".format(mbb_row_a))\n",
    "\n",
    "# find min/max X,Y from dataset B\n",
    "mbb_row_b = df_b.agg(\n",
    "    F.max(df_b.X),\n",
    "    F.min(df_b.X),\n",
    "    F.max(df_b.Y),\n",
    "    F.min(df_b.Y),\n",
    ").collect()[0]\n",
    "print(\"print mbb: {}\".format(mbb_row_b))\n",
    "\n",
    "# find minimum bounding GRID box from 2 datasets\n",
    "min_x = max(mbb_row_a[\"min(X)\"], mbb_row_b[\"min(X)\"])\n",
    "max_x = min(mbb_row_a[\"max(X)\"], mbb_row_b[\"max(X)\"])\n",
    "min_y = max(mbb_row_a[\"min(Y)\"], mbb_row_b[\"min(Y)\"])\n",
    "max_y = min(mbb_row_a[\"max(Y)\"], mbb_row_b[\"max(Y)\"])\n",
    "\n",
    "#calculate grid for dataset\n",
    "grid = utils.getPolyGrid(min_x,min_y,max_x,max_y, theta=10)\n",
    "print(\"grid len: {}\".format(len(grid)))\n",
    "\n",
    "print(\"--- %s seconds ---\" % (time.time() - cell_time))\n"
   ],
   "metadata": {
    "collapsed": false,
    "pycharm": {
     "name": "#%%\n"
    }
   }
  },
  {
   "cell_type": "markdown",
   "source": [
    "## Plot Grid And Points"
   ],
   "metadata": {
    "collapsed": false,
    "pycharm": {
     "name": "#%% md\n"
    }
   }
  },
  {
   "cell_type": "code",
   "source": [
    "# print grids\n",
    "ax = utils.createAXNFigure()\n",
    "BLUE = '#6699cc'\n",
    "GRAY = '#999999'\n",
    "for cell in grid:\n",
    "    ax.add_patch(PolygonPatch(cell[\"geometry\"], fc=GRAY, ec=GRAY, alpha=0.5, zorder=2))\n",
    "\n",
    "for row in df_a.collect():\n",
    "  ax.plot(row.X, row.Y, marker='o', markersize=2, alpha=0.3, c='r')\n",
    "\n",
    "for row in df_b.collect():\n",
    "  ax.plot(row.X, row.Y, marker='x', markersize=2, alpha=0.3, c='b')\n",
    "\n",
    "\n",
    "plt.ylabel(\"Latitude\")\n",
    "plt.xlabel(\"Longitude\")\n",
    "plt.show()"
   ],
   "metadata": {
    "collapsed": false,
    "pycharm": {
     "name": "#%%\n"
    }
   },
   "execution_count": 5,
   "outputs": [
    {
     "data": {
      "text/plain": "<Figure size 720x432 with 1 Axes>",
      "image/png": "[encoded data removed]"
     },
     "metadata": {
      "needs_background": "light"
     },
     "output_type": "display_data"
    }
   ]
  },
  {
   "cell_type": "markdown",
   "source": [
    "## Create Grid RDD or DF"
   ],
   "metadata": {
    "collapsed": false,
    "pycharm": {
     "name": "#%% md\n"
    }
   }
  },
  {
   "cell_type": "code",
   "execution_count": 6,
   "outputs": [
    {
     "name": "stdout",
     "output_type": "stream",
     "text": [
      "root\n",
      " |-- geometry: geometry (nullable = true)\n",
      " |-- grid_id: long (nullable = true)\n",
      "\n",
      "StructType(List(StructField(geometry,GeometryType,true),StructField(grid_id,LongType,true)))\n",
      "+--------------------+-------+\n",
      "|            geometry|grid_id|\n",
      "+--------------------+-------+\n",
      "|POLYGON ((-6.4770...|      0|\n",
      "|POLYGON ((-6.4770...|      1|\n",
      "|POLYGON ((-6.4770...|      2|\n",
      "|POLYGON ((-6.4770...|      3|\n",
      "|POLYGON ((-6.4770...|      4|\n",
      "|POLYGON ((-6.4770...|      5|\n",
      "|POLYGON ((-6.4770...|      6|\n",
      "|POLYGON ((-6.4770...|      7|\n",
      "|POLYGON ((-6.4770...|      8|\n",
      "|POLYGON ((-6.4770...|      9|\n",
      "+--------------------+-------+\n",
      "only showing top 10 rows\n",
      "\n"
     ]
    }
   ],
   "source": [
    "grid_df = spark.createDataFrame(grid)\n",
    "grid_df.printSchema()\n",
    "print(grid_df.schema)\n",
    "grid_df.show(10)\n",
    "\n",
    "gpd_grid_df = gpd.GeoDataFrame(grid)"
   ],
   "metadata": {
    "collapsed": false,
    "pycharm": {
     "name": "#%%\n"
    }
   }
  },
  {
   "cell_type": "markdown",
   "source": [
    "## Link Points tou Grids\n",
    "- **Approach 1:** Test databricks code for spatial join from link\n",
    "- **Approach 2:** perform spatial join in order to link points with grids"
   ],
   "metadata": {
    "collapsed": false
   }
  },
  {
   "cell_type": "markdown",
   "source": [
    "### Approach 1"
   ],
   "metadata": {
    "collapsed": false,
    "pycharm": {
     "name": "#%% md\n"
    }
   }
  },
  {
   "cell_type": "markdown",
   "source": [
    "def find_intersection(longitude, latitude):\n",
    "    # row = grid_df.collect()[0]\n",
    "    # print(row)\n",
    "    mgdf = gpd_grid_df.apply(lambda x: x.grid_id if x.geometry.intersects(sg.Point(longitude, latitude)) else None, axis=1)\n",
    "    idx = mgdf.first_valid_index()\n",
    "    first_valid_value = mgdf.loc[idx] if idx is not None else None\n",
    "    return int(first_valid_value)\n",
    "\n",
    "find_intersection_udf = F.udf(find_intersection, IntegerType())\n"
   ],
   "metadata": {
    "collapsed": false,
    "pycharm": {
     "name": "#%% md\n"
    }
   }
  },
  {
   "cell_type": "markdown",
   "source": [
    "cell_time = time.time()\n",
    "\n",
    "joined = df_a.withColumn(\"cell_id\", find_intersection_udf(df_a.X, df_a.Y))\n",
    "joined.show(10)\n",
    "\n",
    "print(\"--- %s seconds ---\" % (time.time() - cell_time))"
   ],
   "metadata": {
    "collapsed": false
   }
  },
  {
   "cell_type": "markdown",
   "source": [
    "### Approach 2"
   ],
   "metadata": {
    "collapsed": false
   }
  },
  {
   "cell_type": "code",
   "source": [
    "def createPoints(longitude, latitude):\n",
    "  return sg.Point(longitude, latitude)\n",
    "\n",
    "createPoints_udf = F.udf(createPoints,GeometryType())"
   ],
   "metadata": {
    "collapsed": false,
    "pycharm": {
     "name": "#%%\n"
    }
   },
   "execution_count": 7,
   "outputs": []
  },
  {
   "cell_type": "code",
   "source": [
    "sqlContext = SQLContext(spark)\n",
    "# timing procedure\n",
    "start_time = time.time()\n",
    "\n",
    "geom_a_df = df_a.withColumn(\"geometry\", createPoints_udf(df_a.X, df_a.Y)).cache()\n",
    "\n",
    "geom_a_df.createOrReplaceTempView(\"points\")\n",
    "grid_df.createOrReplaceTempView(\"grids\")\n",
    "\n",
    "spatial_join_result = spark.sql(\n",
    "    \"\"\"\n",
    "        SELECT P._id, P.X, P.Y, P.geometry as point_geometry,  G.geometry as grid_geometry, G.grid_id\n",
    "        FROM points AS P, grids AS G\n",
    "        WHERE ST_Intersects(P.geometry, G.geometry)\n",
    "    \"\"\"\n",
    ").cache() # cache results to avoid perform join again\n",
    "\n",
    "\n",
    "spatial_join_result.show()\n",
    "print(\"--- %s seconds ---\" % (time.time() - start_time))"
   ],
   "metadata": {
    "collapsed": false,
    "pycharm": {
     "name": "#%%\n"
    }
   },
   "execution_count": 8,
   "outputs": [
    {
     "name": "stdout",
     "output_type": "stream",
     "text": [
      "+--------------------+----------+---------+--------------------+--------------------+-------+\n",
      "|                 _id|         X|        Y|      point_geometry|       grid_geometry|grid_id|\n",
      "+--------------------+----------+---------+--------------------+--------------------+-------+\n",
      "|600398c42bc024099...| -5.751827|48.161892|POINT (-5.751827 ...|POLYGON ((-5.7563...|    153|\n",
      "|60039df22bc024099...|-6.1472917|48.121025|POINT (-6.1472917...|POLYGON ((-6.2067...|     64|\n",
      "|60039e172bc024099...| -5.565125|48.167694|POINT (-5.565125 ...|POLYGON ((-5.5761...|    189|\n",
      "|60039e172bc024099...| -5.564932| 48.16744|POINT (-5.564932 ...|POLYGON ((-5.5761...|    189|\n",
      "|60039e172bc024099...| -5.564698|48.167145|POINT (-5.564698 ...|POLYGON ((-5.5761...|    189|\n",
      "|60039e172bc024099...| -5.564463| 48.16685|POINT (-5.564463 ...|POLYGON ((-5.5761...|    189|\n",
      "|60039e172bc024099...|-5.5642614|48.166595|POINT (-5.5642614...|POLYGON ((-5.5761...|    189|\n",
      "|60039e172bc024099...|  -5.56417|48.166466|POINT (-5.56417 4...|POLYGON ((-5.5761...|    189|\n",
      "|60039e172bc024099...| -5.564025|  48.1663|POINT (-5.564025 ...|POLYGON ((-5.5761...|    189|\n",
      "|60039e172bc024099...|-5.5639215| 48.16617|POINT (-5.5639215...|POLYGON ((-5.5761...|    189|\n",
      "|60039e172bc024099...|-5.5638285|48.166046|POINT (-5.5638285...|POLYGON ((-5.5761...|    189|\n",
      "|60039e172bc024099...|-5.5554385| 48.15532|POINT (-5.5554385...|POLYGON ((-5.5761...|    189|\n",
      "|60039e172bc024099...|-5.5553384|48.155186|POINT (-5.5553384...|POLYGON ((-5.5761...|    189|\n",
      "|60039e172bc024099...|-5.5552216| 48.15502|POINT (-5.5552216...|POLYGON ((-5.5761...|    189|\n",
      "|60039e172bc024099...| -5.555128|48.154892|POINT (-5.555128 ...|POLYGON ((-5.5761...|    189|\n",
      "|60039e172bc024099...| -5.554885|  48.1546|POINT (-5.554885 ...|POLYGON ((-5.5761...|    189|\n",
      "|60039e172bc024099...| -5.554005| 48.15352|POINT (-5.554005 ...|POLYGON ((-5.5761...|    189|\n",
      "|600398982bc024099...| -5.570985|48.165066|POINT (-5.570985 ...|POLYGON ((-5.5761...|    189|\n",
      "|600398982bc024099...|-5.5708785|48.164875|POINT (-5.5708785...|POLYGON ((-5.5761...|    189|\n",
      "|600398982bc024099...|-5.5706835|  48.1647|POINT (-5.5706835...|POLYGON ((-5.5761...|    189|\n",
      "+--------------------+----------+---------+--------------------+--------------------+-------+\n",
      "only showing top 20 rows\n",
      "\n",
      "--- 1.6602790355682373 seconds ---\n"
     ]
    }
   ]
  },
  {
   "cell_type": "markdown",
   "source": [
    "## Spatial join Approach 2 stats\n",
    "- find count\n",
    "- find pings per grid\n",
    "- filter grids with 0 points\n",
    "\n",
    "### SOS\n",
    "Otan kanoume chaining functions mporoume na exoume access se colum apo to proigoumeno function kanontas F.col(\"coll_name\")"
   ],
   "metadata": {
    "collapsed": false
   }
  },
  {
   "cell_type": "code",
   "source": [
    "print(\"spatial join count: {}\".format(spatial_join_result.count()))\n",
    "\n",
    "# find pings per grid\n",
    "filtered_grid = spatial_join_result.groupby([\"grid_geometry\", \"grid_id\"])\\\n",
    "    .count()\\\n",
    "    .filter(F.col(\"count\") > 0)\\\n",
    "    .cache()\n",
    "\n",
    "filtered_grid.show(10)\n",
    "\n",
    "print(\"filtered spatial join count: {}\".format(filtered_grid.count()))\n"
   ],
   "metadata": {
    "collapsed": false,
    "pycharm": {
     "name": "#%%\n"
    }
   },
   "execution_count": 9,
   "outputs": [
    {
     "name": "stdout",
     "output_type": "stream",
     "text": [
      "spatial join count: 4711\n",
      "+--------------------+-------+-----+\n",
      "|       grid_geometry|grid_id|count|\n",
      "+--------------------+-------+-----+\n",
      "|POLYGON ((-5.8464...|    131|    6|\n",
      "|POLYGON ((-6.0266...|    100|   55|\n",
      "|POLYGON ((-5.4860...|    207|   46|\n",
      "|POLYGON ((-6.3869...|     26|   46|\n",
      "|POLYGON ((-5.9365...|    110|    1|\n",
      "|POLYGON ((-6.0266...|     97|   13|\n",
      "|POLYGON ((-5.1257...|    279|  135|\n",
      "|POLYGON ((-5.9365...|    115|    6|\n",
      "|POLYGON ((-5.1257...|    282|   46|\n",
      "|POLYGON ((-5.1257...|    285|    1|\n",
      "+--------------------+-------+-----+\n",
      "only showing top 10 rows\n",
      "\n",
      "filtered spatial join count: 159\n"
     ]
    }
   ]
  },
  {
   "cell_type": "code",
   "source": [
    "# print grids\n",
    "ax = utils.createAXNFigure()\n",
    "BLUE = '#6699cc'\n",
    "GRAY = '#999999'\n",
    "for row in filtered_grid.collect():\n",
    "    ax.add_patch(PolygonPatch(row[\"grid_geometry\"], fc=GRAY, ec=GRAY, alpha=0.5, zorder=2))\n",
    "\n",
    "for row in geom_a_df.collect():\n",
    "  ax.plot(row.X, row.Y, marker='o', markersize=2, alpha=0.3, c='r')\n",
    "\n",
    "for row in df_b.collect():\n",
    "  ax.plot(row.X, row.Y, marker='x', markersize=2, alpha=0.3, c='b')\n",
    "\n",
    "\n",
    "plt.ylabel(\"Latitude\")\n",
    "plt.xlabel(\"Longitude\")\n",
    "plt.show()"
   ],
   "metadata": {
    "collapsed": false,
    "pycharm": {
     "name": "#%%\n"
    }
   },
   "execution_count": 10,
   "outputs": [
    {
     "data": {
      "text/plain": "<Figure size 720x432 with 1 Axes>",
      "image/png": "[encoded data removed]"
     },
     "metadata": {
      "needs_background": "light"
     },
     "output_type": "display_data"
    }
   ]
  },
  {
   "cell_type": "markdown",
   "source": [
    "## Spatial Join 2nd dataset\n",
    "at this stap er perform spatial join for second dataset with filtered grid\n"
   ],
   "metadata": {
    "collapsed": false,
    "pycharm": {
     "name": "#%% md\n"
    }
   }
  },
  {
   "cell_type": "code",
   "execution_count": 12,
   "outputs": [
    {
     "name": "stdout",
     "output_type": "stream",
     "text": [
      "+--------------------+----------+---------+--------------------+--------------------+-------+\n",
      "|                 _id|         X|        Y|      point_geometry|       grid_geometry|grid_id|\n",
      "+--------------------+----------+---------+--------------------+--------------------+-------+\n",
      "|60039e1a2bc024099...|  -5.09831| 47.67781|POINT (-5.09831 4...|POLYGON ((-5.1257...|    285|\n",
      "|60039e2b2bc024099...|-5.7354116| 47.65143|POINT (-5.7354116...|POLYGON ((-5.7563...|    159|\n",
      "|60039e1a2bc024099...| -5.098467|47.678173|POINT (-5.098467 ...|POLYGON ((-5.1257...|    285|\n",
      "|60039e2b2bc024099...| -5.735278| 47.65119|POINT (-5.735278 ...|POLYGON ((-5.7563...|    159|\n",
      "|60039e2b2bc024099...|-5.7351284|47.650963|POINT (-5.7351284...|POLYGON ((-5.7563...|    159|\n",
      "|60039e2b2bc024099...|-5.7348266|47.650402|POINT (-5.7348266...|POLYGON ((-5.7563...|    159|\n",
      "|60039e2b2bc024099...|-5.7345767|47.649967|POINT (-5.7345767...|POLYGON ((-5.7563...|    159|\n",
      "|60039e1a2bc024099...| -5.099285|47.680187|POINT (-5.099285 ...|POLYGON ((-5.1257...|    285|\n",
      "|60039e2b2bc024099...|-5.7343965|47.649784|POINT (-5.7343965...|POLYGON ((-5.7563...|    159|\n",
      "|60039e2b2bc024099...| -5.734063| 47.64929|POINT (-5.734063 ...|POLYGON ((-5.7563...|    159|\n",
      "|60039e1e2bc024099...| -5.000332|47.616333|POINT (-5.000332 ...|POLYGON ((-5.0356...|    303|\n",
      "|60039e1e2bc024099...|-5.0004983|47.616665|POINT (-5.0004983...|POLYGON ((-5.0356...|    303|\n",
      "|60039e1e2bc024099...| -5.001332|47.617832|POINT (-5.001332 ...|POLYGON ((-5.0356...|    303|\n",
      "|60039e1e2bc024099...| -5.001665|47.618332|POINT (-5.001665 ...|POLYGON ((-5.0356...|    303|\n",
      "|60039e1e2bc024099...|-5.0018315|47.618668|POINT (-5.0018315...|POLYGON ((-5.0356...|    303|\n",
      "|60039e1e2bc024099...| -5.002165|   47.619|POINT (-5.002165 ...|POLYGON ((-5.0356...|    303|\n",
      "|60039e1e2bc024099...| -5.002498|47.619335|POINT (-5.002498 ...|POLYGON ((-5.0356...|    303|\n",
      "|60039e1e2bc024099...| -5.002665|47.619835|POINT (-5.002665 ...|POLYGON ((-5.0356...|    303|\n",
      "|60039e1e2bc024099...|-5.0029984|47.620167|POINT (-5.0029984...|POLYGON ((-5.0356...|    303|\n",
      "|60039e1e2bc024099...|-5.0033317|  47.6205|POINT (-5.0033317...|POLYGON ((-5.0356...|    303|\n",
      "+--------------------+----------+---------+--------------------+--------------------+-------+\n",
      "only showing top 20 rows\n",
      "\n",
      "--- 1.5888869762420654 seconds ---\n"
     ]
    }
   ],
   "source": [
    "# timing procedure\n",
    "start_time = time.time()\n",
    "\n",
    "geom_b_df = df_b.withColumn(\"geometry\", createPoints_udf(df_b.X, df_b.Y)).cache()\n",
    "geom_b_df.createOrReplaceTempView(\"points_B\")\n",
    "\n",
    "spatial_join_b_result = spark.sql(\n",
    "    \"\"\"\n",
    "        SELECT P._id, P.X, P.Y, P.geometry as point_geometry,  G.geometry as grid_geometry, G.grid_id\n",
    "        FROM points_B AS P, grids AS G\n",
    "        WHERE ST_Intersects(P.geometry, G.geometry)\n",
    "    \"\"\"\n",
    ").cache() # cache results to avoid perform join again\n",
    "\n",
    "\n",
    "spatial_join_b_result.show()\n",
    "print(\"--- %s seconds ---\" % (time.time() - start_time))"
   ],
   "metadata": {
    "collapsed": false,
    "pycharm": {
     "name": "#%%\n"
    }
   }
  },
  {
   "cell_type": "code",
   "execution_count": null,
   "outputs": [],
   "source": [
    "print(\"--- TOTAL EXECUTION TIME ---\\n--- %s seconds ---\" % (time.time() - total_time))"
   ],
   "metadata": {
    "collapsed": false,
    "pycharm": {
     "name": "#%%\n"
    }
   }
  }
 ],
 "metadata": {
  "kernelspec": {
   "display_name": "Python 3",
   "language": "python",
   "name": "python3"
  },
  "language_info": {
   "codemirror_mode": {
    "name": "ipython",
    "version": 2
   },
   "file_extension": ".py",
   "mimetype": "text/x-python",
   "name": "python",
   "nbconvert_exporter": "python",
   "pygments_lexer": "ipython2",
   "version": "2.7.6"
  }
 },
 "nbformat": 4,
 "nbformat_minor": 0
}