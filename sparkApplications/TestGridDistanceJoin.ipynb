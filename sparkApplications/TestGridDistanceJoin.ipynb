{
 "cells": [
  {
   "cell_type": "markdown",
   "source": [
    "# Simiosis gia Grid\n",
    "- o skopos tou na dimiourgisw ena grid einai gia na miosw kata poli to sinolo ton simion sto disance join\n",
    "- auto epitinxanete ftiaxnontas ena MBB pernontas ta min ton max(x,y) kai apo ta 2 data sets kathos kai ta max apo ta min(x,y) me tin logiki oti osa simia einai ektos tou min max x enos apo ta 2 dataset den ikanopoioun tin sinthiki theta.\n",
    "- stin sinexia tha prepei na kanw spatial join to grid kai me ta 2 datasets gia na vrw se poio grid paei kathe simio\n",
    "- meta tha aporipsw osa grids den exoun kanena\n",
    "\n",
    "### Xrisima stixia na periexei ena grid\n",
    "- gridId\n",
    "- polygon\n",
    "- TODO Check id x an y needed for partitioning reasons\n",
    "\n",
    "### Idea gia grid filtering\n",
    "- Na kanw spatial join mono sto dataset me ta ligotera simia prokimenou na filtrarw ta grids pou den exeoun kanena simio apo to Dataset auto\n",
    "- Me auton ton tropo epitinxanw na kanw mikrotero spatial join sto dataset me tis perisoteres eggrafes\n",
    "- auto vasizete sto"
   ],
   "metadata": {
    "collapsed": false
   }
  },
  {
   "cell_type": "markdown",
   "source": [
    "# Simiosis gia partitioning\n",
    "- prepei na xorisw ta data mou se ola ta mixanimata prin ksekinisw to spatial join\n",
    "- episis prepei na xorisw kai ta grids omiomorfa se ola ta mixanimata\n",
    "- enas tropos gia na ta xorisw tha mporouse na einai to X. Diladi na vrw ta max kai min X kai paota 2 datasets gia na vrw to rangekai na kanw range partition os pros x gia ta points\n",
    "- gia ta grids apo tin all tha eprepe na kanw partition os pros to max X tous oste na simenei oti oti grid einai sto partition exei points mono sto partition auto.\n",
    "- me auton ton tropo epitinxanoume na exoume ta points kai ta grids tous mirasmena ana mixanima kai na empodisoume tis metakinisis sto diktio\n",
    "\n",
    "### Pws to kanw auto?\n",
    "- prepei na dw pws douleui to pratitioning\n",
    "- pos simperiferete to join sto partitioning\n",
    "- prepei na dw an ipostirizei kati tetoio i vivliothiki"
   ],
   "metadata": {
    "collapsed": false
   }
  },
  {
   "cell_type": "markdown",
   "source": [
    "## Imports"
   ],
   "metadata": {
    "collapsed": false
   }
  },
  {
   "cell_type": "code",
   "execution_count": 1,
   "metadata": {
    "collapsed": true
   },
   "outputs": [],
   "source": [
    "# Main  Imports\n",
    "import numpy as np\n",
    "import geopandas as gpd\n",
    "import matplotlib.pyplot as plt\n",
    "from IPython.core.display import display\n",
    "import time\n",
    "\n",
    "# Local App Imports\n",
    "from utils import spatialUtils as utils\n",
    "\n",
    "# Spark Imports\n",
    "from pyspark.sql import SparkSession\n",
    "from pyspark.sql import Row\n",
    "from pyspark.sql import functions as F\n",
    "from pyspark.sql import SQLContext\n",
    "from pyspark.sql.types import StructType,StructField, StringType, IntegerType, DataType\n",
    "\n",
    "\n",
    "# Sedona Imports\n",
    "from sedona.utils import KryoSerializer, SedonaKryoRegistrator\n",
    "from sedona.register import SedonaRegistrator\n",
    "from sedona.sql.types import GeometryType\n",
    "\n",
    "# Python shapely imports\n",
    "import shapely.geometry as sg\n",
    "from descartes import PolygonPatch\n",
    "import geog\n",
    "import shapely.speedups\n",
    "shapely.speedups.enable() # this makes some spatial queries run faster"
   ]
  },
  {
   "cell_type": "markdown",
   "source": [
    "## Load Dataset"
   ],
   "metadata": {
    "collapsed": false
   }
  },
  {
   "cell_type": "code",
   "execution_count": 2,
   "outputs": [
    {
     "name": "stdout",
     "output_type": "stream",
     "text": [
      "+---+--------------------+----------+---------+\n",
      "|_c0|                 _id|         X|        Y|\n",
      "+---+--------------------+----------+---------+\n",
      "|  0|60039bef2bc024099...|  -4.50088| 48.35698|\n",
      "|  1|60039b8f2bc024099...|-4.4970617|48.379555|\n",
      "|  2|60039b9c2bc024099...|-4.4137635| 48.15062|\n",
      "|  3|60039bef2bc024099...| -4.500963|48.356915|\n",
      "|  4|60039bbe2bc024099...| -4.474253|48.341007|\n",
      "|  5|60039bef2bc024099...| -4.501045|48.356842|\n",
      "|  6|60039a6c2bc024099...| -4.497015|48.382206|\n",
      "|  7|60039c032bc024099...|  -4.56926| 48.13976|\n",
      "|  8|60039e032bc024099...| -4.476655| 48.38109|\n",
      "|  9|60039bef2bc024099...| -4.501128|48.356773|\n",
      "+---+--------------------+----------+---------+\n",
      "only showing top 10 rows\n",
      "\n"
     ]
    }
   ],
   "source": [
    "# full program timer\n",
    "total_time = time.time()\n",
    "\n",
    "test_sample_A_path = \"../testData/ais_one_hour.csv\"\n",
    "test_sample_B_path = \"../testData/ais_one_hour2.csv\"\n",
    "\n",
    "# test_sample_path = \"../testData/ais_one_month.csv\"\n",
    "\n",
    "\n",
    "# create sedona spark session\n",
    "spark = SparkSession. \\\n",
    "    builder. \\\n",
    "    appName('appName'). \\\n",
    "    config(\"spark.serializer\", KryoSerializer.getName). \\\n",
    "    config(\"spark.kryo.registrator\", SedonaKryoRegistrator.getName). \\\n",
    "    config('spark.jars.packages',\n",
    "           'org.apache.sedona:sedona-python-adapter-3.0_2.12:1.0.0-incubating,'\n",
    "           'org.datasyslab:geotools-wrapper:geotools-24.0'). \\\n",
    "    getOrCreate()\n",
    "\n",
    "SedonaRegistrator.registerAll(spark)\n",
    "\n",
    "# Load CSV File\n",
    "df_a = spark.read.csv(header=\"True\", inferSchema=\"True\", path=test_sample_A_path)\n",
    "df_a.show(10)"
   ],
   "metadata": {
    "collapsed": false,
    "pycharm": {
     "name": "#%%\n"
    }
   }
  },
  {
   "cell_type": "markdown",
   "source": [
    "## Filter Dataset for Test Reasons\n",
    "- arxika tha periorisoume to dataset stin perioxi x[-6.5,-5] kai y[47.5,49]\n",
    "- epilegw auto gt kserw oti exei arketa pings"
   ],
   "metadata": {
    "collapsed": false
   }
  },
  {
   "cell_type": "markdown",
   "source": [
    "df_a = df_a.filter( (-6.5 <= df_a.X) & (df_a.X <= -5) & (47.5 <= df_a.Y) & (df_a.Y <= 49))\n",
    "print(\"Total filtered_df_a count {}\".format(df_a.count()))\n",
    "df_a.show(10)"
   ],
   "metadata": {
    "collapsed": false,
    "pycharm": {
     "name": "#%% md\n"
    }
   }
  },
  {
   "cell_type": "markdown",
   "source": [
    "## Map Point objects\n",
    "Create shapely poit object for each ping\n"
   ],
   "metadata": {
    "collapsed": false
   }
  },
  {
   "cell_type": "markdown",
   "source": [
    "## Grid Dataset\n",
    "Lets create a test grid\n",
    "- We have to finde the MBB of the dataset\n",
    "- Then we have to create a grid for this dataset (**sos** each grid side has to be equal to theta)"
   ],
   "metadata": {
    "collapsed": false
   }
  },
  {
   "cell_type": "code",
   "execution_count": 3,
   "outputs": [
    {
     "name": "stdout",
     "output_type": "stream",
     "text": [
      "print mbb: Row(max(X)=-0.066665, min(X)=-8.155949, max(Y)=50.439285, min(Y)=45.95756)\n",
      "grid len: 4641\n",
      "--- 0.9759209156036377 seconds ---\n"
     ]
    }
   ],
   "source": [
    "cell_time = time.time()\n",
    "\n",
    "# find min/max X,Y from dataset\n",
    "mbb_row = df_a.agg(\n",
    "    F.max(df_a.X),\n",
    "    F.min(df_a.X),\n",
    "    F.max(df_a.Y),\n",
    "    F.min(df_a.Y),\n",
    ").collect()[0]\n",
    "print(\"print mbb: {}\".format(mbb_row))\n",
    "\n",
    "#calculate grid for dataset\n",
    "grid = utils.getPolyGrid(mbb_row[\"min(X)\"],mbb_row[\"min(Y)\"],mbb_row[\"max(X)\"],mbb_row[\"max(Y)\"], theta=10)\n",
    "print(\"grid len: {}\".format(len(grid)))\n",
    "\n",
    "print(\"--- %s seconds ---\" % (time.time() - cell_time))"
   ],
   "metadata": {
    "collapsed": false,
    "pycharm": {
     "name": "#%%\n"
    }
   }
  },
  {
   "cell_type": "code",
   "source": [
    "# print grids\n",
    "ax = utils.createAXNFigure()\n",
    "BLUE = '#6699cc'\n",
    "GRAY = '#999999'\n",
    "for cell in grid:\n",
    "    ax.add_patch(PolygonPatch(cell[\"geometry\"], fc=GRAY, ec=GRAY, alpha=0.5, zorder=2))\n",
    "\n",
    "for row in df_a.collect():\n",
    "  ax.plot(row.X, row.Y, marker='o', markersize=2, alpha=0.3, c='r')\n",
    "\n",
    "plt.ylabel(\"Latitude\")\n",
    "plt.xlabel(\"Longitude\")\n",
    "plt.show()"
   ],
   "metadata": {
    "collapsed": false,
    "pycharm": {
     "name": "#%%\n"
    }
   },
   "execution_count": 4,
   "outputs": [
    {
     "data": {
      "text/plain": "<Figure size 720x432 with 1 Axes>",
      "image/png": "[encoded data removed]"
     },
     "metadata": {
      "needs_background": "light"
     },
     "output_type": "display_data"
    }
   ]
  },
  {
   "cell_type": "markdown",
   "source": [
    "## Create Grid RDD or DF"
   ],
   "metadata": {
    "collapsed": false,
    "pycharm": {
     "name": "#%% md\n"
    }
   }
  },
  {
   "cell_type": "code",
   "execution_count": 5,
   "outputs": [
    {
     "name": "stdout",
     "output_type": "stream",
     "text": [
      "root\n",
      " |-- geometry: geometry (nullable = true)\n",
      " |-- grid_id: long (nullable = true)\n",
      "\n",
      "StructType(List(StructField(geometry,GeometryType,true),StructField(grid_id,LongType,true)))\n",
      "+--------------------+-------+\n",
      "|            geometry|grid_id|\n",
      "+--------------------+-------+\n",
      "|POLYGON ((-8.1559...|      0|\n",
      "|POLYGON ((-8.1559...|      1|\n",
      "|POLYGON ((-8.1559...|      2|\n",
      "|POLYGON ((-8.1559...|      3|\n",
      "|POLYGON ((-8.1559...|      4|\n",
      "|POLYGON ((-8.1559...|      5|\n",
      "|POLYGON ((-8.1559...|      6|\n",
      "|POLYGON ((-8.1559...|      7|\n",
      "|POLYGON ((-8.1559...|      8|\n",
      "|POLYGON ((-8.1559...|      9|\n",
      "+--------------------+-------+\n",
      "only showing top 10 rows\n",
      "\n"
     ]
    }
   ],
   "source": [
    "grid_df = spark.createDataFrame(grid)\n",
    "grid_df.printSchema()\n",
    "print(grid_df.schema)\n",
    "grid_df.show(10)\n",
    "\n",
    "gpd_grid_df = gpd.GeoDataFrame(grid)"
   ],
   "metadata": {
    "collapsed": false,
    "pycharm": {
     "name": "#%%\n"
    }
   }
  },
  {
   "cell_type": "markdown",
   "source": [
    "## Link Points tou Grids\n",
    "- **Approach 1:** Test databricks code for spatial join from link\n",
    "- **Approach 2:** perform spatial join in order to link points with grids"
   ],
   "metadata": {
    "collapsed": false
   }
  },
  {
   "cell_type": "markdown",
   "source": [
    "### Approach 1"
   ],
   "metadata": {
    "collapsed": false,
    "pycharm": {
     "name": "#%% md\n"
    }
   }
  },
  {
   "cell_type": "markdown",
   "source": [
    "def find_intersection(longitude, latitude):\n",
    "    # row = grid_df.collect()[0]\n",
    "    # print(row)\n",
    "    mgdf = gpd_grid_df.apply(lambda x: x.grid_id if x.geometry.intersects(sg.Point(longitude, latitude)) else None, axis=1)\n",
    "    idx = mgdf.first_valid_index()\n",
    "    first_valid_value = mgdf.loc[idx] if idx is not None else None\n",
    "    return int(first_valid_value)\n",
    "\n",
    "find_intersection_udf = F.udf(find_intersection, IntegerType())\n"
   ],
   "metadata": {
    "collapsed": false,
    "pycharm": {
     "name": "#%% md\n"
    }
   }
  },
  {
   "cell_type": "markdown",
   "source": [
    "cell_time = time.time()\n",
    "\n",
    "joined = df_a.withColumn(\"cell_id\", find_intersection_udf(df_a.X, df_a.Y))\n",
    "joined.show(10)\n",
    "\n",
    "print(\"--- %s seconds ---\" % (time.time() - cell_time))"
   ],
   "metadata": {
    "collapsed": false
   }
  },
  {
   "cell_type": "markdown",
   "source": [
    "### Approach 2"
   ],
   "metadata": {
    "collapsed": false
   }
  },
  {
   "cell_type": "code",
   "source": [
    "def createPoints(longitude, latitude):\n",
    "  return sg.Point(longitude, latitude)\n",
    "\n",
    "createPoints_udf = F.udf(createPoints,GeometryType())"
   ],
   "metadata": {
    "collapsed": false,
    "pycharm": {
     "name": "#%%\n"
    }
   },
   "execution_count": 6,
   "outputs": []
  },
  {
   "cell_type": "code",
   "source": [
    "sqlContext = SQLContext(spark)\n",
    "# timing procedure\n",
    "start_time = time.time()\n",
    "\n",
    "geom_df = df_a.withColumn(\"geometry\", createPoints_udf(df_a.X, df_a.Y)).cache()\n",
    "\n",
    "geom_df.createOrReplaceTempView(\"points\")\n",
    "grid_df.createOrReplaceTempView(\"grids\")\n",
    "\n",
    "spatial_join_result = spark.sql(\n",
    "    \"\"\"\n",
    "        SELECT P._id, P.X, P.Y, P.geometry as point_geometry,  G.geometry as grid_geometry, G.grid_id\n",
    "        FROM points AS P, grids AS G\n",
    "        WHERE ST_Intersects(P.geometry, G.geometry)\n",
    "    \"\"\"\n",
    ").cache() # cache results to avoid perform join again\n",
    "\n",
    "\n",
    "spatial_join_result.show()\n",
    "print(\"--- %s seconds ---\" % (time.time() - start_time))"
   ],
   "metadata": {
    "collapsed": false,
    "pycharm": {
     "name": "#%%\n"
    }
   },
   "execution_count": 7,
   "outputs": [
    {
     "name": "stdout",
     "output_type": "stream",
     "text": [
      "+--------------------+----------+---------+--------------------+--------------------+-------+\n",
      "|                 _id|         X|        Y|      point_geometry|       grid_geometry|grid_id|\n",
      "+--------------------+----------+---------+--------------------+--------------------+-------+\n",
      "|60039bef2bc024099...|  -4.50088| 48.35698|POINT (-4.50088 4...|POLYGON ((-4.5523...|   2063|\n",
      "|60039b8f2bc024099...|-4.4970617|48.379555|POINT (-4.4970617...|POLYGON ((-4.5523...|   2063|\n",
      "|60039bef2bc024099...| -4.500963|48.356915|POINT (-4.500963 ...|POLYGON ((-4.5523...|   2063|\n",
      "|60039bef2bc024099...| -4.501045|48.356842|POINT (-4.501045 ...|POLYGON ((-4.5523...|   2063|\n",
      "|60039c032bc024099...|  -4.56926| 48.13976|POINT (-4.56926 4...|POLYGON ((-4.6424...|   2014|\n",
      "|60039bef2bc024099...| -4.501128|48.356773|POINT (-4.501128 ...|POLYGON ((-4.5523...|   2063|\n",
      "|60039bef2bc024099...|-4.5012116|  48.3567|POINT (-4.5012116...|POLYGON ((-4.5523...|   2063|\n",
      "|60039e642bc024099...|-4.5142384|48.369167|POINT (-4.5142384...|POLYGON ((-4.5523...|   2063|\n",
      "|60039bef2bc024099...| -4.501293|48.356632|POINT (-4.501293 ...|POLYGON ((-4.5523...|   2063|\n",
      "|60039b8f2bc024099...|  -4.49706| 48.37955|POINT (-4.49706 4...|POLYGON ((-4.5523...|   2063|\n",
      "|60039bef2bc024099...| -4.501372| 48.35656|POINT (-4.501372 ...|POLYGON ((-4.5523...|   2063|\n",
      "|60039bef2bc024099...|  -4.50145|48.356483|POINT (-4.50145 4...|POLYGON ((-4.5523...|   2063|\n",
      "|60039c032bc024099...| -4.569948|48.139675|POINT (-4.569948 ...|POLYGON ((-4.6424...|   2014|\n",
      "|60039bef2bc024099...| -4.501527|48.356407|POINT (-4.501527 ...|POLYGON ((-4.5523...|   2063|\n",
      "|60039bef2bc024099...| -4.501605|48.356335|POINT (-4.501605 ...|POLYGON ((-4.5523...|   2063|\n",
      "|60039e642bc024099...|-4.5142384|48.369167|POINT (-4.5142384...|POLYGON ((-4.5523...|   2063|\n",
      "|60039bef2bc024099...| -4.501682| 48.35626|POINT (-4.501682 ...|POLYGON ((-4.5523...|   2063|\n",
      "|60039b8e2bc024099...|-4.4970565|48.379547|POINT (-4.4970565...|POLYGON ((-4.5523...|   2063|\n",
      "|60039bef2bc024099...|-4.5017567| 48.35618|POINT (-4.5017567...|POLYGON ((-4.5523...|   2063|\n",
      "|600399bc2bc024099...| -4.512192|48.118393|POINT (-4.512192 ...|POLYGON ((-4.5523...|   2066|\n",
      "+--------------------+----------+---------+--------------------+--------------------+-------+\n",
      "only showing top 20 rows\n",
      "\n",
      "--- 12.492384195327759 seconds ---\n"
     ]
    }
   ]
  },
  {
   "cell_type": "markdown",
   "source": [
    "## Spatial join Approach 2 stats\n",
    "- find count\n",
    "- find pings per grid\n",
    "- filter grids with 0 points\n",
    "\n",
    "### SOS\n",
    "Otan kanoume chaining functions mporoume na exoume access se colum apo to proigoumeno function kanontas F.col(\"coll_name\")"
   ],
   "metadata": {
    "collapsed": false
   }
  },
  {
   "cell_type": "code",
   "source": [
    "print(\"spatial join count: {}\".format(spatial_join_result.count()))\n",
    "\n",
    "# find pings per grid\n",
    "filtered_grid = spatial_join_result.groupby([\"grid_geometry\", \"grid_id\"])\\\n",
    "    .count()\\\n",
    "    .filter(F.col(\"count\") > 0)\\\n",
    "    .cache()\n",
    "\n",
    "filtered_grid.show(10)\n",
    "\n",
    "print(\"filtered spatial join count: {}\".format(filtered_grid.count()))"
   ],
   "metadata": {
    "collapsed": false,
    "pycharm": {
     "name": "#%%\n"
    }
   },
   "execution_count": 8,
   "outputs": [
    {
     "name": "stdout",
     "output_type": "stream",
     "text": [
      "spatial join count: 112599\n",
      "+--------------------+-------+-----+\n",
      "|       grid_geometry|grid_id|count|\n",
      "+--------------------+-------+-----+\n",
      "|POLYGON ((-5.4532...|   1561|   10|\n",
      "|POLYGON ((-4.9127...|   1864|  390|\n",
      "|POLYGON ((-6.0838...|   1188|    1|\n",
      "|POLYGON ((-2.4802...|   3219|    8|\n",
      "|POLYGON ((-5.0928...|   1739|    1|\n",
      "|POLYGON ((-7.7955...|    232|   10|\n",
      "|POLYGON ((-5.9937...|   1248|    4|\n",
      "|POLYGON ((-4.9127...|   1860| 1708|\n",
      "|POLYGON ((-4.8226...|   1917|   27|\n",
      "|POLYGON ((-5.4532...|   1550|    2|\n",
      "+--------------------+-------+-----+\n",
      "only showing top 10 rows\n",
      "\n",
      "filtered spatial join count: 405\n"
     ]
    }
   ]
  },
  {
   "cell_type": "code",
   "source": [
    "print(\"--- TOTAL EXECUTION TIME ---\\n--- %s seconds ---\" % (time.time() - total_time))"
   ],
   "metadata": {
    "collapsed": false,
    "pycharm": {
     "name": "#%%\n"
    }
   },
   "execution_count": 9,
   "outputs": [
    {
     "name": "stdout",
     "output_type": "stream",
     "text": [
      "--- TOTAL EXECUTION TIME ---\n",
      "--- 210.45956110954285 seconds ---\n"
     ]
    }
   ]
  },
  {
   "cell_type": "code",
   "source": [
    "# print grids\n",
    "ax = utils.createAXNFigure()\n",
    "BLUE = '#6699cc'\n",
    "GRAY = '#999999'\n",
    "for row in filtered_grid.collect():\n",
    "    ax.add_patch(PolygonPatch(row[\"grid_geometry\"], fc=GRAY, ec=GRAY, alpha=0.5, zorder=2))\n",
    "\n",
    "for row in geom_df.collect():\n",
    "  ax.plot(row.X, row.Y, marker='o', markersize=2, alpha=0.3, c='r')\n",
    "\n",
    "plt.ylabel(\"Latitude\")\n",
    "plt.xlabel(\"Longitude\")\n",
    "plt.show()"
   ],
   "metadata": {
    "collapsed": false,
    "pycharm": {
     "name": "#%%\n",
     "is_executing": true
    }
   },
   "execution_count": null,
   "outputs": []
  },
  {
   "cell_type": "code",
   "execution_count": null,
   "outputs": [],
   "source": [
    "print(\"test\")"
   ],
   "metadata": {
    "collapsed": false,
    "pycharm": {
     "name": "#%%\n",
     "is_executing": true
    }
   }
  }
 ],
 "metadata": {
  "kernelspec": {
   "display_name": "Python 3",
   "language": "python",
   "name": "python3"
  },
  "language_info": {
   "codemirror_mode": {
    "name": "ipython",
    "version": 2
   },
   "file_extension": ".py",
   "mimetype": "text/x-python",
   "name": "python",
   "nbconvert_exporter": "python",
   "pygments_lexer": "ipython2",
   "version": "2.7.6"
  }
 },
 "nbformat": 4,
 "nbformat_minor": 0
}