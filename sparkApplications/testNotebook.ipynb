{
 "cells": [
  {
   "cell_type": "markdown",
   "source": [
    "## Imports"
   ],
   "metadata": {
    "collapsed": false
   }
  },
  {
   "cell_type": "code",
   "execution_count": 1,
   "outputs": [],
   "source": [
    "# Main  Imports\n",
    "import numpy as np\n",
    "from IPython.core.display import display\n",
    "import time\n",
    "\n",
    "# Spark Imports\n",
    "from pyspark.sql import SparkSession\n",
    "from pyspark.sql import Row\n",
    "from pyspark.sql import functions as F\n",
    "from pyspark.sql import SQLContext\n",
    "\n",
    "# Sedona Imports\n",
    "from sedona.utils import KryoSerializer, SedonaKryoRegistrator\n",
    "from sedona.register import SedonaRegistrator\n",
    "\n",
    "# Python shapely imports\n",
    "import shapely.geometry as sg\n",
    "import geog"
   ],
   "metadata": {
    "collapsed": false,
    "pycharm": {
     "name": "#%% code\n"
    }
   }
  },
  {
   "cell_type": "markdown",
   "source": [
    "## Spark Initialization\n",
    "- Load Sample Dataset (One Month)\n",
    "- Create a spark_df with the sample dataset\n",
    "\n",
    "### **SOS!**\n",
    "we have to reload dataset every time we reconect to CoLab\n"
   ],
   "metadata": {
    "collapsed": false
   }
  },
  {
   "cell_type": "code",
   "execution_count": 2,
   "outputs": [
    {
     "name": "stdout",
     "output_type": "stream",
     "text": [
      "+---+--------------------+----------+---------+\n",
      "|_c0|                 _id|         X|        Y|\n",
      "+---+--------------------+----------+---------+\n",
      "|  0|60039bef2bc024099...|  -4.50088| 48.35698|\n",
      "|  1|60039b8f2bc024099...|-4.4970617|48.379555|\n",
      "|  2|60039b9c2bc024099...|-4.4137635| 48.15062|\n",
      "|  3|60039bef2bc024099...| -4.500963|48.356915|\n",
      "|  4|60039bbe2bc024099...| -4.474253|48.341007|\n",
      "|  5|60039bef2bc024099...| -4.501045|48.356842|\n",
      "|  6|60039a6c2bc024099...| -4.497015|48.382206|\n",
      "|  7|60039c032bc024099...|  -4.56926| 48.13976|\n",
      "|  8|60039e032bc024099...| -4.476655| 48.38109|\n",
      "|  9|60039bef2bc024099...| -4.501128|48.356773|\n",
      "+---+--------------------+----------+---------+\n",
      "only showing top 10 rows\n",
      "\n"
     ]
    }
   ],
   "source": [
    "# full program timer\n",
    "total_time = time.time()\n",
    "\n",
    "test_sample_path = \"../testData/ais_one_hour.csv\"\n",
    "\n",
    "# Create spark session\n",
    "# spark = SparkSession.builder.appName(\"DistributedDistanceJoin_Test\")\\\n",
    "#     .master(\"local\")\\\n",
    "#     .getOrCreate()\n",
    "\n",
    "\n",
    "# create sedona spark session\n",
    "spark = SparkSession. \\\n",
    "    builder. \\\n",
    "    appName('appName'). \\\n",
    "    config(\"spark.serializer\", KryoSerializer.getName). \\\n",
    "    config(\"spark.kryo.registrator\", SedonaKryoRegistrator.getName). \\\n",
    "    config('spark.jars.packages',\n",
    "           'org.apache.sedona:sedona-python-adapter-3.0_2.12:1.0.0-incubating,'\n",
    "           'org.datasyslab:geotools-wrapper:geotools-24.0'). \\\n",
    "    getOrCreate()\n",
    "\n",
    "SedonaRegistrator.registerAll(spark)\n",
    "\n",
    "# Load CSV File\n",
    "df = spark.read.csv(header=\"True\", inferSchema=\"True\", path=test_sample_path)\n",
    "df.show(10)\n",
    "\n"
   ],
   "metadata": {
    "collapsed": false,
    "pycharm": {
     "name": "#%%\n"
    }
   }
  },
  {
   "cell_type": "markdown",
   "source": [
    "## Create test RDD\n",
    "\n",
    "### **SOS! BUG**\n",
    "DEN PAIZEI KALA AMA FORTONO RDD OPOS EINAI STO SXOLIO"
   ],
   "metadata": {
    "collapsed": false
   }
  },
  {
   "cell_type": "code",
   "execution_count": 3,
   "outputs": [
    {
     "name": "stdout",
     "output_type": "stream",
     "text": [
      "--------------- Load As RDD ---------------\n",
      "Pointset A stats, Count: 112599, \n",
      " Sample Row: [Row(_c0=None, _c1='_id', _c2='X', _c3='Y')]\n",
      "Pointset B stats, Count: 112599, \n",
      " Sample Row: [Row(_c0=None, _c1='_id', _c2='X', _c3='Y')]\n"
     ]
    }
   ],
   "source": [
    "# Load As RDD\n",
    "print(\"--------------- Load As RDD ---------------\")\n",
    "\n",
    "\n",
    "pointSet_A = spark.read.csv(path=test_sample_path).rdd\n",
    "pointSet_B = spark.read.csv(path=test_sample_path).rdd\n",
    "\n",
    "\n",
    "# Test preview Datasets\n",
    "print(\"Pointset A stats, Count: {}, \\n Sample Row: {}\".format(pointSet_A.count(),pointSet_A.take(1)))\n",
    "print(\"Pointset B stats, Count: {}, \\n Sample Row: {}\".format(pointSet_B.count(),pointSet_B.take(1)))"
   ],
   "metadata": {
    "collapsed": false,
    "pycharm": {
     "name": "#%%\n"
    }
   }
  },
  {
   "cell_type": "markdown",
   "source": [
    "# Declare Create MBB map function\n",
    "\n",
    "This helper func is used on 1st map-reduce stage in order to create the Minimum Bounding Box for eatch point of the dataset. MBB by dafinition consists of 2 points (bottom left and upper right).\n",
    "\n",
    "In order to **convert** point into MBB we use the target distance theta in order to expand point for theta/2 on eatch side of the box\n",
    "\n",
    "This way when we check for intersection between 2 MBB evry pair of MBB's that intersets meand tha is highly posible that those 2 MMB's satisfing ***theta*** condition"
   ],
   "metadata": {
    "collapsed": false
   }
  },
  {
   "cell_type": "code",
   "execution_count": 4,
   "outputs": [],
   "source": [
    "def calculateMBB(Px, Py, d, polyPoints=5):\n",
    "  \"\"\"\n",
    "    :param Px: target point x coordinate\n",
    "    :param Py: target point y coordinate\n",
    "    :param d: the distance that we want to expand point on each side (in km)\n",
    "    :param polyPoints: the shape of the poly that we want to produce\n",
    "           @SOS: for square polyPoints = 5 (4+1 in order to create polygon.)\n",
    "    :return bottomLeftMBB: the bottom left point of the mbb\n",
    "    :return upperRightMBB: the upper right point of the mbb\n",
    "  \"\"\"\n",
    "  p = sg.Point(Px,Py)\n",
    "  angles = np.linspace(0, 360, polyPoints)\n",
    "  polygon = geog.propagate(p, angles, d*1000)\n",
    "\n",
    "  # un zip x and y coords\n",
    "  x_coordinates, y_coordinates = zip(*polygon)\n",
    "\n",
    "  # ----------- Example To Rturn points ------------\n",
    "  # bottomLeftMBB =  sg.Point(min(x_coordinates), min(y_coordinates))\n",
    "  # upperRightMBB =  sg.Point(max(x_coordinates), max(y_coordinates))\n",
    "\n",
    "  # return  bottomLeftMBB, upperRightMBB\n",
    "  #\n",
    "  #\n",
    "  # ----------- Example To Rturn Polygon ------------\n",
    "  return sg.Polygon(polygon)\n",
    "  #\n",
    "  # ----------- Example To Rturn Coord Tuples ------------\n",
    "  # bottomLeftMBB = [min(x_coordinates), min(y_coordinates)]\n",
    "  # upperRightMBB = [max(x_coordinates), max(y_coordinates)]\n",
    "\n",
    "  # return [bottomLeftMBB, upperRightMBB]\n",
    "\n",
    "\n",
    "# test\n",
    "# bottomLeftMBB, upperRightMBB = calculateMBB(-4.50088, 48.35698, 10)\n",
    "\n",
    "# print(\"bottomLeftMBB: {}\".format(bottomLeftMBB))\n",
    "# print(\"upperRightMBB: {}\".format(upperRightMBB))\n"
   ],
   "metadata": {
    "collapsed": false,
    "pycharm": {
     "name": "#%%\n"
    }
   }
  },
  {
   "cell_type": "markdown",
   "source": [
    "# Get MBB for each dataset\n",
    "For test we will use 2 times the same dataset\n",
    "\n",
    "### Provlimata ektelesis\n",
    "- Den mporei na kanei map olokliro to dataset (1305201) skaei apo mnimi.\n",
    "- mexri 1m ta katafernei\n",
    "- eite xrisimopoiisoume row eite oxi den exei diafora sto na ta xoresei\n",
    "- episis to map akoma kai me apli prosthesi metaksi ton 2 row den einai arketa grigoro.\n",
    "****\n",
    "### Gia to test tha paiksw me to one day sample\n",
    "skopos einai na kanw map me tin func pou eftiaksa kai meta spatial join me intersect gia ta 2 datasets\n",
    "\n",
    "- **Step 1** Ftiaxnw mia custom row sturct (den tin exw xriimopoiisi akoma)\n",
    "- **Step 2** kanw apply to map sto pointset A\n",
    "- **Step 3** kanw cache to pointSet A me ta MBB's\n",
    "\n",
    "- **kanw ta idia kai gia to pointset B**\n",
    "****"
   ],
   "metadata": {
    "collapsed": false
   }
  },
  {
   "cell_type": "code",
   "execution_count": 5,
   "outputs": [
    {
     "name": "stdout",
     "output_type": "stream",
     "text": [
      "Pointset A stats, Count: 112598, \n",
      " Sample Row: Row(_id='60039b8f2bc0240991848034', X=-4.4970617, Y=48.379555, geometry=<shapely.geometry.polygon.Polygon object at 0x11c4450a0>)\n",
      "Pointset B stats, Count: 112598, \n",
      " Sample Row: Row(_id='60039b8f2bc0240991848034', X=-4.4970617, Y=48.379555, geometry=<shapely.geometry.polygon.Polygon object at 0x11c445b20>)\n",
      "--- 98.29065108299255 seconds ---\n"
     ]
    }
   ],
   "source": [
    "# timing procedure\n",
    "start_time = time.time()\n",
    "\n",
    "# step1\n",
    "MBB_Stracture = Row(\"_id\", \"X\", \"Y\", \"geometry\")\n",
    "\n",
    "# step2\n",
    "pointSet_A_MBB = df.rdd.map(lambda row: MBB_Stracture(row[1], row[2], row[3], calculateMBB(row[2], row[3], 10))).cache()\n",
    "pointSet_B_MBB = df.rdd.map(lambda row: MBB_Stracture(row[1], row[2], row[3], calculateMBB(row[2], row[3], 10))).cache()\n",
    "\n",
    "# Test preview Datasets\n",
    "print(\"Pointset A stats, Count: {}, \\n Sample Row: {}\".format(pointSet_A_MBB.count(),pointSet_A_MBB.take(2)[1]))\n",
    "print(\"Pointset B stats, Count: {}, \\n Sample Row: {}\".format(pointSet_B_MBB.count(),pointSet_B_MBB.take(2)[1]))\n",
    "\n",
    "print(\"--- %s seconds ---\" % (time.time() - start_time))"
   ],
   "metadata": {
    "collapsed": false,
    "pycharm": {
     "name": "#%%\n"
    }
   }
  },
  {
   "cell_type": "markdown",
   "source": [
    "## Spark SQL Test\n",
    "\n",
    "- Target Query 1: Perform a simple query\n",
    "- Target Query 2: perform a join based on _id\n",
    "\n",
    "### Methodology\n",
    "- step1: We need to create a dataFrame from SQL context and our RDD\n",
    "- setp2: We have to register this dataframe as a Temp Table\n",
    "- step3: Then we can run  SQL queries on our dataframe."
   ],
   "metadata": {
    "collapsed": false
   }
  },
  {
   "cell_type": "code",
   "execution_count": 6,
   "outputs": [
    {
     "data": {
      "text/plain": "[Row(_id='60039bef2bc0240991b16857', X=-4.50088, Y=48.35698, geometry=<shapely.geometry.polygon.Polygon object at 0x11e9f6790>),\n Row(_id='60039b8f2bc0240991848034', X=-4.4970617, Y=48.379555, geometry=<shapely.geometry.polygon.Polygon object at 0x11e9f6850>),\n Row(_id='60039b9c2bc02409918a7d6d', X=-4.4137635, Y=48.15062, geometry=<shapely.geometry.polygon.Polygon object at 0x11e9f6910>),\n Row(_id='60039bef2bc0240991b16855', X=-4.500963, Y=48.356915, geometry=<shapely.geometry.polygon.Polygon object at 0x11e9f69d0>),\n Row(_id='60039bbe2bc02409919ab3fc', X=-4.474253, Y=48.341007, geometry=<shapely.geometry.polygon.Polygon object at 0x11e9f6a90>),\n Row(_id='60039bef2bc0240991b16853', X=-4.501045, Y=48.356842, geometry=<shapely.geometry.polygon.Polygon object at 0x11e9f6b50>),\n Row(_id='60039a6c2bc024099171a177', X=-4.497015, Y=48.382206, geometry=<shapely.geometry.polygon.Polygon object at 0x11e9f6c10>),\n Row(_id='60039c032bc0240991bb75e8', X=-4.56926, Y=48.13976, geometry=<shapely.geometry.polygon.Polygon object at 0x11e9f6cd0>),\n Row(_id='60039e032bc02409910fb449', X=-4.476655, Y=48.38109, geometry=<shapely.geometry.polygon.Polygon object at 0x11e9f6d90>),\n Row(_id='60039bef2bc0240991b16850', X=-4.501128, Y=48.356773, geometry=<shapely.geometry.polygon.Polygon object at 0x11e9f6e50>)]"
     },
     "metadata": {},
     "output_type": "display_data"
    },
    {
     "name": "stdout",
     "output_type": "stream",
     "text": [
      "root\n",
      " |-- _id: string (nullable = true)\n",
      " |-- X: double (nullable = true)\n",
      " |-- Y: double (nullable = true)\n",
      " |-- geometry: geometry (nullable = true)\n",
      "\n"
     ]
    }
   ],
   "source": [
    "sqlContext = SQLContext(spark)\n",
    "\n",
    "pointSet_A_SQL = sqlContext.createDataFrame(pointSet_A_MBB)\n",
    "display(pointSet_A_SQL.head(10))\n",
    "\n",
    "pointSet_A_SQL.printSchema()\n",
    "\n",
    "pointSet_A_SQL.registerTempTable(\"raw_data\")"
   ],
   "metadata": {
    "collapsed": false,
    "pycharm": {
     "name": "#%%\n"
    }
   }
  },
  {
   "cell_type": "code",
   "execution_count": 7,
   "outputs": [
    {
     "name": "stdout",
     "output_type": "stream",
     "text": [
      "+--------------------+-----------+---------+--------------------+\n",
      "|                 _id|          X|        Y|            geometry|\n",
      "+--------------------+-----------+---------+--------------------+\n",
      "|600398d52bc024099...|  -0.066665| 48.03318|POLYGON ((0.06782...|\n",
      "|600398d82bc024099...|  -0.066665|48.341614|POLYGON ((0.06863...|\n",
      "|600398d52bc024099...|  -0.066665| 48.03318|POLYGON ((0.06782...|\n",
      "|60039e512bc024099...|-0.26731667|49.616188|POLYGON ((-0.1285...|\n",
      "|600398d52bc024099...| -0.7333317|48.083332|POLYGON ((-0.5987...|\n",
      "|600398d52bc024099...| -0.7599033|48.148026|POLYGON ((-0.6251...|\n",
      "|600398982bc024099...| -1.0425516|50.431885|POLYGON ((-0.9013...|\n",
      "|600398ba2bc024099...|    -1.5356|50.056896|POLYGON ((-1.3955...|\n",
      "|60039e312bc024099...|  -1.595915| 47.19171|POLYGON ((-1.4635...|\n",
      "|60039e312bc024099...| -1.5959216| 47.19171|POLYGON ((-1.4635...|\n",
      "+--------------------+-----------+---------+--------------------+\n",
      "only showing top 10 rows\n",
      "\n"
     ]
    }
   ],
   "source": [
    "pointSet_A_SQL.orderBy('X', ascending=False).show(10)"
   ],
   "metadata": {
    "collapsed": false,
    "pycharm": {
     "name": "#%%\n"
    }
   }
  },
  {
   "cell_type": "code",
   "execution_count": 8,
   "outputs": [
    {
     "name": "stdout",
     "output_type": "stream",
     "text": [
      "+----------+\n",
      "|         X|\n",
      "+----------+\n",
      "|  -4.50088|\n",
      "|-4.4970617|\n",
      "|-4.4137635|\n",
      "| -4.500963|\n",
      "| -4.474253|\n",
      "+----------+\n",
      "only showing top 5 rows\n",
      "\n"
     ]
    }
   ],
   "source": [
    "# write raw sql\n",
    "x = sqlContext.sql(\"\"\"\n",
    "                           SELECT X\n",
    "                           FROM raw_data\n",
    "                           \"\"\")\n",
    "x.show(5)"
   ],
   "metadata": {
    "collapsed": false,
    "pycharm": {
     "name": "#%%\n"
    }
   }
  },
  {
   "cell_type": "code",
   "execution_count": 9,
   "outputs": [
    {
     "name": "stdout",
     "output_type": "stream",
     "text": [
      "+--------------------+----------+---------+\n",
      "|                 _id|         X|        Y|\n",
      "+--------------------+----------+---------+\n",
      "|600398982bc024099...|-7.0706515|49.238274|\n",
      "|600398982bc024099...| -7.070542|49.238495|\n",
      "|600398982bc024099...|-6.9999585| 49.35194|\n",
      "|600398982bc024099...|-6.9997835|49.352276|\n",
      "|600398982bc024099...| -6.999658|49.352432|\n",
      "+--------------------+----------+---------+\n",
      "only showing top 5 rows\n",
      "\n"
     ]
    }
   ],
   "source": [
    "# use select sql command on dataframe with where and order by\n",
    "pointSet_A_SQL\\\n",
    "    .select(\"_id\", \"X\", \"Y\")\\\n",
    "    .where(pointSet_A_SQL.Y > 49)\\\n",
    "    .orderBy(\"X\")\\\n",
    "    .show(5)"
   ],
   "metadata": {
    "collapsed": false,
    "pycharm": {
     "name": "#%%\n"
    }
   }
  },
  {
   "cell_type": "markdown",
   "source": [
    "### Perform Join Between 2 DF\n",
    "- Step 1 create df for 2nd RDD\n",
    "- Step 2 create an alias to call tables with shorter name (optional)\n",
    "- Step 3 perform Join on _id column\n"
   ],
   "metadata": {
    "collapsed": false,
    "pycharm": {
     "name": "#%% md\n"
    }
   }
  },
  {
   "cell_type": "code",
   "execution_count": 10,
   "outputs": [
    {
     "data": {
      "text/plain": "[Row(_id='60039bef2bc0240991b16857', X=-4.50088, Y=48.35698, geometry=<shapely.geometry.polygon.Polygon object at 0x11c2121c0>),\n Row(_id='60039b8f2bc0240991848034', X=-4.4970617, Y=48.379555, geometry=<shapely.geometry.polygon.Polygon object at 0x11c22d130>),\n Row(_id='60039b9c2bc02409918a7d6d', X=-4.4137635, Y=48.15062, geometry=<shapely.geometry.polygon.Polygon object at 0x11c212e80>),\n Row(_id='60039bef2bc0240991b16855', X=-4.500963, Y=48.356915, geometry=<shapely.geometry.polygon.Polygon object at 0x11c22d190>),\n Row(_id='60039bbe2bc02409919ab3fc', X=-4.474253, Y=48.341007, geometry=<shapely.geometry.polygon.Polygon object at 0x11c212ac0>),\n Row(_id='60039bef2bc0240991b16853', X=-4.501045, Y=48.356842, geometry=<shapely.geometry.polygon.Polygon object at 0x11ea530d0>),\n Row(_id='60039a6c2bc024099171a177', X=-4.497015, Y=48.382206, geometry=<shapely.geometry.polygon.Polygon object at 0x11c212850>),\n Row(_id='60039c032bc0240991bb75e8', X=-4.56926, Y=48.13976, geometry=<shapely.geometry.polygon.Polygon object at 0x11ea53220>),\n Row(_id='60039e032bc02409910fb449', X=-4.476655, Y=48.38109, geometry=<shapely.geometry.polygon.Polygon object at 0x11ea532e0>),\n Row(_id='60039bef2bc0240991b16850', X=-4.501128, Y=48.356773, geometry=<shapely.geometry.polygon.Polygon object at 0x11ea533a0>)]"
     },
     "metadata": {},
     "output_type": "display_data"
    },
    {
     "name": "stdout",
     "output_type": "stream",
     "text": [
      "root\n",
      " |-- _id: string (nullable = true)\n",
      " |-- X: double (nullable = true)\n",
      " |-- Y: double (nullable = true)\n",
      " |-- geometry: geometry (nullable = true)\n",
      "\n"
     ]
    }
   ],
   "source": [
    "#Step 1\n",
    "pointSet_B_SQL = sqlContext.createDataFrame(pointSet_A_MBB)\n",
    "display(pointSet_B_SQL.head(10))\n",
    "\n",
    "pointSet_B_SQL.printSchema()\n",
    "\n",
    "pointSet_B_SQL.registerTempTable(\"raw_data\")"
   ],
   "metadata": {
    "collapsed": false,
    "pycharm": {
     "name": "#%%\n"
    }
   }
  },
  {
   "cell_type": "code",
   "execution_count": 11,
   "outputs": [
    {
     "name": "stdout",
     "output_type": "stream",
     "text": [
      "+--------------------+----------+---------+--------------------+--------------------+----------+---------+--------------------+\n",
      "|                 _id|         X|        Y|            geometry|                 _id|         X|        Y|            geometry|\n",
      "+--------------------+----------+---------+--------------------+--------------------+----------+---------+--------------------+\n",
      "|600398982bc024099...| -4.993778|  47.6649|POLYGON ((-4.8602...|600398982bc024099...| -4.993778|  47.6649|POLYGON ((-4.8602...|\n",
      "|600398982bc024099...|-5.2876334|47.815315|POLYGON ((-5.1537...|600398982bc024099...|-5.2876334|47.815315|POLYGON ((-5.1537...|\n",
      "|600398982bc024099...| -5.374895|  48.3804|POLYGON ((-5.2394...|600398982bc024099...| -5.374895|  48.3804|POLYGON ((-5.2394...|\n",
      "|600398982bc024099...| -5.335962| 48.55122|POLYGON ((-5.2001...|600398982bc024099...| -5.335962| 48.55122|POLYGON ((-5.2001...|\n",
      "|600398982bc024099...|-7.3271866| 46.90078|POLYGON ((-7.1955...|600398982bc024099...|-7.3271866| 46.90078|POLYGON ((-7.1955...|\n",
      "|600398c72bc024099...| -4.770685|48.042755|POLYGON ((-4.6361...|600398c72bc024099...| -4.770685|48.042755|POLYGON ((-4.6361...|\n",
      "|600398c72bc024099...|-4.7737417|48.058914|POLYGON ((-4.6391...|600398c72bc024099...|-4.7737417|48.058914|POLYGON ((-4.6391...|\n",
      "|600398c72bc024099...| -4.775483|48.089893|POLYGON ((-4.6408...|600398c72bc024099...| -4.775483|48.089893|POLYGON ((-4.6408...|\n",
      "|600398c72bc024099...| -4.765635|48.193073|POLYGON ((-4.6307...|600398c72bc024099...| -4.765635|48.193073|POLYGON ((-4.6307...|\n",
      "|600398ce2bc024099...| -4.485745|48.379807|POLYGON ((-4.3503...|600398ce2bc024099...| -4.485745|48.379807|POLYGON ((-4.3503...|\n",
      "|600398ce2bc024099...| -4.485737|48.379807|POLYGON ((-4.3503...|600398ce2bc024099...| -4.485737|48.379807|POLYGON ((-4.3503...|\n",
      "|600398ce2bc024099...|-4.4857817|48.379814|POLYGON ((-4.3503...|600398ce2bc024099...|-4.4857817|48.379814|POLYGON ((-4.3503...|\n",
      "|600398ce2bc024099...| -4.485767|48.379814|POLYGON ((-4.3503...|600398ce2bc024099...| -4.485767|48.379814|POLYGON ((-4.3503...|\n",
      "|600398ce2bc024099...|  -4.48577|48.379818|POLYGON ((-4.3503...|600398ce2bc024099...|  -4.48577|48.379818|POLYGON ((-4.3503...|\n",
      "|600398ce2bc024099...| -4.485765| 48.37982|POLYGON ((-4.3503...|600398ce2bc024099...| -4.485765| 48.37982|POLYGON ((-4.3503...|\n",
      "|600398ce2bc024099...| -4.485765|48.379826|POLYGON ((-4.3503...|600398ce2bc024099...| -4.485765|48.379826|POLYGON ((-4.3503...|\n",
      "|600398ce2bc024099...| -4.485767|48.379837|POLYGON ((-4.3503...|600398ce2bc024099...| -4.485767|48.379837|POLYGON ((-4.3503...|\n",
      "|600398ce2bc024099...| -4.485785| 48.37984|POLYGON ((-4.3503...|600398ce2bc024099...| -4.485785| 48.37984|POLYGON ((-4.3503...|\n",
      "|600398d12bc024099...| -4.722665|47.903667|POLYGON ((-4.5885...|600398d12bc024099...| -4.722665|47.903667|POLYGON ((-4.5885...|\n",
      "|600398d12bc024099...| -4.735665|47.921833|POLYGON ((-4.6014...|600398d12bc024099...| -4.735665|47.921833|POLYGON ((-4.6014...|\n",
      "+--------------------+----------+---------+--------------------+--------------------+----------+---------+--------------------+\n",
      "only showing top 20 rows\n",
      "\n"
     ]
    }
   ],
   "source": [
    "#Step 2\n",
    "ta = pointSet_A_SQL.alias('ta')\n",
    "tb = pointSet_B_SQL.alias('tb')\n",
    "\n",
    "# Step 3\n",
    "inner_join = ta.join(tb, ta._id == tb._id)\n",
    "inner_join.show()"
   ],
   "metadata": {
    "collapsed": false,
    "pycharm": {
     "name": "#%%\n"
    }
   }
  },
  {
   "cell_type": "markdown",
   "source": [
    "## Perorm Spatial Join\n",
    "\n",
    "- The idea here is to perform a spatial join by checking intersection between geometry property of 2 datasets\n",
    "- In order to achive this we have"
   ],
   "metadata": {
    "collapsed": false,
    "pycharm": {
     "name": "#%% md\n"
    }
   }
  },
  {
   "cell_type": "code",
   "execution_count": 12,
   "outputs": [
    {
     "name": "stdout",
     "output_type": "stream",
     "text": [
      "+--------------------+----+\n",
      "|                 _id|freq|\n",
      "+--------------------+----+\n",
      "|60039bbe2bc024099...| 816|\n",
      "|60039bbe2bc024099...| 816|\n",
      "|60039a922bc024099...| 816|\n",
      "|60039dd32bc024099...| 816|\n",
      "|600399ca2bc024099...| 816|\n",
      "|60039a912bc024099...| 816|\n",
      "|600398ee2bc024099...| 816|\n",
      "|60039a6b2bc024099...| 816|\n",
      "|60039bef2bc024099...| 816|\n",
      "|60039b8e2bc024099...| 816|\n",
      "|60039bef2bc024099...| 816|\n",
      "|600398982bc024099...|  11|\n",
      "|60039e0d2bc024099...|   7|\n",
      "|60039bef2bc024099...| 816|\n",
      "|60039bef2bc024099...| 816|\n",
      "|600399bc2bc024099...| 106|\n",
      "|60039b8e2bc024099...| 816|\n",
      "|60039e642bc024099...| 816|\n",
      "|60039a692bc024099...| 816|\n",
      "|60039bef2bc024099...| 816|\n",
      "+--------------------+----+\n",
      "only showing top 20 rows\n",
      "\n",
      "--- 162.53914880752563 seconds ---\n"
     ]
    }
   ],
   "source": [
    "# timing procedure\n",
    "start_time = time.time()\n",
    "\n",
    "sampleA = pointSet_A_SQL.limit(1000)\n",
    "sampleB = pointSet_B_SQL.limit(1000)\n",
    "\n",
    "sampleA.createOrReplaceTempView(\"sampleA\")\n",
    "sampleB.createOrReplaceTempView(\"sampleB\")\n",
    "\n",
    "spatial_join_result = spark.sql(\n",
    "    \"\"\"\n",
    "        SELECT A._id, count(*) as freq\n",
    "        FROM sampleA AS A, sampleB AS B\n",
    "        WHERE ST_Intersects(A.geometry, B.geometry)\n",
    "        GROUP BY A._id\n",
    "    \"\"\"\n",
    ")\n",
    "\n",
    "spatial_join_result.show()\n",
    "print(\"--- %s seconds ---\" % (time.time() - start_time))"
   ],
   "metadata": {
    "collapsed": false,
    "pycharm": {
     "name": "#%%\n"
    }
   }
  },
  {
   "cell_type": "code",
   "execution_count": 13,
   "outputs": [
    {
     "name": "stdout",
     "output_type": "stream",
     "text": [
      "--- TOTAL EXECUTION TIME ---\n",
      "--- 321.267569065094 seconds ---\n"
     ]
    }
   ],
   "source": [
    "print(\"--- TOTAL EXECUTION TIME ---\\n--- %s seconds ---\" % (time.time() - total_time))\n"
   ],
   "metadata": {
    "collapsed": false,
    "pycharm": {
     "name": "#%%\n"
    }
   }
  }
 ],
 "metadata": {
  "kernelspec": {
   "display_name": "Python 3",
   "language": "python",
   "name": "python3"
  },
  "language_info": {
   "codemirror_mode": {
    "name": "ipython",
    "version": 2
   },
   "file_extension": ".py",
   "mimetype": "text/x-python",
   "name": "python",
   "nbconvert_exporter": "python",
   "pygments_lexer": "ipython2",
   "version": "2.7.6"
  }
 },
 "nbformat": 4,
 "nbformat_minor": 0
}